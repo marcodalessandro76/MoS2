{
 "cells": [
  {
   "cell_type": "code",
   "execution_count": 1,
   "id": "d8b8903f-2a56-45a5-a627-8c078b29beca",
   "metadata": {},
   "outputs": [],
   "source": [
    "# useful to autoreload the module without restarting the kernel\n",
    "%load_ext autoreload\n",
    "%autoreload 2"
   ]
  },
  {
   "cell_type": "code",
   "execution_count": 2,
   "id": "440aebbe-cc91-4c16-8588-1a8971fa4832",
   "metadata": {},
   "outputs": [],
   "source": [
    "from mppi import InputFiles as I, Calculators as C, Datasets as D, Parsers as P, Utilities as U\n",
    "from mppi.Utilities import Tools\n",
    "from mppi.Datasets import PostProcessing as PP\n",
    "from mppi.Utilities import Constants as Const\n",
    "import matplotlib.pyplot as plt\n",
    "import numpy as np\n",
    "import os, yaml\n",
    "#import pybinding as pb"
   ]
  },
  {
   "cell_type": "code",
   "execution_count": 4,
   "id": "9b7d01c3-2faf-48cc-b9c3-1fd813e9a965",
   "metadata": {},
   "outputs": [
    {
     "name": "stdout",
     "output_type": "stream",
     "text": [
      "Initialize a QuantumESPRESSO calculator with scheduler direct\n"
     ]
    },
    {
     "data": {
      "text/plain": [
       "{'scheduler': 'direct',\n",
       " 'mpi': 4,\n",
       " 'omp_num_threads': 2,\n",
       " 'executable': 'pw.x',\n",
       " 'skip': True,\n",
       " 'clean_restart': True,\n",
       " 'dry_run': False,\n",
       " 'wait_end_run': True,\n",
       " 'activate_BeeOND': False,\n",
       " 'verbose': True}"
      ]
     },
     "execution_count": 4,
     "metadata": {},
     "output_type": "execute_result"
    }
   ],
   "source": [
    "# RunRules for local computations\n",
    "mpi = 4\n",
    "omp = 2\n",
    "\n",
    "rr = C.RunRules(omp_num_threads=omp,mpi=mpi)\n",
    "code = C.QeCalculator(rr)\n",
    "code.global_options()"
   ]
  },
  {
   "cell_type": "code",
   "execution_count": null,
   "id": "7f849d39-dc30-4225-abf0-ef50b8eced86",
   "metadata": {},
   "outputs": [],
   "source": [
    "# RunRules for ismhpc\n",
    "# The product of ntasks_per_node*cpus_per_task is equal to 32. \n",
    "# Many mpi are needed for better performances\n",
    "nodes = 1\n",
    "ntasks_per_node = 16\n",
    "cpus_per_task=2\n",
    "omp_num_threads=2\n",
    "\n",
    "ntasks = nodes*ntasks_per_node\n",
    "\n",
    "rr = C.RunRules(scheduler='slurm',partition='all12h',\n",
    "                memory='125000',time='11:59:00',\n",
    "                nodes=nodes,ntasks_per_node=ntasks_per_node,\n",
    "                cpus_per_task=cpus_per_task,\n",
    "                omp_num_threads=omp_num_threads)\n",
    "code = C.QeCalculator(rr,activate_BeeOND=True) #,skip=False,clean_restart=False\n",
    "#code.global_options()"
   ]
  },
  {
   "cell_type": "code",
   "execution_count": 5,
   "id": "61f8944e-574e-4361-a69e-479c12943f5b",
   "metadata": {},
   "outputs": [],
   "source": [
    "# RunRules for m100\n",
    "nodes = 1\n",
    "ntasks_per_node = 4\n",
    "cpus_per_task=32\n",
    "omp_num_threads=8\n",
    "gpus_per_node=4\n",
    "pe=8\n",
    "\n",
    "ntasks = nodes*ntasks_per_node\n",
    "\n",
    "rr = C.RunRules(scheduler='slurm',partition='m100_usr_prod',\n",
    "                account='IscrC_AlNWS2',\n",
    "                memory='120GB',time='23:59:00',\n",
    "                nodes=nodes,ntasks_per_node=ntasks_per_node,\n",
    "                cpus_per_task=cpus_per_task,omp_num_threads=omp_num_threads,\n",
    "                gpus_per_node=gpus_per_node,pe=pe,\n",
    "                map_by='socket',rank_by='core')\n",
    "code = C.QeCalculator(rr)\n",
    "#code.global_options()"
   ]
  },
  {
   "cell_type": "markdown",
   "id": "d8d8a42a-0211-4695-a820-1f029cb9ec8e",
   "metadata": {
    "tags": []
   },
   "source": [
    "# DFT analysis of the 2D MoS$_2$"
   ]
  },
  {
   "cell_type": "markdown",
   "id": "5f5ace36-aff8-457a-847a-cdf1650ef4c7",
   "metadata": {},
   "source": [
    "This notebook contains the DFT analysis of the 2D MoS$_2$ performed with QuantumESPRESSO"
   ]
  },
  {
   "cell_type": "markdown",
   "id": "4aeac944-6800-4bc9-87b7-9b57951b462f",
   "metadata": {
    "tags": []
   },
   "source": [
    "## Lattice properties and atomic positions"
   ]
  },
  {
   "cell_type": "markdown",
   "id": "80069ccb-13d8-4c84-8b18-84b2a334b3ed",
   "metadata": {},
   "source": [
    "We use the lattice configuration adopted by QuantumESPRESSO in the ibrav=4 case.\n",
    "\n",
    "The basis vector of the (direct) lattice are defined as\n",
    "$$\n",
    "a_1 = a_{lat}(1,0,0) \\, ,\\quad a_2 = a_{lat}(\\frac{-1}{2},\\frac{\\sqrt{3}}{2},0) \\, ,\\quad\n",
    "a_3 = a_{lat}(0,0,\\frac{c}{a_{lat}})\n",
    "$$\n",
    "so that $c$ vacuum space between two replica of the sheets, expressed in the same units as $a_{lat}$.\n",
    "We also observe that $\\textrm{celldm(3)}=c/a_{lat}$, so it expresses the vacuum distance in terms of \n",
    "$a_{lat}$."
   ]
  },
  {
   "cell_type": "markdown",
   "id": "c11e34ba-0713-4673-be7e-2cff43978c98",
   "metadata": {},
   "source": [
    "In cartesian coordinates the atomic positions read\n",
    "$$\n",
    "Mo = a_{lat}(0,\\frac{1}{\\sqrt{3}},0) \\, \\qquad S = a_{lat}(\\frac{1}{2},\\frac{1}{2\\sqrt{3}},\\delta) \\, \\quad\n",
    "S = a_{lat}(\\frac{1}{2},\\frac{1}{2\\sqrt{3}},-\\delta)\n",
    "$$\n",
    "where $\\delta$ is the buckling of the $S$ atoms in units of $a_{lat}$. Converted in crystal coordinates the atomic positions read\n",
    "$$\n",
    "Mo = (\\frac{1}{3},\\frac{2}{3},0) \\, \\qquad S = (\\frac{2}{3},\\frac{1}{3},\\delta_{cryst}) \\, \\quad\n",
    "S = (\\frac{2}{3},\\frac{1}{1},-\\delta_{cryst})\n",
    "$$\n",
    "where $\\delta = (c/a_{lat})\\delta_{cryst}$, so the cartesian buckling is equal to the crystal one multiplied times celldm(3)."
   ]
  },
  {
   "cell_type": "code",
   "execution_count": 48,
   "id": "96526bab-7895-448d-a6b6-0a2d720d7db7",
   "metadata": {},
   "outputs": [
    {
     "data": {
      "text/plain": [
       "0.49770840541744893"
      ]
     },
     "execution_count": 48,
     "metadata": {},
     "output_type": "execute_result"
    }
   ],
   "source": [
    "0.073413*c"
   ]
  },
  {
   "cell_type": "code",
   "execution_count": 50,
   "id": "c4fd7a7a-9c50-43ff-9476-054909721cd1",
   "metadata": {},
   "outputs": [
    {
     "data": {
      "text/plain": [
       "39.99999999949244"
      ]
     },
     "execution_count": 50,
     "metadata": {},
     "output_type": "execute_result"
    }
   ],
   "source": [
    "c*alat"
   ]
  },
  {
   "cell_type": "markdown",
   "id": "db4df15b-6ebf-48cc-9f80-00fb6507f1c8",
   "metadata": {
    "tags": []
   },
   "source": [
    "## GS Analysis"
   ]
  },
  {
   "cell_type": "markdown",
   "id": "4d98cc92-4e9d-473c-b629-0780ff1b03d5",
   "metadata": {},
   "source": [
    "We compute the electronic configuration of the GS."
   ]
  },
  {
   "cell_type": "code",
   "execution_count": 16,
   "id": "dff58a03-1739-4169-a683-e981e31b3d14",
   "metadata": {},
   "outputs": [],
   "source": [
    "pseudo_dir = '../pseudos'\n",
    "Mo_pseudo = 'Mo-fr.out'\n",
    "S_pseudo = 'S-fr.out'"
   ]
  },
  {
   "cell_type": "markdown",
   "id": "9e04174e-e59c-4e01-a651-e47126ced542",
   "metadata": {},
   "source": [
    "According to the results provided by Fulvio Paleari the converged atomic positions read "
   ]
  },
  {
   "cell_type": "code",
   "execution_count": 51,
   "id": "50576d68-004c-4792-8ee3-0635ccd0c1f4",
   "metadata": {},
   "outputs": [],
   "source": [
    "alat = 5.9000811881 # in a.u. (Bohr)\n",
    "c = 40.0 # vacuum distance in a.u. \n",
    "celldm3 = c/alat # in units of alat\n",
    "delta_cryst = 0.073413577 # buckling in crystal coordinates\n",
    "\n",
    "kpoints = [12,12,1]\n",
    "ecut_wf = 140.0 # energy cutoff of the wfs in Ry"
   ]
  },
  {
   "cell_type": "markdown",
   "id": "bcf6c620-8903-45fd-8cb3-883eb32ba068",
   "metadata": {},
   "source": [
    "Atomic positions in crystal coordinates"
   ]
  },
  {
   "cell_type": "code",
   "execution_count": 18,
   "id": "84270c16-cb9a-4bee-b5a2-2609bcfe1519",
   "metadata": {},
   "outputs": [],
   "source": [
    "Mo = np.array([1./3.,2./3.,0.])\n",
    "S1 = np.array([2./3.,1./3.,delta_cryst])\n",
    "S2 = np.array([2./3.,1./3.,-delta_cryst])"
   ]
  },
  {
   "cell_type": "markdown",
   "id": "66a916bd-b124-4ea9-a7b0-557f320e2aaa",
   "metadata": {},
   "source": [
    "We build the input"
   ]
  },
  {
   "cell_type": "code",
   "execution_count": 34,
   "id": "a8d0d50f-f738-4865-8cbd-8a8afdf13f20",
   "metadata": {},
   "outputs": [
    {
     "data": {
      "text/plain": [
       "{'control': {'calculation': \"'scf'\",\n",
       "  'verbosity': \"'high'\",\n",
       "  'prefix': \"'gs_analysis'\",\n",
       "  'outdir': \"'./'\",\n",
       "  'pseudo_dir': \"'../pseudos'\"},\n",
       " 'system': {'force_symmorphic': '.true.',\n",
       "  'lspinorb': '.true.',\n",
       "  'noncolin': '.true.',\n",
       "  'ntyp': '2',\n",
       "  'nat': '3',\n",
       "  'ibrav': 4,\n",
       "  'celldm(1)': 5.9000811881,\n",
       "  'celldm(3)': 6.7795677253,\n",
       "  'ecutwfc': 140.0},\n",
       " 'electrons': {'diago_full_acc': '.false.', 'conv_thr': 1e-06},\n",
       " 'ions': {},\n",
       " 'cell': {},\n",
       " 'atomic_species': {'Mo': [42.0, 'Mo-fr.out'], 'S': [16.0, 'S-fr.out']},\n",
       " 'atomic_positions': {'type': 'crystal',\n",
       "  'values': [['Mo', array([0.33333333, 0.66666667, 0.        ])],\n",
       "   ['S', array([0.66666667, 0.33333333, 0.07341358])],\n",
       "   ['S', array([ 0.66666667,  0.33333333, -0.07341358])]]},\n",
       " 'kpoints': {'type': 'automatic', 'values': ([12, 12, 1], [0.0, 0.0, 0.0])},\n",
       " 'cell_parameters': {}}"
      ]
     },
     "execution_count": 34,
     "metadata": {},
     "output_type": "execute_result"
    }
   ],
   "source": [
    "prefix = 'gs_analysis'\n",
    "\n",
    "inp = I.PwInput()\n",
    "inp.set_scf(force_symmorphic=True,conv_thr=1e-6)\n",
    "inp.set_prefix(prefix)\n",
    "#inp.set_num_bnds(32)\n",
    "inp.set_pseudo_dir(pseudo_dir=pseudo_dir)\n",
    "inp.set_spinorbit()\n",
    "inp.add_atom(atom='Mo',pseudo_name=Mo_pseudo,mass=42.00)\n",
    "inp.add_atom(atom='S',pseudo_name=S_pseudo,mass=16.00)\n",
    "inp.set_atoms_number(3)\n",
    "inp.set_atomic_positions([['Mo',Mo],['S',S1],['S',S2]],type='crystal')\n",
    "inp.set_lattice(ibrav=4,celldm1=alat,celldm3=celldm3)\n",
    "inp.set_kpoints(type='automatic',points=kpoints)\n",
    "inp.set_energy_cutoff(ecut_wf)\n",
    "inp"
   ]
  },
  {
   "cell_type": "markdown",
   "id": "1301afcc-096a-4aea-8e42-b8db0130a052",
   "metadata": {},
   "source": [
    "And we run the computation"
   ]
  },
  {
   "cell_type": "code",
   "execution_count": 35,
   "id": "db6b8171-8124-41a1-8f70-b83be9086281",
   "metadata": {},
   "outputs": [],
   "source": [
    "run_dir = 'GS'"
   ]
  },
  {
   "cell_type": "code",
   "execution_count": 36,
   "id": "953fbad3-3039-43c4-bde6-4d8f07e5a1d5",
   "metadata": {},
   "outputs": [
    {
     "name": "stdout",
     "output_type": "stream",
     "text": [
      "delete log file: GS/gs_analysis.log\n",
      "run command: mpirun -np 4 pw.x -inp gs_analysis.in > gs_analysis.log\n",
      "computation gs_analysis is running...\n"
     ]
    },
    {
     "name": "stderr",
     "output_type": "stream",
     "text": [
      "Note: The following floating-point exceptions are signalling: IEEE_DENORMAL\n",
      "Note: The following floating-point exceptions are signalling: IEEE_DENORMAL\n",
      "Note: The following floating-point exceptions are signalling: IEEE_DENORMAL\n",
      "Note: The following floating-point exceptions are signalling: IEEE_DENORMAL\n"
     ]
    },
    {
     "name": "stdout",
     "output_type": "stream",
     "text": [
      "computation gs_analysis ended\n"
     ]
    },
    {
     "data": {
      "text/plain": [
       "'/home/marco/Data/RICERCA/DFT AND MANY BODY/2D ELECTRONIC AND OPTICAL PROPERTIES/MoS2/GS/gs_analysis.save/data-file-schema.xml'"
      ]
     },
     "execution_count": 36,
     "metadata": {},
     "output_type": "execute_result"
    }
   ],
   "source": [
    "code.run(input=inp,run_dir=run_dir,name=prefix)"
   ]
  },
  {
   "cell_type": "code",
   "execution_count": null,
   "id": "c5aa2ac7-df57-462b-8f3b-323865d085ec",
   "metadata": {},
   "outputs": [],
   "source": []
  },
  {
   "cell_type": "code",
   "execution_count": null,
   "id": "8c639d9c-0b14-42ee-8c66-7b4eadf19d25",
   "metadata": {},
   "outputs": [],
   "source": []
  },
  {
   "cell_type": "code",
   "execution_count": null,
   "id": "43949438-5dfd-4ad3-a5fe-aef95dd79d7f",
   "metadata": {},
   "outputs": [],
   "source": []
  },
  {
   "cell_type": "markdown",
   "id": "fc7cd3c0-cdb1-4c72-a83e-d790259b8f11",
   "metadata": {},
   "source": [
    "## Band structure on high symmetry line"
   ]
  },
  {
   "cell_type": "code",
   "execution_count": null,
   "id": "de5a1e51-5784-4642-80c3-6ce39893d77d",
   "metadata": {},
   "outputs": [],
   "source": []
  },
  {
   "cell_type": "code",
   "execution_count": null,
   "id": "303540cd-dbcc-4e8c-a990-3b4c30e63f9a",
   "metadata": {},
   "outputs": [],
   "source": []
  },
  {
   "cell_type": "code",
   "execution_count": null,
   "id": "2c07efa2-14bf-4e17-b79b-ec8e77732958",
   "metadata": {},
   "outputs": [],
   "source": []
  },
  {
   "cell_type": "code",
   "execution_count": null,
   "id": "29e63a20-bda6-41c6-8f2a-9dac1432d56a",
   "metadata": {},
   "outputs": [],
   "source": []
  },
  {
   "cell_type": "code",
   "execution_count": null,
   "id": "fd3bcaa7-c118-40a2-9874-b71bccb5f66f",
   "metadata": {},
   "outputs": [],
   "source": []
  },
  {
   "cell_type": "code",
   "execution_count": 5,
   "id": "8b9ab2a2-1541-4be1-8dc9-017fe05553f6",
   "metadata": {},
   "outputs": [],
   "source": [
    "######################################################"
   ]
  },
  {
   "cell_type": "markdown",
   "id": "e4653fe1-14fd-45d0-8ac8-5222ea735e49",
   "metadata": {},
   "source": [
    "According to the original input provided by Fulvio Paleari the Mo and the two S atoms are located in \n",
    "$$\n",
    "Mo = \\left(\\frac{1}{3},\\frac{2}{3},0 \\right) \\\\\n",
    "S =  \\left(\\frac{2}{3},\\frac{1}{3},0.073413577 \\right) \\\\\n",
    "S = \\left(\\frac{2}{3},\\frac{1}{3},-0.073413577 \\right)\n",
    "$$\n",
    "expressed in crystal coordinates. \n",
    "$$\n",
    "Mo = a_{lat}\\left(0,\\frac{1}{\\sqrt{3}},0 \\right) \\\\\n",
    "S =  \\left(\\frac{2}{3},\\frac{1}{3},0.073413577 \\right) \\\\\n",
    "S = \\left(\\frac{2}{3},\\frac{1}{3},-0.073413577 \\right)\n",
    "$$"
   ]
  },
  {
   "cell_type": "code",
   "execution_count": null,
   "id": "0e03d70e-5389-419e-a2ee-a84e31964c68",
   "metadata": {},
   "outputs": [],
   "source": []
  },
  {
   "cell_type": "code",
   "execution_count": null,
   "id": "1e91ffe0-eaa5-4e38-b0fa-eaf4949fc4a4",
   "metadata": {},
   "outputs": [],
   "source": []
  },
  {
   "cell_type": "code",
   "execution_count": null,
   "id": "387c8e74-2394-4a4b-a975-6a8124f3c427",
   "metadata": {},
   "outputs": [],
   "source": []
  },
  {
   "cell_type": "code",
   "execution_count": null,
   "id": "494157ca-6431-4ffa-8a2f-0755c5d36f8b",
   "metadata": {},
   "outputs": [],
   "source": []
  },
  {
   "cell_type": "code",
   "execution_count": null,
   "id": "41a5caf7-45c2-4507-8948-aee084102b1e",
   "metadata": {},
   "outputs": [],
   "source": []
  },
  {
   "cell_type": "code",
   "execution_count": null,
   "id": "c689f475-525a-40b9-bb47-bff9ea343570",
   "metadata": {},
   "outputs": [],
   "source": []
  },
  {
   "cell_type": "code",
   "execution_count": null,
   "id": "7e16f56b-48f4-43ba-b9dc-2ffd51bb28ec",
   "metadata": {},
   "outputs": [],
   "source": []
  },
  {
   "cell_type": "code",
   "execution_count": null,
   "id": "1a5b711c-9a10-4ede-8ae0-c7acca5508e1",
   "metadata": {},
   "outputs": [],
   "source": []
  }
 ],
 "metadata": {
  "kernelspec": {
   "display_name": "Python 3 (ipykernel)",
   "language": "python",
   "name": "python3"
  },
  "language_info": {
   "codemirror_mode": {
    "name": "ipython",
    "version": 3
   },
   "file_extension": ".py",
   "mimetype": "text/x-python",
   "name": "python",
   "nbconvert_exporter": "python",
   "pygments_lexer": "ipython3",
   "version": "3.10.6"
  }
 },
 "nbformat": 4,
 "nbformat_minor": 5
}
