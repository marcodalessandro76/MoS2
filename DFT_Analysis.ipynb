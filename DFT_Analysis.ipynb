{
 "cells": [
  {
   "cell_type": "code",
   "execution_count": 1,
   "id": "d8b8903f-2a56-45a5-a627-8c078b29beca",
   "metadata": {},
   "outputs": [],
   "source": [
    "# useful to autoreload the module without restarting the kernel\n",
    "%load_ext autoreload\n",
    "%autoreload 2"
   ]
  },
  {
   "cell_type": "code",
   "execution_count": 2,
   "id": "440aebbe-cc91-4c16-8588-1a8971fa4832",
   "metadata": {},
   "outputs": [],
   "source": [
    "from mppi import InputFiles as I, Calculators as C, Datasets as D, Parsers as P, Utilities as U\n",
    "from mppi.Calculators import Tools\n",
    "from mppi.Datasets import PostProcessing as PP\n",
    "from mppi.Utilities import Constants as Const\n",
    "from mppi.Utilities import LatticeUtils as LL\n",
    "import matplotlib.pyplot as plt\n",
    "import numpy as np\n",
    "import os, yaml"
   ]
  },
  {
   "cell_type": "code",
   "execution_count": null,
   "id": "9b7d01c3-2faf-48cc-b9c3-1fd813e9a965",
   "metadata": {},
   "outputs": [],
   "source": [
    "# RunRules for local computations\n",
    "mpi = 4\n",
    "omp = 2\n",
    "\n",
    "rr = C.RunRules(omp_num_threads=omp,mpi=mpi)\n",
    "code = C.QeCalculator(rr)\n",
    "#code.global_options()"
   ]
  },
  {
   "cell_type": "code",
   "execution_count": 3,
   "id": "7f849d39-dc30-4225-abf0-ef50b8eced86",
   "metadata": {},
   "outputs": [
    {
     "name": "stdout",
     "output_type": "stream",
     "text": [
      "Initialize a QuantumESPRESSO calculator with scheduler slurm\n"
     ]
    },
    {
     "data": {
      "text/plain": [
       "{'scheduler': 'slurm',\n",
       " 'nodes': 1,\n",
       " 'ntasks_per_node': 16,\n",
       " 'cpus_per_task': 2,\n",
       " 'omp_num_threads': 2,\n",
       " 'gpus_per_node': None,\n",
       " 'memory': '125000',\n",
       " 'time': '11:59:00',\n",
       " 'partition': 'all12h',\n",
       " 'account': None,\n",
       " 'qos': None,\n",
       " 'map_by': None,\n",
       " 'pe': 1,\n",
       " 'rank_by': None,\n",
       " 'executable': 'pw.x',\n",
       " 'skip': True,\n",
       " 'clean_restart': True,\n",
       " 'dry_run': False,\n",
       " 'wait_end_run': True,\n",
       " 'activate_BeeOND': True,\n",
       " 'verbose': True}"
      ]
     },
     "execution_count": 3,
     "metadata": {},
     "output_type": "execute_result"
    }
   ],
   "source": [
    "# RunRules for ismhpc\n",
    "# The product of ntasks_per_node*cpus_per_task is equal to 32. \n",
    "# Many mpi are needed for better performances\n",
    "nodes = 1\n",
    "ntasks_per_node = 16\n",
    "cpus_per_task=2\n",
    "omp_num_threads=2\n",
    "\n",
    "ntasks = nodes*ntasks_per_node\n",
    "\n",
    "rr = C.RunRules(scheduler='slurm',partition='all12h',\n",
    "                memory='125000',time='11:59:00',\n",
    "                nodes=nodes,ntasks_per_node=ntasks_per_node,\n",
    "                cpus_per_task=cpus_per_task,\n",
    "                omp_num_threads=omp_num_threads)\n",
    "code = C.QeCalculator(rr,activate_BeeOND=True) #,skip=False,clean_restart=False\n",
    "code.global_options()"
   ]
  },
  {
   "cell_type": "code",
   "execution_count": 5,
   "id": "61f8944e-574e-4361-a69e-479c12943f5b",
   "metadata": {},
   "outputs": [],
   "source": [
    "# RunRules for m100\n",
    "nodes = 1\n",
    "ntasks_per_node = 4\n",
    "cpus_per_task=32\n",
    "omp_num_threads=8\n",
    "gpus_per_node=4\n",
    "pe=8\n",
    "\n",
    "ntasks = nodes*ntasks_per_node\n",
    "\n",
    "rr = C.RunRules(scheduler='slurm',partition='m100_usr_prod',\n",
    "                account='IscrC_AlNWS2',\n",
    "                memory='120GB',time='23:59:00',\n",
    "                nodes=nodes,ntasks_per_node=ntasks_per_node,\n",
    "                cpus_per_task=cpus_per_task,omp_num_threads=omp_num_threads,\n",
    "                gpus_per_node=gpus_per_node,pe=pe,\n",
    "                map_by='socket',rank_by='core')\n",
    "code = C.QeCalculator(rr)\n",
    "#code.global_options()"
   ]
  },
  {
   "cell_type": "markdown",
   "id": "d8d8a42a-0211-4695-a820-1f029cb9ec8e",
   "metadata": {
    "tags": []
   },
   "source": [
    "# DFT analysis of the 2D MoS$_2$"
   ]
  },
  {
   "cell_type": "markdown",
   "id": "5f5ace36-aff8-457a-847a-cdf1650ef4c7",
   "metadata": {},
   "source": [
    "This notebook contains the DFT analysis of the 2D MoS$_2$ performed with QuantumESPRESSO"
   ]
  },
  {
   "cell_type": "markdown",
   "id": "4aeac944-6800-4bc9-87b7-9b57951b462f",
   "metadata": {
    "tags": []
   },
   "source": [
    "## Lattice properties and atomic positions"
   ]
  },
  {
   "cell_type": "markdown",
   "id": "80069ccb-13d8-4c84-8b18-84b2a334b3ed",
   "metadata": {},
   "source": [
    "We use the lattice configuration adopted by QuantumESPRESSO in the ibrav=4 case.\n",
    "\n",
    "The basis vector of the (direct) lattice are defined as\n",
    "$$\n",
    "a_1 = a_{lat}(1,0,0) \\, ,\\quad a_2 = a_{lat}(\\frac{-1}{2},\\frac{\\sqrt{3}}{2},0) \\, ,\\quad\n",
    "a_3 = a_{lat}(0,0,\\frac{c}{a_{lat}})\n",
    "$$\n",
    "so that $c$ vacuum space between two replica of the sheets, expressed in the same units as $a_{lat}$.\n",
    "We also observe that $\\textrm{celldm(3)}=c/a_{lat}$, so it expresses the vacuum distance in terms of \n",
    "$a_{lat}$."
   ]
  },
  {
   "cell_type": "markdown",
   "id": "957fc0a3-57c6-4f4c-aeeb-82555dceaf13",
   "metadata": {},
   "source": [
    "The cartesian component of the reciprocal lattice vectors (in units of $2\\pi/a_{alat}$) are given by:\n",
    "\n",
    "$$\n",
    "b_1 = (1,\\frac{1}{\\sqrt{3}}) \\, ,\\quad b_2 = (0,\\frac{2}{\\sqrt{3}},0) \\, ,\\quad\n",
    "b_3 = (0,0,\\frac{a}{c})\n",
    "$$\n",
    "The reciprocal vectors have module $2/\\sqrt{3}$.\n",
    "\n",
    "The cartesian coordinates of the high symmetry points of the reciprocal lattice (in units of $2\\pi/a_{alat}$) \n",
    "can be determined by performing the construction of the Brillouin zone: we find the points on at the half of\n",
    "the $b_1$ and $b_2$ vectors and build the path moving perpendicularly to the basis vector directions.\n",
    "The $M$ point (at the middle of the hexagon face) and the $K$ point (the edge point) are given by:\n",
    "$$\n",
    "M = (\\frac{1}{2},\\frac{1}{2\\sqrt{3}}) \\, \\quad\n",
    "K = (\\frac{2}{3},0) \n",
    "$$\n",
    "Moreover we write the coordinates of the symmetry related K' point (which corresponds to another edge of the hexagon)\n",
    "and M' point (middle point of the top edge of the hexagon): \n",
    "$$\n",
    "K' = (\\frac{1}{3},\\frac{1}{\\sqrt{3}}) \\, \\quad\n",
    "M' = (0,\\frac{1}{\\sqrt{3}}) \n",
    "$$\n",
    "These points, together with $\\Gamma$ define the IBZ edges in the representation of QuantumESPRESSO."
   ]
  },
  {
   "cell_type": "markdown",
   "id": "c11e34ba-0713-4673-be7e-2cff43978c98",
   "metadata": {},
   "source": [
    "In cartesian coordinates the atomic positions read\n",
    "$$\n",
    "Mo = a_{lat}(0,\\frac{1}{\\sqrt{3}},0) \\, \\qquad S_1 = a_{lat}(\\frac{1}{2},\\frac{1}{2\\sqrt{3}},\\delta) \\, \\quad\n",
    "S_2 = a_{lat}(\\frac{1}{2},\\frac{1}{2\\sqrt{3}},-\\delta)\n",
    "$$\n",
    "where $\\delta$ is the buckling of the $S$ atoms in units of $a_{lat}$. Converted in crystal coordinates the atomic positions read\n",
    "$$\n",
    "Mo_{cryst} = (\\frac{1}{3},\\frac{2}{3},0) \\, \\qquad S_{1-cryst} = (\\frac{2}{3},\\frac{1}{3},\\delta_{cryst}) \\, \\quad\n",
    "S_{2-cryst} = (\\frac{2}{3},\\frac{1}{3},-\\delta_{cryst})\n",
    "$$\n",
    "where $\\delta = (c/a_{lat})\\delta_{cryst}$, so the cartesian buckling is equal to the crystal one multiplied times celldm(3)."
   ]
  },
  {
   "cell_type": "markdown",
   "id": "db4df15b-6ebf-48cc-9f80-00fb6507f1c8",
   "metadata": {
    "tags": []
   },
   "source": [
    "## GS Analysis"
   ]
  },
  {
   "cell_type": "markdown",
   "id": "4d98cc92-4e9d-473c-b629-0780ff1b03d5",
   "metadata": {},
   "source": [
    "We analyze the electronic configuration of the GS."
   ]
  },
  {
   "cell_type": "code",
   "execution_count": 4,
   "id": "dff58a03-1739-4169-a683-e981e31b3d14",
   "metadata": {},
   "outputs": [],
   "source": [
    "pseudo_dir = '../pseudos'\n",
    "Mo_pseudo = 'Mo-fr.out'\n",
    "S_pseudo = 'S-fr.out'"
   ]
  },
  {
   "cell_type": "markdown",
   "id": "9e04174e-e59c-4e01-a651-e47126ced542",
   "metadata": {},
   "source": [
    "According to the results provided by Fulvio Paleari the converged atomic positions read "
   ]
  },
  {
   "cell_type": "code",
   "execution_count": 33,
   "id": "50576d68-004c-4792-8ee3-0635ccd0c1f4",
   "metadata": {},
   "outputs": [],
   "source": [
    "alat = 5.9000811881 # in a.u. (Bohr)\n",
    "c = 40.0 # vacuum distance in a.u. \n",
    "celldm3 = c/alat # in units of alat\n",
    "delta_cryst = 0.073413577 # buckling in crystal coordinates\n",
    "delta = celldm3*delta_cryst"
   ]
  },
  {
   "cell_type": "markdown",
   "id": "bcf6c620-8903-45fd-8cb3-883eb32ba068",
   "metadata": {},
   "source": [
    "Atomic positions in cartesian and crystal coordinates and lattice vectors"
   ]
  },
  {
   "cell_type": "code",
   "execution_count": 6,
   "id": "84270c16-cb9a-4bee-b5a2-2609bcfe1519",
   "metadata": {},
   "outputs": [],
   "source": [
    "# cartesian coordinates expressed in units of alat\n",
    "Mo_cart = np.array([0,1./np.sqrt(3.),0.])\n",
    "S1_cart = np.array([1./2.,1./(2*np.sqrt(3.)),delta])\n",
    "S2_cart = np.array([1./2.,1./(2*np.sqrt(3.)),-delta])\n",
    "\n",
    "# crystal coordinates\n",
    "Mo_cryst = np.array([1./3.,2./3.,0.])\n",
    "S1_cryst = np.array([2./3.,1./3.,delta_cryst])\n",
    "S2_cryst = np.array([2./3.,1./3.,-delta_cryst])\n",
    "\n",
    "lattice = alat*np.array([[1,0,0],[-1./2.,np.sqrt(3)/2.,0],[0,0,celldm3]])\n",
    "atoms = [['Mo',alat*Mo_cart],['S',alat*S1_cart],['S',alat*S2_cart]]"
   ]
  },
  {
   "cell_type": "markdown",
   "id": "de35f94c-7b46-43fa-b54e-260f16465c78",
   "metadata": {},
   "source": [
    "We plot the lattice in xy and xz directions"
   ]
  },
  {
   "cell_type": "code",
   "execution_count": 7,
   "id": "22b85094-c4a8-4acb-888c-386ad7acdf15",
   "metadata": {},
   "outputs": [],
   "source": [
    "positions = LL.build_lattice(lattice,atoms,8,8,1)\n",
    "#positions"
   ]
  },
  {
   "cell_type": "code",
   "execution_count": 8,
   "id": "003d32ce-045c-4bf5-b1c6-ab854387d00c",
   "metadata": {},
   "outputs": [
    {
     "data": {
      "text/plain": [
       "<matplotlib.legend.Legend at 0x7f5022ff44e0>"
      ]
     },
     "execution_count": 8,
     "metadata": {},
     "output_type": "execute_result"
    },
    {
     "data": {
      "image/png": "[encoded data removed]",
      "text/plain": [
       "<Figure size 432x288 with 1 Axes>"
      ]
     },
     "metadata": {
      "needs_background": "light"
     },
     "output_type": "display_data"
    }
   ],
   "source": [
    "for pos in positions:\n",
    "    plt.scatter(pos[1],pos[2],label=pos[0])\n",
    "plt.title('Atomic positions in the xy plane',size=12)\n",
    "plt.legend()"
   ]
  },
  {
   "cell_type": "code",
   "execution_count": 9,
   "id": "94acea83-eb9f-4af4-bfde-49eb99d6a4f2",
   "metadata": {},
   "outputs": [
    {
     "data": {
      "text/plain": [
       "<matplotlib.legend.Legend at 0x7f5020eb9b00>"
      ]
     },
     "execution_count": 9,
     "metadata": {},
     "output_type": "execute_result"
    },
    {
     "data": {
      "image/png": "[encoded data removed]",
      "text/plain": [
       "<Figure size 432x288 with 1 Axes>"
      ]
     },
     "metadata": {
      "needs_background": "light"
     },
     "output_type": "display_data"
    }
   ],
   "source": [
    "for pos in positions:\n",
    "    plt.scatter(pos[1],pos[3],label=pos[0])\n",
    "plt.title('Atomic positions in the xz plane',size=12)\n",
    "plt.legend()"
   ]
  },
  {
   "cell_type": "markdown",
   "id": "0d098415-a65c-428c-8d10-22436eafc8ae",
   "metadata": {
    "tags": []
   },
   "source": [
    "### Convergence procedure on the $k$-points sampling and of energy cutoff of the wave functions"
   ]
  },
  {
   "cell_type": "markdown",
   "id": "21295364-65e0-4691-bf1f-e4b70a6fa8fc",
   "metadata": {},
   "source": [
    "We perform a set of calculations in functions of the number of k-points and of the energy cutoff and we find\n",
    "the converged values using the total ground state energy, the gap at $K$ and the gap at $\\Gamma$ as control quantities."
   ]
  },
  {
   "cell_type": "code",
   "execution_count": 13,
   "id": "ac3e9f3e-3fe0-404c-b4ec-8fa3024b4480",
   "metadata": {},
   "outputs": [],
   "source": [
    "run_dir = 'DFT_analysis'"
   ]
  },
  {
   "cell_type": "markdown",
   "id": "bf2b832a-6f63-42c9-a6c4-d0b8b3a91fd1",
   "metadata": {},
   "source": [
    "We build the basic elements of the input "
   ]
  },
  {
   "cell_type": "code",
   "execution_count": 14,
   "id": "c8c748f0-f274-49e3-afa4-89894fba211b",
   "metadata": {},
   "outputs": [
    {
     "data": {
      "text/plain": [
       "{'control': {'calculation': \"'scf'\",\n",
       "  'verbosity': \"'high'\",\n",
       "  'prefix': \"'pwscf'\",\n",
       "  'outdir': \"'./'\",\n",
       "  'pseudo_dir': \"'../pseudos'\"},\n",
       " 'system': {'force_symmorphic': '.true.',\n",
       "  'nbnd': 28,\n",
       "  'lspinorb': '.true.',\n",
       "  'noncolin': '.true.',\n",
       "  'ntyp': '2',\n",
       "  'nat': '3',\n",
       "  'ibrav': 4,\n",
       "  'celldm(1)': 5.9000811881,\n",
       "  'celldm(3)': 6.779567725386027},\n",
       " 'electrons': {'diago_full_acc': '.false.', 'conv_thr': 1e-06},\n",
       " 'ions': {},\n",
       " 'cell': {},\n",
       " 'atomic_species': {'Mo': [42.0, 'Mo-fr.out'], 'S': [16.0, 'S-fr.out']},\n",
       " 'atomic_positions': {'type': 'alat',\n",
       "  'values': [['Mo', array([0.        , 0.57735027, 0.        ])],\n",
       "   ['S', array([0.5       , 0.28867513, 0.49771232])],\n",
       "   ['S', array([ 0.5       ,  0.28867513, -0.49771232])]]},\n",
       " 'kpoints': {},\n",
       " 'cell_parameters': {}}"
      ]
     },
     "execution_count": 14,
     "metadata": {},
     "output_type": "execute_result"
    }
   ],
   "source": [
    "inp = I.PwInput()\n",
    "inp.set_scf(force_symmorphic=True,conv_thr=1e-6)\n",
    "inp.set_num_bnds(28)\n",
    "inp.set_pseudo_dir(pseudo_dir=pseudo_dir)\n",
    "inp.set_spinorbit()\n",
    "inp.add_atom(atom='Mo',pseudo_name=Mo_pseudo,mass=42.00)\n",
    "inp.add_atom(atom='S',pseudo_name=S_pseudo,mass=16.00)\n",
    "inp.set_atoms_number(3)\n",
    "inp.set_atomic_positions([['Mo',Mo_cart],['S',S1_cart],['S',S2_cart]],type='alat')\n",
    "#inp.set_atomic_positions([['Mo',Mo_cryst],['S',S1_cryst],['S',S2_cryst]],type='crystal')\n",
    "inp.set_lattice(ibrav=4,celldm1=alat,celldm3=celldm3)\n",
    "inp"
   ]
  },
  {
   "cell_type": "code",
   "execution_count": 15,
   "id": "a2a1644d-73af-4f8e-9149-9ff58de178cc",
   "metadata": {},
   "outputs": [],
   "source": [
    "kvalues = [12,15]\n",
    "ecut = [40,60,80,100,120]"
   ]
  },
  {
   "cell_type": "code",
   "execution_count": 16,
   "id": "6af9a848-20cd-4c6c-9be9-31d4c6a227c9",
   "metadata": {},
   "outputs": [
    {
     "name": "stdout",
     "output_type": "stream",
     "text": [
      "Initialize a Dataset with 4 parallel tasks\n"
     ]
    }
   ],
   "source": [
    "study = D.Dataset(run_dir=run_dir,num_tasks=4)\n",
    "\n",
    "for k in kvalues:\n",
    "    for e in ecut:\n",
    "        idd = {'ecut' : e, 'k' : k}\n",
    "        inp.set_prefix(D.name_from_id(idd))\n",
    "        inp.set_kpoints(type='automatic',points=[k,k,1])\n",
    "        inp.set_energy_cutoff(e)\n",
    "        study.append_run(id=idd,input=inp,runner=code)\n",
    "    \n",
    "study.set_postprocessing_function(PP.pw_parse_data)"
   ]
  },
  {
   "cell_type": "code",
   "execution_count": 17,
   "id": "5d0fadb0-a5de-4f36-9d7f-7ab74be54293",
   "metadata": {},
   "outputs": [
    {
     "name": "stdout",
     "output_type": "stream",
     "text": [
      "Run the selection [0, 1, 2, 3, 4, 5, 6, 7, 8, 9] with the parallel task_groups [[0, 1, 2, 3], [4, 5, 6, 7], [8, 9]] \n",
      "\n",
      "Run the task [0, 1, 2, 3] \n",
      "Skip the run of Skip the run ofecut_40-k_12\n",
      " Skip the run ofecut_60-k_12 \n",
      "ecut_80-k_12\n",
      "Skip the run of ecut_100-k_12\n",
      "Task [0, 1, 2, 3] ended \n",
      " \n",
      "Run the task [4, 5, 6, 7] \n",
      "Skip the run of Skip the run of ecut_120-k_12ecut_40-k_15\n",
      "Skip the run of\n",
      " ecut_60-k_15\n",
      "Skip the run of ecut_80-k_15\n",
      "Task [4, 5, 6, 7] ended \n",
      " \n",
      "Run the task [8, 9] \n",
      "Skip the run of ecut_100-k_15Skip the run of\n",
      " ecut_120-k_15\n",
      "Task [8, 9] ended \n",
      " \n"
     ]
    }
   ],
   "source": [
    "results = study.run()"
   ]
  },
  {
   "cell_type": "code",
   "execution_count": 19,
   "id": "3dfe4780-edea-4f4d-a3ee-2c6aa43c7a86",
   "metadata": {},
   "outputs": [
    {
     "name": "stdout",
     "output_type": "stream",
     "text": [
      "12 [-132.5864804257916, -132.5756487604389, -132.5574392301788, -132.5569581918037, -132.5569038022347]\n",
      "15 [-132.5864648360196, -132.5756473112079, -132.5574393127679, -132.556958249201, -132.5569038818442]\n"
     ]
    },
    {
     "data": {
      "text/plain": [
       "<matplotlib.legend.Legend at 0x7f5043c5bf60>"
      ]
     },
     "execution_count": 19,
     "metadata": {},
     "output_type": "execute_result"
    },
    {
     "data": {
      "image/png": "[encoded data removed]",
      "text/plain": [
       "<Figure size 504x288 with 1 Axes>"
      ]
     },
     "metadata": {
      "needs_background": "light"
     },
     "output_type": "display_data"
    }
   ],
   "source": [
    "plt.figure(figsize=(7,4))\n",
    "plt.xlabel('energy cutoff (Ry)',size=16)\n",
    "plt.ylabel('Total energy (Ha)',size=16)\n",
    "for k in kvalues:\n",
    "    energy =study.fetch_results(id={'k':k},attribute='energy')\n",
    "    print(k,energy)\n",
    "    plt.plot(ecut,energy,label='k=%s'%k)\n",
    "    plt.scatter(ecut,energy)\n",
    "plt.legend()"
   ]
  },
  {
   "cell_type": "code",
   "execution_count": 20,
   "id": "2bebc76b-2a5e-43eb-bb66-34548a180fd2",
   "metadata": {},
   "outputs": [
    {
     "name": "stdout",
     "output_type": "stream",
     "text": [
      "12 [1.7907601771405592, 1.779899368613452, 1.7822396629370505, 1.782107054963031, 1.7820979470666745]\n",
      "15 [1.7905564359098394, 1.7799468072022848, 1.7822836169279013, 1.7822497635577297, 1.7821721352079174]\n"
     ]
    },
    {
     "data": {
      "text/plain": [
       "<matplotlib.legend.Legend at 0x7f5043c69ac8>"
      ]
     },
     "execution_count": 20,
     "metadata": {},
     "output_type": "execute_result"
    },
    {
     "data": {
      "image/png": "[encoded data removed]",
      "text/plain": [
       "<Figure size 504x288 with 1 Axes>"
      ]
     },
     "metadata": {
      "needs_background": "light"
     },
     "output_type": "display_data"
    }
   ],
   "source": [
    "plt.figure(figsize=(7,4))\n",
    "plt.xlabel('energy cutoff (Ry)',size=16)\n",
    "plt.ylabel('Energy gap (eV)',size=16)\n",
    "for k in kvalues:\n",
    "    data = study.fetch_results(id={'k':k})    \n",
    "    gap = [d.get_gap(verbose=False)['gap'] for d in data]\n",
    "    print(k,gap)\n",
    "    plt.plot(ecut,gap,label='k=%s'%k)\n",
    "    plt.scatter(ecut,gap)\n",
    "plt.legend()"
   ]
  },
  {
   "cell_type": "code",
   "execution_count": 21,
   "id": "76974043-1b41-4d5d-8c13-1e4977228e9b",
   "metadata": {},
   "outputs": [
    {
     "name": "stdout",
     "output_type": "stream",
     "text": [
      "12 [2.8366314290900174, 3.029014779004149, 3.0110235577398443, 3.010113660050341, 3.0100673561749383]\n",
      "15 [2.8374166962313847, 3.029026197755989, 3.010997972857227, 3.010152923717392, 3.0099340122088796]\n"
     ]
    },
    {
     "data": {
      "text/plain": [
       "<matplotlib.legend.Legend at 0x7f5043acf5c0>"
      ]
     },
     "execution_count": 21,
     "metadata": {},
     "output_type": "execute_result"
    },
    {
     "data": {
      "image/png": "[encoded data removed]",
      "text/plain": [
       "<Figure size 504x288 with 1 Axes>"
      ]
     },
     "metadata": {
      "needs_background": "light"
     },
     "output_type": "display_data"
    }
   ],
   "source": [
    "plt.figure(figsize=(7,4))\n",
    "plt.xlabel('energy cutoff (Ry)',size=16)\n",
    "plt.ylabel('Energy gap at $\\Gamma$ (eV)',size=16)\n",
    "for k in kvalues:\n",
    "    data = study.fetch_results(id={'k':k})    \n",
    "    gap_gamma = [d.get_evals()[0][26]- d.get_evals()[0][25] for d in data]\n",
    "    print(k,gap_gamma)\n",
    "    plt.plot(ecut,gap_gamma,label='k=%s'%k)\n",
    "    plt.scatter(ecut,gap_gamma)\n",
    "plt.legend()"
   ]
  },
  {
   "cell_type": "markdown",
   "id": "45196aae-0bbb-4351-9d96-1ee0e57b2279",
   "metadata": {},
   "source": [
    "On the basis of these results we choose"
   ]
  },
  {
   "cell_type": "code",
   "execution_count": 22,
   "id": "cdff6620-8027-4fb7-8e48-449445e5d4b3",
   "metadata": {},
   "outputs": [],
   "source": [
    "ecut_conv = 80 # energy cutoff on the wavefunction (Ry)\n",
    "kpoints_conv = [12,12,1]"
   ]
  },
  {
   "cell_type": "code",
   "execution_count": 23,
   "id": "71b216b9-f925-4ffb-9771-5c00137798ba",
   "metadata": {},
   "outputs": [],
   "source": [
    "inp.set_energy_cutoff(ecut_conv)\n",
    "inp.set_kpoints(type='automatic',points=kpoints_conv)"
   ]
  },
  {
   "cell_type": "markdown",
   "id": "10c40180-149c-47c2-9732-c2e4d747579e",
   "metadata": {
    "jp-MarkdownHeadingCollapsed": true,
    "tags": []
   },
   "source": [
    "### Calculation of the equilibrium lattice constants and buckling parameter"
   ]
  },
  {
   "cell_type": "markdown",
   "id": "900c458f-b1af-43d0-b258-afa803885332",
   "metadata": {},
   "source": [
    "We determine the equiblrium values of the lattice constant and of the buckling parameter by minimizing\n",
    "the GS energy"
   ]
  },
  {
   "cell_type": "code",
   "execution_count": 24,
   "id": "6c4d5190-4090-415c-8b7a-274b6202a9a8",
   "metadata": {},
   "outputs": [
    {
     "data": {
      "text/plain": [
       "(array([-1. , -0.5,  0. ,  0.5,  1. ]), array([-1. , -0.5,  0. ,  0.5,  1. ]))"
      ]
     },
     "execution_count": 24,
     "metadata": {},
     "output_type": "execute_result"
    }
   ],
   "source": [
    "alat_range = 2 # alat percentage variation\n",
    "alat_num = 5 # number of calculations\n",
    "delta_range = 2 # buckling percentage variation\n",
    "delta_num = 5 # number of calculations\n",
    "\n",
    "alat_span = np.linspace(-alat_range/2,alat_range/2,alat_num)\n",
    "\n",
    "delta_span = np.linspace(-delta_range/2,delta_range/2,delta_num)\n",
    "\n",
    "alat_span, delta_span"
   ]
  },
  {
   "cell_type": "code",
   "execution_count": 26,
   "id": "e4770980-aff6-40a2-9a9a-f567600114b3",
   "metadata": {},
   "outputs": [
    {
     "name": "stdout",
     "output_type": "stream",
     "text": [
      "Initialize a Dataset with 10 parallel tasks\n"
     ]
    }
   ],
   "source": [
    "study = D.Dataset(run_dir=run_dir,num_tasks=10)\n",
    "\n",
    "for a_span in alat_span:\n",
    "    for d_span in delta_span:\n",
    "        a = alat*(1+a_span/100)\n",
    "        d = delta*(1+d_span/100)\n",
    "        \n",
    "        Mo_cart = np.array([0,1./np.sqrt(3.),0.])\n",
    "        S1_cart = np.array([1./2.,1./(2*np.sqrt(3.)),d])\n",
    "        S2_cart = np.array([1./2.,1./(2*np.sqrt(3.)),-d])\n",
    "        idd = {'alat' : a_span, 'delta' : d_span}\n",
    "        inp.set_prefix(D.name_from_id(idd))\n",
    "        inp.set_atomic_positions([['Mo',Mo_cart],['S',S1_cart],['S',S2_cart]],type='alat')\n",
    "        inp.set_lattice(ibrav=4,celldm1=a,celldm3=c/a)\n",
    "        study.append_run(id=idd,input=inp,runner=code)\n",
    "    \n",
    "study.set_postprocessing_function(PP.pw_get_energy)\n",
    "#study.set_postprocessing_function(PP.pw_parse_data)"
   ]
  },
  {
   "cell_type": "code",
   "execution_count": 27,
   "id": "037f02e2-d36e-43f1-8816-207de85416ff",
   "metadata": {},
   "outputs": [
    {
     "name": "stdout",
     "output_type": "stream",
     "text": [
      "Run the selection [0, 1, 2, 3, 4, 5, 6, 7, 8, 9, 10, 11, 12, 13, 14, 15, 16, 17, 18, 19, 20, 21, 22, 23, 24] with the parallel task_groups [[0, 1, 2, 3, 4, 5, 6, 7, 8, 9], [10, 11, 12, 13, 14, 15, 16, 17, 18, 19], [20, 21, 22, 23, 24]] \n",
      "\n",
      "Run the task [0, 1, 2, 3, 4, 5, 6, 7, 8, 9] \n",
      "Skip the run of Skip the run ofalat_-1.0-delta_-1.0\n",
      " alat_-1.0-delta_-0.5Skip the run of\n",
      " alat_-1.0-delta_0.0\n",
      "Skip the run of alat_-1.0-delta_0.5\n",
      "Skip the run of alat_-1.0-delta_1.0\n",
      "Skip the run of alat_-0.5-delta_-1.0\n",
      "Skip the run of alat_-0.5-delta_-0.5Skip the run of\n",
      " alat_-0.5-delta_0.0\n",
      "Skip the run of alat_-0.5-delta_0.5\n",
      "Skip the run of alat_-0.5-delta_1.0\n",
      "Task [0, 1, 2, 3, 4, 5, 6, 7, 8, 9] ended \n",
      " \n",
      "Run the task [10, 11, 12, 13, 14, 15, 16, 17, 18, 19] \n",
      "Skip the run of Skip the run of\n",
      " alat_0.0-delta_-1.0alat_0.0-delta_-0.5Skip the run of\n",
      " alat_0.0-delta_0.0Skip the run of\n",
      " alat_0.0-delta_0.5\n",
      "Skip the run of alat_0.0-delta_1.0Skip the run of\n",
      " alat_0.5-delta_-1.0\n",
      "Skip the run of alat_0.5-delta_-0.5Skip the run of\n",
      " \n",
      "alat_0.5-delta_0.0Skip the run of alat_0.5-delta_0.5\n",
      "Skip the run of alat_0.5-delta_1.0\n",
      "Task [10, 11, 12, 13, 14, 15, 16, 17, 18, 19] ended \n",
      " \n",
      "Run the task [20, 21, 22, 23, 24] \n",
      "Skip the run of alat_1.0-delta_-1.0 Skip the run of\n",
      "Skip the run ofalat_1.0-delta_-0.5\n",
      " alat_1.0-delta_0.0Skip the run of\n",
      " alat_1.0-delta_0.5\n",
      "Skip the run of alat_1.0-delta_1.0\n",
      "Task [20, 21, 22, 23, 24] ended \n",
      " \n"
     ]
    }
   ],
   "source": [
    "results = study.run()"
   ]
  },
  {
   "cell_type": "code",
   "execution_count": 28,
   "id": "9361d214-0a76-4cc1-9e8d-1ae76f3d5ee3",
   "metadata": {},
   "outputs": [
    {
     "data": {
      "text/plain": [
       "<matplotlib.legend.Legend at 0x7f5043da20b8>"
      ]
     },
     "execution_count": 28,
     "metadata": {},
     "output_type": "execute_result"
    },
    {
     "data": {
      "image/png": "[encoded data removed]",
      "text/plain": [
       "<Figure size 648x504 with 1 Axes>"
      ]
     },
     "metadata": {
      "needs_background": "light"
     },
     "output_type": "display_data"
    }
   ],
   "source": [
    "plt.figure(figsize=(9,7))\n",
    "plt.xlabel('alat span (%)',size=16)\n",
    "plt.ylabel('Total energy (Ha)',size=16)\n",
    "for d_span in delta_span:\n",
    "    energy =study.fetch_results(id={'delta':d_span})\n",
    "    plt.plot(alat_span,energy,label=d_span)\n",
    "plt.legend()"
   ]
  },
  {
   "cell_type": "markdown",
   "id": "538265b8-dab1-479c-a10d-f63c49977c30",
   "metadata": {},
   "source": [
    "To find the optimal alat parameter we perform a quadratic fit of data (for delta=0)"
   ]
  },
  {
   "cell_type": "code",
   "execution_count": 29,
   "id": "2072b867-3963-4a06-be01-c606b8f0521a",
   "metadata": {},
   "outputs": [
    {
     "data": {
      "text/plain": [
       "[<matplotlib.lines.Line2D at 0x7f5020d11a20>]"
      ]
     },
     "execution_count": 29,
     "metadata": {},
     "output_type": "execute_result"
    },
    {
     "data": {
      "image/png": "[encoded data removed]",
      "text/plain": [
       "<Figure size 432x288 with 1 Axes>"
      ]
     },
     "metadata": {
      "needs_background": "light"
     },
     "output_type": "display_data"
    }
   ],
   "source": [
    "y =study.fetch_results(id={'delta':0.})\n",
    "x = [alat*(1+a/100) for a in alat_span]\n",
    "x_fit = np.linspace(x[0],x[-1],30)\n",
    "coeffs = np.polyfit(x,y,2)\n",
    "y_fit = [coeffs[0]*xx**2+coeffs[1]*xx+coeffs[2] for xx in x_fit]\n",
    "plt.plot(x,y)\n",
    "plt.plot(x_fit,y_fit)"
   ]
  },
  {
   "cell_type": "code",
   "execution_count": 30,
   "id": "91e1586f-e6b0-4ff2-b54d-d69e756ba571",
   "metadata": {},
   "outputs": [
    {
     "data": {
      "text/plain": [
       "5.901401607074741"
      ]
     },
     "execution_count": 30,
     "metadata": {},
     "output_type": "execute_result"
    }
   ],
   "source": [
    "x_eq = -coeffs[1]/(2*coeffs[0])\n",
    "x_eq"
   ]
  },
  {
   "cell_type": "markdown",
   "id": "cf970eff-23ab-457f-aef2-316e25355f97",
   "metadata": {},
   "source": [
    "In substantial agreement with the value already provided in the input.\n",
    "\n",
    "In the same way the optimal buckling is "
   ]
  },
  {
   "cell_type": "code",
   "execution_count": 31,
   "id": "29aae3bd-a0e7-4cfe-9416-8df9d40c2b2f",
   "metadata": {},
   "outputs": [
    {
     "data": {
      "text/plain": [
       "[<matplotlib.lines.Line2D at 0x7f504394c588>]"
      ]
     },
     "execution_count": 31,
     "metadata": {},
     "output_type": "execute_result"
    },
    {
     "data": {
      "image/png": "[encoded data removed]",
      "text/plain": [
       "<Figure size 432x288 with 1 Axes>"
      ]
     },
     "metadata": {
      "needs_background": "light"
     },
     "output_type": "display_data"
    }
   ],
   "source": [
    "y =study.fetch_results(id={'alat':0.})\n",
    "x = [delta*(1+a/100) for a in delta_span]\n",
    "x_fit = np.linspace(x[0],x[-1],30)\n",
    "coeffs = np.polyfit(x,y,2)\n",
    "y_fit = [coeffs[0]*xx**2+coeffs[1]*xx+coeffs[2] for xx in x_fit]\n",
    "plt.plot(x,y)\n",
    "plt.plot(x_fit,y_fit)"
   ]
  },
  {
   "cell_type": "code",
   "execution_count": 49,
   "id": "66f7bdec-5982-479f-a53c-44823fd8731a",
   "metadata": {},
   "outputs": [
    {
     "data": {
      "text/plain": [
       "0.497730467484591"
      ]
     },
     "execution_count": 49,
     "metadata": {},
     "output_type": "execute_result"
    }
   ],
   "source": [
    "x_eq = -coeffs[1]/(2*coeffs[0])\n",
    "x_eq"
   ]
  },
  {
   "cell_type": "markdown",
   "id": "5acd8b57-ddd3-4c7a-b6fa-d000302d3049",
   "metadata": {},
   "source": [
    "### Converged ground states"
   ]
  },
  {
   "cell_type": "markdown",
   "id": "9edbcd10-2a73-46ed-9dfe-8c933c8f6f7d",
   "metadata": {},
   "source": [
    "Finally we perform a last scf calculation with converged parameters"
   ]
  },
  {
   "cell_type": "code",
   "execution_count": 4,
   "id": "734342fb-8233-470d-a761-f79236df8ffd",
   "metadata": {},
   "outputs": [
    {
     "data": {
      "text/plain": [
       "{'control': {'calculation': \"'scf'\",\n",
       "  'verbosity': \"'high'\",\n",
       "  'prefix': \"'pwscf'\",\n",
       "  'outdir': \"'./'\",\n",
       "  'pseudo_dir': \"'../pseudos'\"},\n",
       " 'system': {'force_symmorphic': '.true.',\n",
       "  'nbnd': 28,\n",
       "  'lspinorb': '.true.',\n",
       "  'noncolin': '.true.',\n",
       "  'ntyp': '2',\n",
       "  'nat': '3',\n",
       "  'ibrav': 4,\n",
       "  'celldm(1)': 5.90140607,\n",
       "  'celldm(3)': 6.7780456937781945,\n",
       "  'ecutwfc': 80},\n",
       " 'electrons': {'diago_full_acc': '.false.', 'conv_thr': 1e-06},\n",
       " 'ions': {},\n",
       " 'cell': {},\n",
       " 'atomic_species': {'Mo': [42.0, 'Mo-fr.out'], 'S': [16.0, 'S-fr.out']},\n",
       " 'atomic_positions': {'type': 'alat',\n",
       "  'values': [['Mo', array([0.        , 0.57735027, 0.        ])],\n",
       "   ['S', array([0.5       , 0.28867513, 0.49773047])],\n",
       "   ['S', array([ 0.5       ,  0.28867513, -0.49773047])]]},\n",
       " 'kpoints': {'type': 'automatic', 'values': ([12, 12, 1], [0.0, 0.0, 0.0])},\n",
       " 'cell_parameters': {}}"
      ]
     },
     "execution_count": 4,
     "metadata": {},
     "output_type": "execute_result"
    }
   ],
   "source": [
    "run_dir = 'DFT_analysis'\n",
    "pseudo_dir = '../pseudos'\n",
    "Mo_pseudo = 'Mo-fr.out'\n",
    "S_pseudo = 'S-fr.out'\n",
    "\n",
    "alat_conv =  5.90140607 # in a.u. (Bohr)\n",
    "delta_conv = 0.49773047 # in units of alat\n",
    "c = 40.0 # vacuum distance in a.u. \n",
    "\n",
    "ecut_conv = 80 # energy cutoff on the wavefunction (Ry)\n",
    "kpoints_conv = [12,12,1]\n",
    "\n",
    "Mo_cart = np.array([0,1./np.sqrt(3.),0.])\n",
    "S1_cart = np.array([1./2.,1./(2*np.sqrt(3.)),delta_conv])\n",
    "S2_cart = np.array([1./2.,1./(2*np.sqrt(3.)),-delta_conv])\n",
    "\n",
    "inp = I.PwInput()\n",
    "inp.set_scf(force_symmorphic=True,conv_thr=1e-6)\n",
    "inp.set_num_bnds(28)\n",
    "inp.set_pseudo_dir(pseudo_dir=pseudo_dir)\n",
    "inp.set_spinorbit()\n",
    "inp.add_atom(atom='Mo',pseudo_name=Mo_pseudo,mass=42.00)\n",
    "inp.add_atom(atom='S',pseudo_name=S_pseudo,mass=16.00)\n",
    "inp.set_atoms_number(3)\n",
    "inp.set_atomic_positions([['Mo',Mo_cart],['S',S1_cart],['S',S2_cart]],type='alat')\n",
    "inp.set_lattice(ibrav=4,celldm1=alat_conv,celldm3=c/alat_conv)\n",
    "inp.set_energy_cutoff(ecut_conv)\n",
    "inp.set_kpoints(type='automatic',points=kpoints_conv)\n",
    "inp"
   ]
  },
  {
   "cell_type": "code",
   "execution_count": 12,
   "id": "23b48f95-2bf8-4f60-ad43-2e1c6dd973ed",
   "metadata": {},
   "outputs": [
    {
     "name": "stdout",
     "output_type": "stream",
     "text": [
      "Initialize a Dataset with 1 parallel tasks\n"
     ]
    }
   ],
   "source": [
    "study = D.Dataset(run_dir=run_dir,num_tasks=1)\n",
    "\n",
    "idd = 'gs_converged'\n",
    "inp.set_prefix(D.name_from_id(idd))\n",
    "study.append_run(id=idd,input=inp,runner=code)\n",
    "study.set_postprocessing_function(PP.pw_parse_data)"
   ]
  },
  {
   "cell_type": "code",
   "execution_count": 13,
   "id": "9488be58-5804-4c0d-859f-bffd77ec2202",
   "metadata": {},
   "outputs": [
    {
     "name": "stdout",
     "output_type": "stream",
     "text": [
      "Run the selection [0] with the parallel task_groups [[0]] \n",
      "\n",
      "Run the task [0] \n",
      "Skip the run of gs_converged\n",
      "Task [0] ended \n",
      " \n"
     ]
    }
   ],
   "source": [
    "results = study.run()"
   ]
  },
  {
   "cell_type": "code",
   "execution_count": 14,
   "id": "944bf1eb-8164-4be8-a156-7ee477f18463",
   "metadata": {},
   "outputs": [
    {
     "name": "stdout",
     "output_type": "stream",
     "text": [
      "Direct gap system\n",
      "=================\n",
      "Gap : 1.7805438740579023 eV\n"
     ]
    },
    {
     "data": {
      "text/plain": [
       "{'gap': 1.7805438740579023,\n",
       " 'direct_gap': 1.7805438740579023,\n",
       " 'position_cbm': 18,\n",
       " 'positon_vbm': 18}"
      ]
     },
     "execution_count": 14,
     "metadata": {},
     "output_type": "execute_result"
    }
   ],
   "source": [
    "results[0].get_gap()"
   ]
  },
  {
   "cell_type": "markdown",
   "id": "32f649a4-c230-487b-ab51-9407ca30b068",
   "metadata": {},
   "source": [
    "Gap at $\\Gamma$"
   ]
  },
  {
   "cell_type": "code",
   "execution_count": 15,
   "id": "6fe777a5-ad6b-40fb-8be2-1e55c8fcb21e",
   "metadata": {},
   "outputs": [
    {
     "data": {
      "text/plain": [
       "3.008639241620685"
      ]
     },
     "execution_count": 15,
     "metadata": {},
     "output_type": "execute_result"
    }
   ],
   "source": [
    "results[0].get_evals()[0][26]- results[0].get_evals()[0][25]"
   ]
  },
  {
   "cell_type": "markdown",
   "id": "119c3bd2-40ba-470d-ac36-20d3349f6d7c",
   "metadata": {
    "tags": []
   },
   "source": [
    "## Band structure on high symmetry line"
   ]
  },
  {
   "cell_type": "markdown",
   "id": "9ab616f3-9750-4201-b915-c5ff48944383",
   "metadata": {},
   "source": [
    "Now we perform the bands computation specifying the kpoints on a path. \n",
    "\n",
    "To define the path we write the coordinates of the high symmetry points (using the tpiba_b type of\n",
    "pw) and we make usage of the function build_kpath"
   ]
  },
  {
   "cell_type": "code",
   "execution_count": 5,
   "id": "18d47ce8-8a8d-4e0e-a163-ee5e7cf1e5fb",
   "metadata": {},
   "outputs": [],
   "source": [
    "bands_prefix = 'bands'\n",
    "G = [0.,0.,0.]\n",
    "Kp = [1./3.,1./np.sqrt(3),0.]\n",
    "Mp = [0.,1./np.sqrt(3),0.]\n",
    "high_sym = {'G':G,'K':Kp,'M':Mp} # useful to label the high-sym point on the path"
   ]
  },
  {
   "cell_type": "code",
   "execution_count": 6,
   "id": "f2e09439-c46a-4fc7-ba98-3036425f3086",
   "metadata": {},
   "outputs": [
    {
     "data": {
      "text/plain": [
       "[[0.0, 0.0, 0.0, 60],\n",
       " [0.0, 0.5773502691896258, 0.0, 60],\n",
       " [0.3333333333333333, 0.5773502691896258, 0.0, 60],\n",
       " [0.0, 0.0, 0.0, 0]]"
      ]
     },
     "execution_count": 6,
     "metadata": {},
     "output_type": "execute_result"
    }
   ],
   "source": [
    "klist = Tools.build_pw_kpath(G,Mp,Kp,G,numstep=60)\n",
    "klist"
   ]
  },
  {
   "cell_type": "code",
   "execution_count": 7,
   "id": "ff76a885-7e4f-4945-b537-6d922d737838",
   "metadata": {},
   "outputs": [
    {
     "data": {
      "text/plain": [
       "{'control': {'calculation': \"'bands'\",\n",
       "  'verbosity': \"'high'\",\n",
       "  'prefix': \"'bands'\",\n",
       "  'outdir': \"'./'\",\n",
       "  'pseudo_dir': \"'../pseudos'\"},\n",
       " 'system': {'force_symmorphic': '.true.',\n",
       "  'nbnd': 30,\n",
       "  'lspinorb': '.true.',\n",
       "  'noncolin': '.true.',\n",
       "  'ntyp': '2',\n",
       "  'nat': '3',\n",
       "  'ibrav': 4,\n",
       "  'celldm(1)': 5.90140607,\n",
       "  'celldm(3)': 6.7780456937781945,\n",
       "  'ecutwfc': 80},\n",
       " 'electrons': {'diago_full_acc': '.false.', 'conv_thr': 1e-06},\n",
       " 'ions': {},\n",
       " 'cell': {},\n",
       " 'atomic_species': {'Mo': [42.0, 'Mo-fr.out'], 'S': [16.0, 'S-fr.out']},\n",
       " 'atomic_positions': {'type': 'alat',\n",
       "  'values': [['Mo', array([0.        , 0.57735027, 0.        ])],\n",
       "   ['S', array([0.5       , 0.28867513, 0.49773047])],\n",
       "   ['S', array([ 0.5       ,  0.28867513, -0.49773047])]]},\n",
       " 'kpoints': {'type': 'tpiba_b',\n",
       "  'values': [[0.0, 0.0, 0.0, 60],\n",
       "   [0.0, 0.5773502691896258, 0.0, 60],\n",
       "   [0.3333333333333333, 0.5773502691896258, 0.0, 60],\n",
       "   [0.0, 0.0, 0.0, 0]]},\n",
       " 'cell_parameters': {}}"
      ]
     },
     "execution_count": 7,
     "metadata": {},
     "output_type": "execute_result"
    }
   ],
   "source": [
    "inp.set_bands(30,force_symmorphic=True,conv_thr=1e-6)\n",
    "inp.set_prefix(bands_prefix)\n",
    "inp.set_kpoints(type='tpiba_b',klist=klist)\n",
    "inp"
   ]
  },
  {
   "cell_type": "code",
   "execution_count": 8,
   "id": "e03a3d6f-4c08-4a94-8ceb-ff88e001adf2",
   "metadata": {},
   "outputs": [
    {
     "name": "stdout",
     "output_type": "stream",
     "text": [
      "Skip the run of bands\n",
      "The folder /work/dalessandro/2D_ELECTRONIC_OPTICAL_PROPERTIES/MoS2/DFT_analysis/bands.save already exists. Source_dir DFT_analysis/gs_converged.save not copied\n"
     ]
    }
   ],
   "source": [
    "results = code.run(input=inp,run_dir=run_dir,name=bands_prefix,source_dir='DFT_analysis/gs_converged.save')"
   ]
  },
  {
   "cell_type": "markdown",
   "id": "7a568cb6-2d68-4c6b-944a-cd6aecc2bfa8",
   "metadata": {},
   "source": [
    "Once that the computation is over we can create an instance of PwBands"
   ]
  },
  {
   "cell_type": "code",
   "execution_count": 9,
   "id": "7dfc12fd-3a47-4589-a3f3-7f307ae4e2ba",
   "metadata": {},
   "outputs": [],
   "source": [
    "bands = U.BandStructure.from_Pw(results,high_sym)"
   ]
  },
  {
   "cell_type": "code",
   "execution_count": 10,
   "id": "606fe57e-b265-494f-83f4-00d9939234bc",
   "metadata": {},
   "outputs": [
    {
     "data": {
      "text/plain": [
       "(['$\\\\Gamma$', '$\\\\Gamma$', 'K', 'M'],\n",
       " [0.0, 1.577350265701805, 0.9106835999999988, 0.57735027])"
      ]
     },
     "execution_count": 10,
     "metadata": {},
     "output_type": "execute_result"
    }
   ],
   "source": [
    "bands.get_high_sym_positions()"
   ]
  },
  {
   "cell_type": "code",
   "execution_count": 12,
   "id": "72e2728c-59e5-4b50-99a9-7fb77129709b",
   "metadata": {},
   "outputs": [
    {
     "data": {
      "image/png": "[encoded data removed]",
      "text/plain": [
       "<Figure size 720x576 with 1 Axes>"
      ]
     },
     "metadata": {
      "needs_background": "light"
     },
     "output_type": "display_data"
    }
   ],
   "source": [
    "label_size = 20\n",
    "\n",
    "fig, ax = plt.subplots(figsize=(10, 8))\n",
    "#ax.set_ylim(-5,7)\n",
    "bands.plot(plt,selection=[i for i in range(20,29)])\n",
    "ax.hlines(0.,0.,1.57,linestyles='-',color='gray',linewidth=1)\n",
    "ax.set_ylabel('Bands structure (eV)',size=label_size)\n",
    "ax.tick_params(axis='both', which='major', labelsize=label_size)\n",
    "\n",
    "#plt.savefig(fname='Plot/band_structure.eps',format='eps',bbox_inches = \"tight\")"
   ]
  },
  {
   "cell_type": "markdown",
   "id": "4d60af1e-94a8-454b-b847-e61c87836acf",
   "metadata": {
    "tags": []
   },
   "source": [
    "## NSCF computations on regular grids"
   ]
  },
  {
   "cell_type": "markdown",
   "id": "5e957914-c88b-4fcf-94a9-7a34e0ac84a9",
   "metadata": {},
   "source": [
    "We set up the nscf computations on regular grids.\n",
    "\n",
    "In agreement with the input provided by Fulvio Paleari we use  a 42x42x1 k-poinst sampling and 250 empty bands."
   ]
  },
  {
   "cell_type": "code",
   "execution_count": 5,
   "id": "2d482de1-2847-41af-846b-b3bd71e86147",
   "metadata": {},
   "outputs": [],
   "source": [
    "Gamma = np.array([0.,0.])\n",
    "K = np.array([2./3.,0])\n",
    "M = np.array([1./2.,1./(2*np.sqrt(3))])\n",
    "Kp = np.array([1./3.,1./np.sqrt(3)])\n",
    "Mp = np.array([0.,1./np.sqrt(3)])"
   ]
  },
  {
   "cell_type": "code",
   "execution_count": 6,
   "id": "5872c364-96ad-4047-a87c-f372c8551916",
   "metadata": {},
   "outputs": [
    {
     "data": {
      "text/plain": [
       "{'control': {'calculation': \"'nscf'\",\n",
       "  'verbosity': \"'high'\",\n",
       "  'prefix': \"'pwscf'\",\n",
       "  'outdir': \"'./'\",\n",
       "  'pseudo_dir': \"'../pseudos'\"},\n",
       " 'system': {'force_symmorphic': '.true.',\n",
       "  'nbnd': 250,\n",
       "  'lspinorb': '.true.',\n",
       "  'noncolin': '.true.',\n",
       "  'ntyp': '2',\n",
       "  'nat': '3',\n",
       "  'ibrav': 4,\n",
       "  'celldm(1)': 5.90140607,\n",
       "  'celldm(3)': 6.7780456937781945,\n",
       "  'ecutwfc': 80},\n",
       " 'electrons': {'diago_full_acc': '.false.', 'conv_thr': 1e-06},\n",
       " 'ions': {},\n",
       " 'cell': {},\n",
       " 'atomic_species': {'Mo': [42.0, 'Mo-fr.out'], 'S': [16.0, 'S-fr.out']},\n",
       " 'atomic_positions': {'type': 'alat',\n",
       "  'values': [['Mo', array([0.        , 0.57735027, 0.        ])],\n",
       "   ['S', array([0.5       , 0.28867513, 0.49773047])],\n",
       "   ['S', array([ 0.5       ,  0.28867513, -0.49773047])]]},\n",
       " 'kpoints': {'type': 'automatic', 'values': ([12, 12, 1], [0.0, 0.0, 0.0])},\n",
       " 'cell_parameters': {}}"
      ]
     },
     "execution_count": 6,
     "metadata": {},
     "output_type": "execute_result"
    }
   ],
   "source": [
    "nbnds = 250\n",
    "inp.set_nscf(nbnds,force_symmorphic=True,conv_thr=1e-6)\n",
    "inp"
   ]
  },
  {
   "cell_type": "code",
   "execution_count": 7,
   "id": "6158de2a-15db-446f-9a9f-bcdc184a4c70",
   "metadata": {},
   "outputs": [],
   "source": [
    "kvalues = [18,30,42]"
   ]
  },
  {
   "cell_type": "code",
   "execution_count": 8,
   "id": "e38422cb-1e04-46cf-b202-2829c55938fa",
   "metadata": {},
   "outputs": [
    {
     "name": "stdout",
     "output_type": "stream",
     "text": [
      "Initialize a Dataset with 1 parallel tasks\n"
     ]
    }
   ],
   "source": [
    "study = D.Dataset(run_dir=run_dir,num_tasks=1)\n",
    "study.set_postprocessing_function(PP.pw_parse_data)\n",
    "\n",
    "for k in kvalues:\n",
    "    idd = {'kpoints':k,'nbnds':nbnds}\n",
    "    inp.set_prefix(D.name_from_id(idd))\n",
    "    inp.set_kpoints(points=[k,k,1])\n",
    "    study.append_run(id=idd,input=inp,runner=code,source_dir='DFT_analysis/gs_converged.save')"
   ]
  },
  {
   "cell_type": "code",
   "execution_count": 9,
   "id": "cef5f9a1-ea58-4b33-b719-2fbfca2da5c0",
   "metadata": {},
   "outputs": [
    {
     "data": {
      "text/plain": [
       "{'label': 'Dataset',\n",
       " 'run_dir': 'DFT_analysis',\n",
       " 'num_tasks': 1,\n",
       " 'verbose': True,\n",
       " 'input': {'control': {'calculation': \"'nscf'\",\n",
       "   'verbosity': \"'high'\",\n",
       "   'prefix': \"'kpoints_18-nbnds_250'\",\n",
       "   'outdir': \"'./'\",\n",
       "   'pseudo_dir': \"'../pseudos'\"},\n",
       "  'system': {'force_symmorphic': '.true.',\n",
       "   'nbnd': 250,\n",
       "   'lspinorb': '.true.',\n",
       "   'noncolin': '.true.',\n",
       "   'ntyp': '2',\n",
       "   'nat': '3',\n",
       "   'ibrav': 4,\n",
       "   'celldm(1)': 5.90140607,\n",
       "   'celldm(3)': 6.7780456937781945,\n",
       "   'ecutwfc': 80},\n",
       "  'electrons': {'diago_full_acc': '.false.', 'conv_thr': 1e-06},\n",
       "  'ions': {},\n",
       "  'cell': {},\n",
       "  'atomic_species': {'Mo': [42.0, 'Mo-fr.out'], 'S': [16.0, 'S-fr.out']},\n",
       "  'atomic_positions': {'type': 'alat',\n",
       "   'values': [['Mo', array([0.        , 0.57735027, 0.        ])],\n",
       "    ['S', array([0.5       , 0.28867513, 0.49773047])],\n",
       "    ['S', array([ 0.5       ,  0.28867513, -0.49773047])]]},\n",
       "  'kpoints': {'type': 'automatic', 'values': ([18, 18, 1], [0.0, 0.0, 0.0])},\n",
       "  'cell_parameters': {}},\n",
       " 'source_dir': 'DFT_analysis/gs_converged.save',\n",
       " 'name': 'kpoints_18-nbnds_250'}"
      ]
     },
     "execution_count": 9,
     "metadata": {},
     "output_type": "execute_result"
    }
   ],
   "source": [
    "study.runs[0]"
   ]
  },
  {
   "cell_type": "code",
   "execution_count": 10,
   "id": "2936d7bf-43ae-4b8d-9cf0-99382f9fe33f",
   "metadata": {},
   "outputs": [
    {
     "name": "stdout",
     "output_type": "stream",
     "text": [
      "Run the selection [0, 1, 2] with the parallel task_groups [[0], [1], [2]] \n",
      "\n",
      "Run the task [0] \n",
      "Skip the run of kpoints_18-nbnds_250\n",
      "The folder /work/dalessandro/2D_ELECTRONIC_OPTICAL_PROPERTIES/MoS2/DFT_analysis/kpoints_18-nbnds_250.save already exists. Source_dir DFT_analysis/gs_converged.save not copied\n",
      "Task [0] ended \n",
      " \n",
      "Run the task [1] \n",
      "Skip the run of kpoints_30-nbnds_250\n",
      "The folder /work/dalessandro/2D_ELECTRONIC_OPTICAL_PROPERTIES/MoS2/DFT_analysis/kpoints_30-nbnds_250.save already exists. Source_dir DFT_analysis/gs_converged.save not copied\n",
      "Task [1] ended \n",
      " \n",
      "Run the task [2] \n",
      "Skip the run of kpoints_42-nbnds_250\n",
      "The folder /work/dalessandro/2D_ELECTRONIC_OPTICAL_PROPERTIES/MoS2/DFT_analysis/kpoints_42-nbnds_250.save already exists. Source_dir DFT_analysis/gs_converged.save not copied\n",
      "Task [2] ended \n",
      " \n"
     ]
    }
   ],
   "source": [
    "results = study.run()"
   ]
  },
  {
   "cell_type": "code",
   "execution_count": 15,
   "id": "c5665eb9-1a6c-404c-ac7e-3be7afb20091",
   "metadata": {},
   "outputs": [],
   "source": [
    "kp = results[2].kpoints # cartesian coordinates in units of 2\\pi/alat"
   ]
  },
  {
   "cell_type": "code",
   "execution_count": 16,
   "id": "f0627ce8-d57f-4eec-811a-7d42ea42f12a",
   "metadata": {},
   "outputs": [
    {
     "name": "stdout",
     "output_type": "stream",
     "text": [
      "number of kpoints = 169\n"
     ]
    },
    {
     "data": {
      "text/plain": [
       "<matplotlib.collections.PathCollection at 0x7fe363b2a518>"
      ]
     },
     "execution_count": 16,
     "metadata": {},
     "output_type": "execute_result"
    },
    {
     "data": {
      "image/png": "[encoded data removed]",
      "text/plain": [
       "<Figure size 432x288 with 1 Axes>"
      ]
     },
     "metadata": {
      "needs_background": "light"
     },
     "output_type": "display_data"
    }
   ],
   "source": [
    "BZ = [K, Kp, Mp]\n",
    "print('number of kpoints = %s'%len(kp))\n",
    "plt.plot(*np.column_stack(BZ),color='black')\n",
    "IBZ = [Gamma,Kp, Mp,Gamma]\n",
    "plt.plot(*np.column_stack(IBZ),color='red')\n",
    "plt.scatter(kp[:,0],kp[:,1],c='blue')"
   ]
  },
  {
   "cell_type": "code",
   "execution_count": null,
   "id": "41a5caf7-45c2-4507-8948-aee084102b1e",
   "metadata": {},
   "outputs": [],
   "source": []
  },
  {
   "cell_type": "code",
   "execution_count": null,
   "id": "c689f475-525a-40b9-bb47-bff9ea343570",
   "metadata": {},
   "outputs": [],
   "source": []
  },
  {
   "cell_type": "code",
   "execution_count": null,
   "id": "7e16f56b-48f4-43ba-b9dc-2ffd51bb28ec",
   "metadata": {},
   "outputs": [],
   "source": []
  },
  {
   "cell_type": "code",
   "execution_count": null,
   "id": "1a5b711c-9a10-4ede-8ae0-c7acca5508e1",
   "metadata": {},
   "outputs": [],
   "source": []
  }
 ],
 "metadata": {
  "kernelspec": {
   "display_name": "Python 3",
   "language": "python",
   "name": "python3"
  },
  "language_info": {
   "codemirror_mode": {
    "name": "ipython",
    "version": 3
   },
   "file_extension": ".py",
   "mimetype": "text/x-python",
   "name": "python",
   "nbconvert_exporter": "python",
   "pygments_lexer": "ipython3",
   "version": "3.6.8"
  }
 },
 "nbformat": 4,
 "nbformat_minor": 5
}
