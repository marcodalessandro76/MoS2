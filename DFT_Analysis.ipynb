{
 "cells": [
  {
   "cell_type": "code",
   "execution_count": 1,
   "id": "d8b8903f-2a56-45a5-a627-8c078b29beca",
   "metadata": {},
   "outputs": [],
   "source": [
    "# useful to autoreload the module without restarting the kernel\n",
    "%load_ext autoreload\n",
    "%autoreload 2"
   ]
  },
  {
   "cell_type": "code",
   "execution_count": 2,
   "id": "440aebbe-cc91-4c16-8588-1a8971fa4832",
   "metadata": {},
   "outputs": [],
   "source": [
    "from mppi import InputFiles as I, Calculators as C, Datasets as D, Parsers as P, Utilities as U\n",
    "from mppi.Utilities import Tools\n",
    "from mppi.Datasets import PostProcessing as PP\n",
    "from mppi.Utilities import Constants as Const\n",
    "from mppi.Utilities import LatticeUtils as LL\n",
    "import matplotlib.pyplot as plt\n",
    "import numpy as np\n",
    "import os, yaml\n",
    "#import pybinding as pb"
   ]
  },
  {
   "cell_type": "code",
   "execution_count": 4,
   "id": "9b7d01c3-2faf-48cc-b9c3-1fd813e9a965",
   "metadata": {},
   "outputs": [
    {
     "name": "stdout",
     "output_type": "stream",
     "text": [
      "Initialize a QuantumESPRESSO calculator with scheduler direct\n"
     ]
    },
    {
     "data": {
      "text/plain": [
       "{'scheduler': 'direct',\n",
       " 'mpi': 4,\n",
       " 'omp_num_threads': 2,\n",
       " 'executable': 'pw.x',\n",
       " 'skip': True,\n",
       " 'clean_restart': True,\n",
       " 'dry_run': False,\n",
       " 'wait_end_run': True,\n",
       " 'activate_BeeOND': False,\n",
       " 'verbose': True}"
      ]
     },
     "execution_count": 4,
     "metadata": {},
     "output_type": "execute_result"
    }
   ],
   "source": [
    "# RunRules for local computations\n",
    "mpi = 4\n",
    "omp = 2\n",
    "\n",
    "rr = C.RunRules(omp_num_threads=omp,mpi=mpi)\n",
    "code = C.QeCalculator(rr)\n",
    "code.global_options()"
   ]
  },
  {
   "cell_type": "code",
   "execution_count": null,
   "id": "7f849d39-dc30-4225-abf0-ef50b8eced86",
   "metadata": {},
   "outputs": [],
   "source": [
    "# RunRules for ismhpc\n",
    "# The product of ntasks_per_node*cpus_per_task is equal to 32. \n",
    "# Many mpi are needed for better performances\n",
    "nodes = 1\n",
    "ntasks_per_node = 16\n",
    "cpus_per_task=2\n",
    "omp_num_threads=2\n",
    "\n",
    "ntasks = nodes*ntasks_per_node\n",
    "\n",
    "rr = C.RunRules(scheduler='slurm',partition='all12h',\n",
    "                memory='125000',time='11:59:00',\n",
    "                nodes=nodes,ntasks_per_node=ntasks_per_node,\n",
    "                cpus_per_task=cpus_per_task,\n",
    "                omp_num_threads=omp_num_threads)\n",
    "code = C.QeCalculator(rr,activate_BeeOND=True) #,skip=False,clean_restart=False\n",
    "#code.global_options()"
   ]
  },
  {
   "cell_type": "code",
   "execution_count": 5,
   "id": "61f8944e-574e-4361-a69e-479c12943f5b",
   "metadata": {},
   "outputs": [],
   "source": [
    "# RunRules for m100\n",
    "nodes = 1\n",
    "ntasks_per_node = 4\n",
    "cpus_per_task=32\n",
    "omp_num_threads=8\n",
    "gpus_per_node=4\n",
    "pe=8\n",
    "\n",
    "ntasks = nodes*ntasks_per_node\n",
    "\n",
    "rr = C.RunRules(scheduler='slurm',partition='m100_usr_prod',\n",
    "                account='IscrC_AlNWS2',\n",
    "                memory='120GB',time='23:59:00',\n",
    "                nodes=nodes,ntasks_per_node=ntasks_per_node,\n",
    "                cpus_per_task=cpus_per_task,omp_num_threads=omp_num_threads,\n",
    "                gpus_per_node=gpus_per_node,pe=pe,\n",
    "                map_by='socket',rank_by='core')\n",
    "code = C.QeCalculator(rr)\n",
    "#code.global_options()"
   ]
  },
  {
   "cell_type": "markdown",
   "id": "d8d8a42a-0211-4695-a820-1f029cb9ec8e",
   "metadata": {
    "tags": []
   },
   "source": [
    "# DFT analysis of the 2D MoS$_2$"
   ]
  },
  {
   "cell_type": "markdown",
   "id": "5f5ace36-aff8-457a-847a-cdf1650ef4c7",
   "metadata": {},
   "source": [
    "This notebook contains the DFT analysis of the 2D MoS$_2$ performed with QuantumESPRESSO"
   ]
  },
  {
   "cell_type": "markdown",
   "id": "4aeac944-6800-4bc9-87b7-9b57951b462f",
   "metadata": {
    "tags": []
   },
   "source": [
    "## Lattice properties and atomic positions"
   ]
  },
  {
   "cell_type": "markdown",
   "id": "80069ccb-13d8-4c84-8b18-84b2a334b3ed",
   "metadata": {},
   "source": [
    "We use the lattice configuration adopted by QuantumESPRESSO in the ibrav=4 case.\n",
    "\n",
    "The basis vector of the (direct) lattice are defined as\n",
    "$$\n",
    "a_1 = a_{lat}(1,0,0) \\, ,\\quad a_2 = a_{lat}(\\frac{-1}{2},\\frac{\\sqrt{3}}{2},0) \\, ,\\quad\n",
    "a_3 = a_{lat}(0,0,\\frac{c}{a_{lat}})\n",
    "$$\n",
    "so that $c$ vacuum space between two replica of the sheets, expressed in the same units as $a_{lat}$.\n",
    "We also observe that $\\textrm{celldm(3)}=c/a_{lat}$, so it expresses the vacuum distance in terms of \n",
    "$a_{lat}$."
   ]
  },
  {
   "cell_type": "markdown",
   "id": "957fc0a3-57c6-4f4c-aeeb-82555dceaf13",
   "metadata": {},
   "source": [
    "The cartesian component of the reciprocal lattice vectors (in units of $2\\pi/a_{alat}$) are given by:\n",
    "\n",
    "$$\n",
    "b_1 = (1,\\frac{1}{\\sqrt{3}}) \\, ,\\quad b_2 = (0,\\frac{2}{\\sqrt{3}},0) \\, ,\\quad\n",
    "b_3 = (0,0,\\frac{a}{c})\n",
    "$$\n",
    "The reciprocal vectors have module $2/\\sqrt{3}$.\n",
    "\n",
    "The cartesian coordinates of the high symmetry points of the reciprocal lattice (in units of $2\\pi/a_{alat}$) \n",
    "can be determined by performing the construction of the Brillouin zone: we find the points on at the half of\n",
    "the $b_1$ and $b_2$ vectors and build the path moving perpendicularly to the basis vector directions.\n",
    "The $M$ point (at the middle of the hexagon face) and the $K$ point (the edge point) are given by:\n",
    "$$\n",
    "M = (\\frac{1}{2},\\frac{1}{2\\sqrt{3}}) \\, \\quad\n",
    "K = (\\frac{2}{3},0) \n",
    "$$\n",
    "Moreover we write the coordinates of the symmetry related K' point (which corresponds to another edge of the hexagon)\n",
    "and M' point (middle point of the top edge of the hexagon): \n",
    "$$\n",
    "K' = (\\frac{1}{3},\\frac{1}{\\sqrt{3}}) \\, \\quad\n",
    "M' = (0,\\frac{1}{\\sqrt{3}}) \n",
    "$$\n",
    "These points, together with $\\Gamma$ define the IBZ edges in the representation of QuantumESPRESSO."
   ]
  },
  {
   "cell_type": "markdown",
   "id": "c11e34ba-0713-4673-be7e-2cff43978c98",
   "metadata": {},
   "source": [
    "In cartesian coordinates the atomic positions read\n",
    "$$\n",
    "Mo = a_{lat}(0,\\frac{1}{\\sqrt{3}},0) \\, \\qquad S_1 = a_{lat}(\\frac{1}{2},\\frac{1}{2\\sqrt{3}},\\delta) \\, \\quad\n",
    "S_2 = a_{lat}(\\frac{1}{2},\\frac{1}{2\\sqrt{3}},-\\delta)\n",
    "$$\n",
    "where $\\delta$ is the buckling of the $S$ atoms in units of $a_{lat}$. Converted in crystal coordinates the atomic positions read\n",
    "$$\n",
    "Mo_{cryst} = (\\frac{1}{3},\\frac{2}{3},0) \\, \\qquad S_{1-cryst} = (\\frac{2}{3},\\frac{1}{3},\\delta_{cryst}) \\, \\quad\n",
    "S_{2-cryst} = (\\frac{2}{3},\\frac{1}{3},-\\delta_{cryst})\n",
    "$$\n",
    "where $\\delta = (c/a_{lat})\\delta_{cryst}$, so the cartesian buckling is equal to the crystal one multiplied times celldm(3)."
   ]
  },
  {
   "cell_type": "markdown",
   "id": "db4df15b-6ebf-48cc-9f80-00fb6507f1c8",
   "metadata": {
    "tags": []
   },
   "source": [
    "## GS Analysis"
   ]
  },
  {
   "cell_type": "markdown",
   "id": "4d98cc92-4e9d-473c-b629-0780ff1b03d5",
   "metadata": {},
   "source": [
    "We analyze the electronic configuration of the GS."
   ]
  },
  {
   "cell_type": "code",
   "execution_count": 5,
   "id": "dff58a03-1739-4169-a683-e981e31b3d14",
   "metadata": {},
   "outputs": [],
   "source": [
    "pseudo_dir = '../pseudos'\n",
    "Mo_pseudo = 'Mo-fr.out'\n",
    "S_pseudo = 'S-fr.out'"
   ]
  },
  {
   "cell_type": "markdown",
   "id": "9e04174e-e59c-4e01-a651-e47126ced542",
   "metadata": {},
   "source": [
    "According to the results provided by Fulvio Paleari the converged atomic positions read "
   ]
  },
  {
   "cell_type": "code",
   "execution_count": 6,
   "id": "50576d68-004c-4792-8ee3-0635ccd0c1f4",
   "metadata": {},
   "outputs": [],
   "source": [
    "alat = 5.9000811881 # in a.u. (Bohr)\n",
    "c = 40.0 # vacuum distance in a.u. \n",
    "celldm3 = c/alat # in units of alat\n",
    "delta_cryst = 0.073413577 # buckling in crystal coordinates\n",
    "delta = celldm3*delta_cryst\n",
    "\n",
    "#kpoints = [12,12,1]\n",
    "#ecut_wf = 140.0 # energy cutoff of the wfs in Ry"
   ]
  },
  {
   "cell_type": "markdown",
   "id": "bcf6c620-8903-45fd-8cb3-883eb32ba068",
   "metadata": {},
   "source": [
    "Atomic positions in cartesian and crystal coordinates and lattice vectors"
   ]
  },
  {
   "cell_type": "code",
   "execution_count": 7,
   "id": "84270c16-cb9a-4bee-b5a2-2609bcfe1519",
   "metadata": {},
   "outputs": [],
   "source": [
    "# cartesian coordinates expressed in units of alat\n",
    "Mo_cart = np.array([0,1./np.sqrt(3.),0.])\n",
    "S1_cart = np.array([1./2.,1./(2*np.sqrt(3.)),delta])\n",
    "S2_cart = np.array([1./2.,1./(2*np.sqrt(3.)),-delta])\n",
    "\n",
    "Mo_cryst = np.array([1./3.,2./3.,0.])\n",
    "S1_cryst = np.array([2./3.,1./3.,delta_cryst])\n",
    "S2_cryst = np.array([2./3.,1./3.,-delta_cryst])\n",
    "\n",
    "lattice = alat*np.array([[1,0,0],[-1./2.,np.sqrt(3)/2.,0],[0,0,celldm3]])\n",
    "atoms = [['Mo',alat*Mo_cart],['S',alat*S1_cart],['S',alat*S2_cart]]"
   ]
  },
  {
   "cell_type": "markdown",
   "id": "de35f94c-7b46-43fa-b54e-260f16465c78",
   "metadata": {},
   "source": [
    "We plot the lattice in xy and xz directions"
   ]
  },
  {
   "cell_type": "code",
   "execution_count": 8,
   "id": "22b85094-c4a8-4acb-888c-386ad7acdf15",
   "metadata": {},
   "outputs": [],
   "source": [
    "positions = LL.build_lattice(lattice,atoms,8,8,1)\n",
    "#positions"
   ]
  },
  {
   "cell_type": "code",
   "execution_count": 13,
   "id": "003d32ce-045c-4bf5-b1c6-ab854387d00c",
   "metadata": {},
   "outputs": [
    {
     "data": {
      "text/plain": [
       "<matplotlib.legend.Legend at 0x7faa16bfb760>"
      ]
     },
     "execution_count": 13,
     "metadata": {},
     "output_type": "execute_result"
    },
    {
     "data": {
      "image/png": "[encoded data removed]",
      "text/plain": [
       "<Figure size 640x480 with 1 Axes>"
      ]
     },
     "metadata": {},
     "output_type": "display_data"
    }
   ],
   "source": [
    "for pos in positions:\n",
    "    plt.scatter(pos[1],pos[2],label=pos[0])\n",
    "plt.title('Atomic positions in the xy plane',size=12)\n",
    "plt.legend()"
   ]
  },
  {
   "cell_type": "code",
   "execution_count": 14,
   "id": "94acea83-eb9f-4af4-bfde-49eb99d6a4f2",
   "metadata": {},
   "outputs": [
    {
     "data": {
      "text/plain": [
       "<matplotlib.legend.Legend at 0x7faa16bf81c0>"
      ]
     },
     "execution_count": 14,
     "metadata": {},
     "output_type": "execute_result"
    },
    {
     "data": {
      "image/png": "[encoded data removed]",
      "text/plain": [
       "<Figure size 640x480 with 1 Axes>"
      ]
     },
     "metadata": {},
     "output_type": "display_data"
    }
   ],
   "source": [
    "for pos in positions:\n",
    "    plt.scatter(pos[1],pos[3],label=pos[0])\n",
    "plt.title('Atomic positions in the xz plane',size=12)\n",
    "plt.legend()"
   ]
  },
  {
   "cell_type": "markdown",
   "id": "0d098415-a65c-428c-8d10-22436eafc8ae",
   "metadata": {
    "tags": []
   },
   "source": [
    "### Convergence procedure on the $k$-points sampling and of energy cutoff of the wave functions"
   ]
  },
  {
   "cell_type": "markdown",
   "id": "21295364-65e0-4691-bf1f-e4b70a6fa8fc",
   "metadata": {},
   "source": [
    "We perform a set of calculations in functions of the number of k-points and of the energy cutoff and we find\n",
    "the converged values using the total ground state energy and the gap at $K$ as control quantities."
   ]
  },
  {
   "cell_type": "code",
   "execution_count": 15,
   "id": "ac3e9f3e-3fe0-404c-b4ec-8fa3024b4480",
   "metadata": {},
   "outputs": [],
   "source": [
    "run_dir = 'DFT_analysis'"
   ]
  },
  {
   "cell_type": "markdown",
   "id": "bf2b832a-6f63-42c9-a6c4-d0b8b3a91fd1",
   "metadata": {},
   "source": [
    "We build the basic elements of the input "
   ]
  },
  {
   "cell_type": "code",
   "execution_count": 17,
   "id": "c8c748f0-f274-49e3-afa4-89894fba211b",
   "metadata": {},
   "outputs": [
    {
     "data": {
      "text/plain": [
       "{'control': {'calculation': \"'scf'\",\n",
       "  'verbosity': \"'high'\",\n",
       "  'prefix': \"'pwscf'\",\n",
       "  'outdir': \"'./'\",\n",
       "  'pseudo_dir': \"'../pseudos'\"},\n",
       " 'system': {'force_symmorphic': '.true.',\n",
       "  'nbnd': 28,\n",
       "  'lspinorb': '.true.',\n",
       "  'noncolin': '.true.',\n",
       "  'ntyp': '2',\n",
       "  'nat': '3',\n",
       "  'ibrav': 4,\n",
       "  'celldm(1)': 5.9000811881,\n",
       "  'celldm(3)': 6.779567725386027},\n",
       " 'electrons': {'diago_full_acc': '.false.', 'conv_thr': 1e-06},\n",
       " 'ions': {},\n",
       " 'cell': {},\n",
       " 'atomic_species': {'Mo': [42.0, 'Mo-fr.out'], 'S': [16.0, 'S-fr.out']},\n",
       " 'atomic_positions': {'type': 'alat',\n",
       "  'values': [['Mo', array([0.        , 0.57735027, 0.        ])],\n",
       "   ['S', array([0.5       , 0.28867513, 0.49771232])],\n",
       "   ['S', array([ 0.5       ,  0.28867513, -0.49771232])]]},\n",
       " 'kpoints': {},\n",
       " 'cell_parameters': {}}"
      ]
     },
     "execution_count": 17,
     "metadata": {},
     "output_type": "execute_result"
    }
   ],
   "source": [
    "#prefix = 'gs_analysis'\n",
    "\n",
    "inp = I.PwInput()\n",
    "inp.set_scf(force_symmorphic=True,conv_thr=1e-6)\n",
    "#inp.set_prefix(prefix)\n",
    "inp.set_num_bnds(28)\n",
    "inp.set_pseudo_dir(pseudo_dir=pseudo_dir)\n",
    "inp.set_spinorbit()\n",
    "inp.add_atom(atom='Mo',pseudo_name=Mo_pseudo,mass=42.00)\n",
    "inp.add_atom(atom='S',pseudo_name=S_pseudo,mass=16.00)\n",
    "inp.set_atoms_number(3)\n",
    "inp.set_atomic_positions([['Mo',Mo_cart],['S',S1_cart],['S',S2_cart]],type='alat')\n",
    "#inp.set_atomic_positions([['Mo',Mo_cryst],['S',S1_cryst],['S',S2_cryst]],type='crystal')\n",
    "inp.set_lattice(ibrav=4,celldm1=alat,celldm3=celldm3)\n",
    "#inp.set_kpoints(type='automatic',points=kpoints)\n",
    "#inp.set_energy_cutoff(ecut_wf)\n",
    "inp"
   ]
  },
  {
   "cell_type": "code",
   "execution_count": 37,
   "id": "a2a1644d-73af-4f8e-9149-9ff58de178cc",
   "metadata": {},
   "outputs": [],
   "source": [
    "kvalues = [12,15]\n",
    "ecut = [40,60,80,100,120] #[60,80,100]"
   ]
  },
  {
   "cell_type": "code",
   "execution_count": 42,
   "id": "6af9a848-20cd-4c6c-9be9-31d4c6a227c9",
   "metadata": {},
   "outputs": [
    {
     "name": "stdout",
     "output_type": "stream",
     "text": [
      "Initialize a Dataset with 4 parallel tasks\n"
     ]
    }
   ],
   "source": [
    "study = D.Dataset(run_dir=run_dir,num_tasks=4)\n",
    "\n",
    "for k in kvalues:\n",
    "    for e in ecut:\n",
    "        idd = {'ecut' : e, 'k' : k}\n",
    "        inp.set_prefix(D.name_from_id(idd))\n",
    "        inp.set_kpoints(type='automatic',points=[k,k,1])\n",
    "        inp.set_energy_cutoff(e)\n",
    "        study.append_run(id=idd,input=inp,runner=code)\n",
    "    \n",
    "study.set_postprocessing_function(PP.pw_parse_data)"
   ]
  },
  {
   "cell_type": "code",
   "execution_count": 43,
   "id": "5d0fadb0-a5de-4f36-9d7f-7ab74be54293",
   "metadata": {},
   "outputs": [
    {
     "name": "stdout",
     "output_type": "stream",
     "text": [
      "Run the selection [0, 1, 2, 3, 4, 5, 6, 7, 8, 9] with the parallel task_groups [[0, 1, 2, 3], [4, 5, 6, 7], [8, 9]] \n",
      "\n",
      "Run the task [0, 1, 2, 3] \n",
      "Skip the run of ecut_40-k_12Skip the run of\n",
      " ecut_60-k_12Skip the run of\n",
      " ecut_80-k_12\n",
      "Skip the run of ecut_100-k_12\n",
      "Task [0, 1, 2, 3] ended \n",
      " \n",
      "Run the task [4, 5, 6, 7] \n",
      "Skip the run of ecut_120-k_12\n",
      "Skip the run of ecut_40-k_15\n",
      "Skip the run of ecut_60-k_15\n",
      "Skip the run of ecut_80-k_15\n",
      "Task [4, 5, 6, 7] ended \n",
      " \n",
      "Run the task [8, 9] \n",
      "Skip the run of ecut_100-k_15\n",
      "Skip the run of ecut_120-k_15\n",
      "Task [8, 9] ended \n",
      " \n"
     ]
    }
   ],
   "source": [
    "results = study.run()"
   ]
  },
  {
   "cell_type": "code",
   "execution_count": 47,
   "id": "3dfe4780-edea-4f4d-a3ee-2c6aa43c7a86",
   "metadata": {},
   "outputs": [
    {
     "data": {
      "text/plain": [
       "<matplotlib.legend.Legend at 0x7faa40b1d090>"
      ]
     },
     "execution_count": 47,
     "metadata": {},
     "output_type": "execute_result"
    },
    {
     "data": {
      "image/png": "[encoded data removed]",
      "text/plain": [
       "<Figure size 700x400 with 1 Axes>"
      ]
     },
     "metadata": {},
     "output_type": "display_data"
    }
   ],
   "source": [
    "plt.figure(figsize=(7,4))\n",
    "plt.xlabel('energy cutoff (Ry)',size=16)\n",
    "plt.ylabel('Total energy (Ha)',size=16)\n",
    "for k in kvalues:\n",
    "    energy =study.fetch_results(id={'k':k},attribute='energy')\n",
    "    plt.plot(ecut,energy,label='k=%s'%k)\n",
    "    plt.scatter(ecut,energy)\n",
    "plt.legend()"
   ]
  },
  {
   "cell_type": "code",
   "execution_count": 48,
   "id": "2bebc76b-2a5e-43eb-bb66-34548a180fd2",
   "metadata": {},
   "outputs": [
    {
     "data": {
      "text/plain": [
       "<matplotlib.legend.Legend at 0x7faa43e1e710>"
      ]
     },
     "execution_count": 48,
     "metadata": {},
     "output_type": "execute_result"
    },
    {
     "data": {
      "image/png": "[encoded data removed]",
      "text/plain": [
       "<Figure size 700x400 with 1 Axes>"
      ]
     },
     "metadata": {},
     "output_type": "display_data"
    }
   ],
   "source": [
    "plt.figure(figsize=(7,4))\n",
    "plt.xlabel('energy cutoff (Ry)',size=16)\n",
    "plt.ylabel('Energy gap (eV)',size=16)\n",
    "for k in kvalues:\n",
    "    data = study.fetch_results(id={'k':k})    \n",
    "    gap = [d.get_gap(verbose=False)['gap'] for d in data]\n",
    "    plt.plot(ecut,gap,label='k=%s'%k)\n",
    "    plt.scatter(ecut,gap)\n",
    "plt.legend()"
   ]
  },
  {
   "cell_type": "markdown",
   "id": "45196aae-0bbb-4351-9d96-1ee0e57b2279",
   "metadata": {},
   "source": [
    "On the basis of these results we choose"
   ]
  },
  {
   "cell_type": "code",
   "execution_count": 8,
   "id": "cdff6620-8027-4fb7-8e48-449445e5d4b3",
   "metadata": {},
   "outputs": [],
   "source": [
    "ecut_conv = 80 # energy cutoff on the wavefunction (Ry)\n",
    "kpoints_conv = [12,12,1]"
   ]
  },
  {
   "cell_type": "code",
   "execution_count": 9,
   "id": "71b216b9-f925-4ffb-9771-5c00137798ba",
   "metadata": {},
   "outputs": [],
   "source": [
    "inp.set_energy_cutoff(ecut_conv)\n",
    "inp.set_kpoints(type='automatic',points=kpoints_conv)"
   ]
  },
  {
   "cell_type": "code",
   "execution_count": null,
   "id": "31541a18-57cf-4a8d-a20a-ddbaa593925c",
   "metadata": {},
   "outputs": [],
   "source": []
  },
  {
   "cell_type": "code",
   "execution_count": null,
   "id": "bee505ce-e890-407d-9843-ff9d857cd975",
   "metadata": {},
   "outputs": [],
   "source": []
  },
  {
   "cell_type": "markdown",
   "id": "10c40180-149c-47c2-9732-c2e4d747579e",
   "metadata": {},
   "source": [
    "### Calculation of the equilibrium lattice constants and buckling parameter"
   ]
  },
  {
   "cell_type": "markdown",
   "id": "900c458f-b1af-43d0-b258-afa803885332",
   "metadata": {},
   "source": [
    "We determine the equiblrium values of the lattice constant and of the buckling parameter by minimizing\n",
    "the GS energy"
   ]
  },
  {
   "cell_type": "code",
   "execution_count": 18,
   "id": "6c4d5190-4090-415c-8b7a-274b6202a9a8",
   "metadata": {},
   "outputs": [
    {
     "data": {
      "text/plain": [
       "(array([-1.5, -1. , -0.5,  0. ,  0.5,  1. ,  1.5]),\n",
       " array([-1.5, -1. , -0.5,  0. ,  0.5,  1. ,  1.5]))"
      ]
     },
     "execution_count": 18,
     "metadata": {},
     "output_type": "execute_result"
    }
   ],
   "source": [
    "alat_range = 2 # alat percentage variation\n",
    "alat_num = 5 # number of calculations\n",
    "delta_range = 2 # buckling percentage variation\n",
    "delta_num = 5 # number of calculations\n",
    "\n",
    "alat_span = np.linspace(-alat_range/2,alat_range/2,alat_num)\n",
    "\n",
    "delta_span = np.linspace(-delta_range/2,delta_range/2,delta_num)\n",
    "\n",
    "alat_span, delta_span"
   ]
  },
  {
   "cell_type": "code",
   "execution_count": 19,
   "id": "e4770980-aff6-40a2-9a9a-f567600114b3",
   "metadata": {},
   "outputs": [
    {
     "name": "stdout",
     "output_type": "stream",
     "text": [
      "Initialize a Dataset with 10 parallel tasks\n"
     ]
    }
   ],
   "source": [
    "study = D.Dataset(run_dir=run_dir,num_tasks=10)\n",
    "\n",
    "for a_span in alat_span:\n",
    "    for d_span in delta_span:\n",
    "        a = alat*(1+a_span/100)\n",
    "        d = delta*(1+d_span/100)\n",
    "        A = np.array([0,0,d])\n",
    "        B = np.array([0,1/np.sqrt(3),-d])\n",
    "        idd = {'alat' : a_span, 'delta' : d_span}\n",
    "        inp.set_prefix(D.name_from_id(idd))\n",
    "        inp.set_atomic_positions([['Ge',A],['Ge',B]],type='alat')\n",
    "        inp.set_lattice(ibrav=4,celldm1=a,celldm3=c)\n",
    "        study.append_run(id=idd,input=inp,runner=code)\n",
    "    \n",
    "study.set_postprocessing_function(PP.pw_get_energy)\n",
    "#study.set_postprocessing_function(PP.pw_parse_data)"
   ]
  },
  {
   "cell_type": "code",
   "execution_count": null,
   "id": "037f02e2-d36e-43f1-8816-207de85416ff",
   "metadata": {},
   "outputs": [],
   "source": [
    "results = study.run()"
   ]
  },
  {
   "cell_type": "code",
   "execution_count": 21,
   "id": "9361d214-0a76-4cc1-9e8d-1ae76f3d5ee3",
   "metadata": {},
   "outputs": [
    {
     "data": {
      "text/plain": [
       "<matplotlib.legend.Legend at 0x7fad5314a4a8>"
      ]
     },
     "execution_count": 21,
     "metadata": {},
     "output_type": "execute_result"
    },
    {
     "data": {
      "image/png": "[encoded data removed]",
      "text/plain": [
       "<Figure size 648x504 with 1 Axes>"
      ]
     },
     "metadata": {
      "needs_background": "light"
     },
     "output_type": "display_data"
    }
   ],
   "source": [
    "plt.figure(figsize=(9,7))\n",
    "plt.xlabel('alat span (%)',size=16)\n",
    "plt.ylabel('Total energy (Ha)',size=16)\n",
    "for d_span in delta_span:\n",
    "    energy =study.fetch_results(id={'delta':d_span})\n",
    "    plt.plot(alat_span,energy,label=d_span)\n",
    "plt.legend()"
   ]
  },
  {
   "cell_type": "markdown",
   "id": "538265b8-dab1-479c-a10d-f63c49977c30",
   "metadata": {},
   "source": [
    "To find the optimal alat parameter we perform a quadratic fit of data (for delta=0)"
   ]
  },
  {
   "cell_type": "code",
   "execution_count": 22,
   "id": "2072b867-3963-4a06-be01-c606b8f0521a",
   "metadata": {},
   "outputs": [
    {
     "data": {
      "text/plain": [
       "[<matplotlib.lines.Line2D at 0x7fad78f5b6a0>]"
      ]
     },
     "execution_count": 22,
     "metadata": {},
     "output_type": "execute_result"
    },
    {
     "data": {
      "image/png": "[encoded data removed]",
      "text/plain": [
       "<Figure size 432x288 with 1 Axes>"
      ]
     },
     "metadata": {
      "needs_background": "light"
     },
     "output_type": "display_data"
    }
   ],
   "source": [
    "y =study.fetch_results(id={'delta':0.})\n",
    "x = [alat*(1+a/100) for a in alat_span]\n",
    "x_fit = np.linspace(x[0],x[-1],30)\n",
    "coeffs = np.polyfit(x,y,2)\n",
    "y_fit = [coeffs[0]*xx**2+coeffs[1]*xx+coeffs[2] for xx in x_fit]\n",
    "plt.plot(x,y)\n",
    "plt.plot(x_fit,y_fit)"
   ]
  },
  {
   "cell_type": "code",
   "execution_count": null,
   "id": "91e1586f-e6b0-4ff2-b54d-d69e756ba571",
   "metadata": {},
   "outputs": [],
   "source": [
    "x_eq = -coeffs[1]/(2*coeffs[0])\n",
    "x_eq"
   ]
  },
  {
   "cell_type": "markdown",
   "id": "cf970eff-23ab-457f-aef2-316e25355f97",
   "metadata": {},
   "source": [
    "In substantial agreement with the value already provided in the input.\n",
    "\n",
    "In the same way the optimal buckling is "
   ]
  },
  {
   "cell_type": "code",
   "execution_count": 24,
   "id": "29aae3bd-a0e7-4cfe-9416-8df9d40c2b2f",
   "metadata": {},
   "outputs": [
    {
     "data": {
      "text/plain": [
       "[<matplotlib.lines.Line2D at 0x7fad52686710>]"
      ]
     },
     "execution_count": 24,
     "metadata": {},
     "output_type": "execute_result"
    },
    {
     "data": {
      "image/png": "[encoded data removed]",
      "text/plain": [
       "<Figure size 432x288 with 1 Axes>"
      ]
     },
     "metadata": {
      "needs_background": "light"
     },
     "output_type": "display_data"
    }
   ],
   "source": [
    "y =study.fetch_results(id={'alat':0.})\n",
    "x = [delta*(1+a/100) for a in delta_span]\n",
    "x_fit = np.linspace(x[0],x[-1],30)\n",
    "coeffs = np.polyfit(x,y,2)\n",
    "y_fit = [coeffs[0]*xx**2+coeffs[1]*xx+coeffs[2] for xx in x_fit]\n",
    "plt.plot(x,y)\n",
    "plt.plot(x_fit,y_fit)"
   ]
  },
  {
   "cell_type": "code",
   "execution_count": null,
   "id": "66f7bdec-5982-479f-a53c-44823fd8731a",
   "metadata": {},
   "outputs": [],
   "source": [
    "x_eq = -coeffs[1]/(2*coeffs[0])\n",
    "x_eq"
   ]
  },
  {
   "cell_type": "markdown",
   "id": "9edbcd10-2a73-46ed-9dfe-8c933c8f6f7d",
   "metadata": {},
   "source": [
    "We perform a last scf calculation with the converged parameters"
   ]
  },
  {
   "cell_type": "code",
   "execution_count": 10,
   "id": "734342fb-8233-470d-a761-f79236df8ffd",
   "metadata": {},
   "outputs": [],
   "source": [
    "alat_conv = 7.6441\n",
    "delta_conv = 0.0841\n",
    "\n",
    "A = np.array([0,0,delta_conv])\n",
    "B = np.array([0,1./np.sqrt(3),-delta_conv])"
   ]
  },
  {
   "cell_type": "code",
   "execution_count": 11,
   "id": "23b48f95-2bf8-4f60-ad43-2e1c6dd973ed",
   "metadata": {},
   "outputs": [
    {
     "name": "stdout",
     "output_type": "stream",
     "text": [
      "Initialize a Dataset with 1 parallel tasks\n"
     ]
    }
   ],
   "source": [
    "study = D.Dataset(run_dir=run_dir,num_tasks=1)\n",
    "\n",
    "idd = 'gs_converged'\n",
    "inp.set_prefix(D.name_from_id(idd))\n",
    "inp.set_atomic_positions([['Ge',A],['Ge',B]],type='alat')\n",
    "inp.set_lattice(ibrav=4,celldm1=alat_conv,celldm3=c)\n",
    "study.append_run(id=idd,input=inp,runner=code)\n",
    "    \n",
    "study.set_postprocessing_function(PP.pw_parse_data)"
   ]
  },
  {
   "cell_type": "code",
   "execution_count": 14,
   "id": "f15ac5c7-20ea-4c83-8e40-510df12f78e5",
   "metadata": {},
   "outputs": [
    {
     "data": {
      "text/plain": [
       "[{'label': 'Dataset',\n",
       "  'run_dir': 'DFT_analysis-vac_4',\n",
       "  'num_tasks': 1,\n",
       "  'verbose': True,\n",
       "  'input': {'control': {'calculation': \"'scf'\",\n",
       "    'verbosity': \"'high'\",\n",
       "    'prefix': \"'gs_converged'\",\n",
       "    'outdir': \"'./'\",\n",
       "    'pseudo_dir': \"'../pseudos'\"},\n",
       "   'system': {'force_symmorphic': '.true.',\n",
       "    'nbnd': 32,\n",
       "    'lspinorb': '.true.',\n",
       "    'noncolin': '.true.',\n",
       "    'ntyp': '1',\n",
       "    'nat': '2',\n",
       "    'ibrav': 4,\n",
       "    'celldm(1)': 7.6441,\n",
       "    'celldm(3)': 4.0,\n",
       "    'ecutwfc': 50},\n",
       "   'electrons': {'diago_full_acc': '.false.', 'conv_thr': 1e-06},\n",
       "   'ions': {},\n",
       "   'cell': {},\n",
       "   'atomic_species': {'Ge': [72.64, 'Ge.rel-pbe-dn-kjpaw_psl.0.2.2.UPF']},\n",
       "   'atomic_positions': {'type': 'alat',\n",
       "    'values': [['Ge', array([0.    , 0.    , 0.0841])],\n",
       "     ['Ge', array([ 0.        ,  0.57735027, -0.0841    ])]]},\n",
       "   'kpoints': {'type': 'automatic', 'values': ([18, 18, 1], [0.0, 0.0, 0.0])},\n",
       "   'cell_parameters': {}},\n",
       "  'name': 'gs_converged'}]"
      ]
     },
     "execution_count": 14,
     "metadata": {},
     "output_type": "execute_result"
    }
   ],
   "source": [
    "study.runs"
   ]
  },
  {
   "cell_type": "code",
   "execution_count": 15,
   "id": "9488be58-5804-4c0d-859f-bffd77ec2202",
   "metadata": {},
   "outputs": [
    {
     "name": "stdout",
     "output_type": "stream",
     "text": [
      "Run the selection [0] with the parallel task_groups [[0]] \n",
      "\n",
      "Run the task [0] \n",
      "create the run_dir folder : 'DFT_analysis-vac_4'\n",
      "run command: mpirun -np 32 pw.x -inp gs_converged.in > gs_converged.log\n",
      "slurm submit:  cd DFT_analysis-vac_4 ; sbatch job_gs_converged.sh\n",
      "computation gs_converged is running...\n",
      "computation gs_converged ended\n",
      "Task [0] ended \n",
      " \n"
     ]
    }
   ],
   "source": [
    "results = study.run()"
   ]
  },
  {
   "cell_type": "code",
   "execution_count": 16,
   "id": "944bf1eb-8164-4be8-a156-7ee477f18463",
   "metadata": {},
   "outputs": [
    {
     "name": "stdout",
     "output_type": "stream",
     "text": [
      "Direct gap system\n",
      "=================\n",
      "Gap : 0.024156505631320435 eV\n"
     ]
    },
    {
     "data": {
      "text/plain": [
       "{'gap': 0.024156505631320435,\n",
       " 'direct_gap': 0.024156505631320435,\n",
       " 'position_cbm': 36,\n",
       " 'positon_vbm': 36}"
      ]
     },
     "execution_count": 16,
     "metadata": {},
     "output_type": "execute_result"
    }
   ],
   "source": [
    "results[0].get_gap()"
   ]
  },
  {
   "cell_type": "markdown",
   "id": "8d99623a-55b9-4a33-ab0c-786a17419e5b",
   "metadata": {},
   "source": [
    "The Gap (as given by the scf computation) with celldm3=6 is equal to 0.024154 eV."
   ]
  },
  {
   "cell_type": "code",
   "execution_count": 26,
   "id": "38db47e0-9bd4-4935-bb0c-4f2019a91a0b",
   "metadata": {},
   "outputs": [
    {
     "data": {
      "text/plain": [
       "array([0.33333333, 0.57735027, 0.        ])"
      ]
     },
     "execution_count": 26,
     "metadata": {},
     "output_type": "execute_result"
    }
   ],
   "source": [
    "kp = results[0].kpoints # cartesian coordinates in units of 2\\pi/alat\n",
    "kp[-1]"
   ]
  },
  {
   "cell_type": "code",
   "execution_count": null,
   "id": "3838fcb6-39a6-4780-b062-e296e87fca32",
   "metadata": {},
   "outputs": [],
   "source": []
  },
  {
   "cell_type": "code",
   "execution_count": null,
   "id": "6fe777a5-ad6b-40fb-8be2-1e55c8fcb21e",
   "metadata": {},
   "outputs": [],
   "source": []
  },
  {
   "cell_type": "code",
   "execution_count": null,
   "id": "d86499b4-ceb8-4672-8c1a-2f61fe8fdc00",
   "metadata": {},
   "outputs": [],
   "source": []
  },
  {
   "cell_type": "code",
   "execution_count": null,
   "id": "175155cc-f132-416a-b129-d542ae1d482a",
   "metadata": {},
   "outputs": [],
   "source": []
  },
  {
   "cell_type": "code",
   "execution_count": null,
   "id": "abfb3faf-a866-4767-a1cc-772f27068146",
   "metadata": {},
   "outputs": [],
   "source": []
  },
  {
   "cell_type": "code",
   "execution_count": null,
   "id": "d4a641fa-fcd0-40cc-b504-9690e8b59c8c",
   "metadata": {},
   "outputs": [],
   "source": []
  },
  {
   "cell_type": "code",
   "execution_count": null,
   "id": "7c00e556-484d-4485-acb5-e91f74104b7e",
   "metadata": {},
   "outputs": [],
   "source": []
  },
  {
   "cell_type": "code",
   "execution_count": null,
   "id": "f32dab3b-e708-4032-a7ea-d5cab72a3f1d",
   "metadata": {},
   "outputs": [],
   "source": []
  },
  {
   "cell_type": "code",
   "execution_count": null,
   "id": "f6993b0c-f4a8-4946-b2c3-026b3acc54f4",
   "metadata": {},
   "outputs": [],
   "source": [
    "######################################################################################"
   ]
  },
  {
   "cell_type": "markdown",
   "id": "66a916bd-b124-4ea9-a7b0-557f320e2aaa",
   "metadata": {
    "tags": []
   },
   "source": [
    "We build the input"
   ]
  },
  {
   "cell_type": "code",
   "execution_count": 92,
   "id": "a8d0d50f-f738-4865-8cbd-8a8afdf13f20",
   "metadata": {},
   "outputs": [
    {
     "data": {
      "text/plain": [
       "{'control': {'calculation': \"'scf'\",\n",
       "  'verbosity': \"'high'\",\n",
       "  'prefix': \"'gs_analysis'\",\n",
       "  'outdir': \"'./'\",\n",
       "  'pseudo_dir': \"'../pseudos'\"},\n",
       " 'system': {'force_symmorphic': '.true.',\n",
       "  'lspinorb': '.true.',\n",
       "  'noncolin': '.true.',\n",
       "  'ntyp': '2',\n",
       "  'nat': '3',\n",
       "  'ibrav': 4,\n",
       "  'celldm(1)': 5.9000811881,\n",
       "  'celldm(3)': 6.779567725386027,\n",
       "  'ecutwfc': 140.0},\n",
       " 'electrons': {'diago_full_acc': '.false.', 'conv_thr': 1e-06},\n",
       " 'ions': {},\n",
       " 'cell': {},\n",
       " 'atomic_species': {'Mo': [42.0, 'Mo-fr.out'], 'S': [16.0, 'S-fr.out']},\n",
       " 'atomic_positions': {'type': 'crystal',\n",
       "  'values': [['Mo', array([0.33333333, 0.66666667, 0.        ])],\n",
       "   ['S', array([0.66666667, 0.33333333, 0.07341358])],\n",
       "   ['S', array([ 0.66666667,  0.33333333, -0.07341358])]]},\n",
       " 'kpoints': {'type': 'automatic', 'values': ([12, 12, 1], [0.0, 0.0, 0.0])},\n",
       " 'cell_parameters': {}}"
      ]
     },
     "execution_count": 92,
     "metadata": {},
     "output_type": "execute_result"
    }
   ],
   "source": [
    "prefix = 'gs_analysis'\n",
    "\n",
    "inp = I.PwInput()\n",
    "inp.set_scf(force_symmorphic=True,conv_thr=1e-6)\n",
    "inp.set_prefix(prefix)\n",
    "#inp.set_num_bnds(32)\n",
    "inp.set_pseudo_dir(pseudo_dir=pseudo_dir)\n",
    "inp.set_spinorbit()\n",
    "inp.add_atom(atom='Mo',pseudo_name=Mo_pseudo,mass=42.00)\n",
    "inp.add_atom(atom='S',pseudo_name=S_pseudo,mass=16.00)\n",
    "inp.set_atoms_number(3)\n",
    "inp.set_atomic_positions([['Mo',Mo_cryst],['S',S1_cryst],['S',S2_cryst]],type='crystal')\n",
    "inp.set_lattice(ibrav=4,celldm1=alat,celldm3=celldm3)\n",
    "inp.set_kpoints(type='automatic',points=kpoints)\n",
    "inp.set_energy_cutoff(ecut_wf)\n",
    "inp"
   ]
  },
  {
   "cell_type": "markdown",
   "id": "1301afcc-096a-4aea-8e42-b8db0130a052",
   "metadata": {},
   "source": [
    "And we run the computation"
   ]
  },
  {
   "cell_type": "code",
   "execution_count": 35,
   "id": "db6b8171-8124-41a1-8f70-b83be9086281",
   "metadata": {},
   "outputs": [],
   "source": [
    "run_dir = 'GS'"
   ]
  },
  {
   "cell_type": "code",
   "execution_count": 36,
   "id": "953fbad3-3039-43c4-bde6-4d8f07e5a1d5",
   "metadata": {},
   "outputs": [
    {
     "name": "stdout",
     "output_type": "stream",
     "text": [
      "delete log file: GS/gs_analysis.log\n",
      "run command: mpirun -np 4 pw.x -inp gs_analysis.in > gs_analysis.log\n",
      "computation gs_analysis is running...\n"
     ]
    },
    {
     "name": "stderr",
     "output_type": "stream",
     "text": [
      "Note: The following floating-point exceptions are signalling: IEEE_DENORMAL\n",
      "Note: The following floating-point exceptions are signalling: IEEE_DENORMAL\n",
      "Note: The following floating-point exceptions are signalling: IEEE_DENORMAL\n",
      "Note: The following floating-point exceptions are signalling: IEEE_DENORMAL\n"
     ]
    },
    {
     "name": "stdout",
     "output_type": "stream",
     "text": [
      "computation gs_analysis ended\n"
     ]
    },
    {
     "data": {
      "text/plain": [
       "'/home/marco/Data/RICERCA/DFT AND MANY BODY/2D ELECTRONIC AND OPTICAL PROPERTIES/MoS2/GS/gs_analysis.save/data-file-schema.xml'"
      ]
     },
     "execution_count": 36,
     "metadata": {},
     "output_type": "execute_result"
    }
   ],
   "source": [
    "code.run(input=inp,run_dir=run_dir,name=prefix)"
   ]
  },
  {
   "cell_type": "code",
   "execution_count": 6,
   "id": "c5aa2ac7-df57-462b-8f3b-323865d085ec",
   "metadata": {},
   "outputs": [
    {
     "name": "stdout",
     "output_type": "stream",
     "text": [
      "Parse file : GS/gs_analysis.save/data-file-schema.xml\n"
     ]
    }
   ],
   "source": [
    "results = P.PwParser('GS/gs_analysis.save/data-file-schema.xml')"
   ]
  },
  {
   "cell_type": "code",
   "execution_count": 7,
   "id": "43949438-5dfd-4ad3-a5fe-aef95dd79d7f",
   "metadata": {},
   "outputs": [
    {
     "data": {
      "text/plain": [
       "-3607.059776988414"
      ]
     },
     "execution_count": 7,
     "metadata": {},
     "output_type": "execute_result"
    }
   ],
   "source": [
    "results.get_energy()"
   ]
  },
  {
   "cell_type": "code",
   "execution_count": 23,
   "id": "de5a1e51-5784-4642-80c3-6ce39893d77d",
   "metadata": {},
   "outputs": [
    {
     "data": {
      "text/plain": [
       "132.4641939037826"
      ]
     },
     "execution_count": 23,
     "metadata": {},
     "output_type": "execute_result"
    }
   ],
   "source": [
    "3607/27.23"
   ]
  },
  {
   "cell_type": "code",
   "execution_count": null,
   "id": "303540cd-dbcc-4e8c-a990-3b4c30e63f9a",
   "metadata": {},
   "outputs": [],
   "source": []
  },
  {
   "cell_type": "code",
   "execution_count": null,
   "id": "2c07efa2-14bf-4e17-b79b-ec8e77732958",
   "metadata": {},
   "outputs": [],
   "source": []
  },
  {
   "cell_type": "markdown",
   "id": "4d60af1e-94a8-454b-b847-e61c87836acf",
   "metadata": {
    "jp-MarkdownHeadingCollapsed": true,
    "tags": []
   },
   "source": [
    "## NSCF computations on regular grids"
   ]
  },
  {
   "cell_type": "code",
   "execution_count": null,
   "id": "fd3bcaa7-c118-40a2-9874-b71bccb5f66f",
   "metadata": {},
   "outputs": [],
   "source": []
  },
  {
   "cell_type": "code",
   "execution_count": null,
   "id": "494157ca-6431-4ffa-8a2f-0755c5d36f8b",
   "metadata": {},
   "outputs": [],
   "source": []
  },
  {
   "cell_type": "code",
   "execution_count": null,
   "id": "41a5caf7-45c2-4507-8948-aee084102b1e",
   "metadata": {},
   "outputs": [],
   "source": []
  },
  {
   "cell_type": "code",
   "execution_count": null,
   "id": "c689f475-525a-40b9-bb47-bff9ea343570",
   "metadata": {},
   "outputs": [],
   "source": []
  },
  {
   "cell_type": "code",
   "execution_count": null,
   "id": "7e16f56b-48f4-43ba-b9dc-2ffd51bb28ec",
   "metadata": {},
   "outputs": [],
   "source": []
  },
  {
   "cell_type": "code",
   "execution_count": null,
   "id": "1a5b711c-9a10-4ede-8ae0-c7acca5508e1",
   "metadata": {},
   "outputs": [],
   "source": []
  }
 ],
 "metadata": {
  "kernelspec": {
   "display_name": "Python 3 (ipykernel)",
   "language": "python",
   "name": "python3"
  },
  "language_info": {
   "codemirror_mode": {
    "name": "ipython",
    "version": 3
   },
   "file_extension": ".py",
   "mimetype": "text/x-python",
   "name": "python",
   "nbconvert_exporter": "python",
   "pygments_lexer": "ipython3",
   "version": "3.10.6"
  }
 },
 "nbformat": 4,
 "nbformat_minor": 5
}
