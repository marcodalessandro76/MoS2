{
 "cells": [
  {
   "cell_type": "code",
   "execution_count": 1,
   "metadata": {},
   "outputs": [],
   "source": [
    "# useful to autoreload the module without restarting the kernel\n",
    "%load_ext autoreload\n",
    "%autoreload 2"
   ]
  },
  {
   "cell_type": "code",
   "execution_count": 2,
   "metadata": {},
   "outputs": [],
   "source": [
    "from mppi import InputFiles as I, Calculators as C, Datasets as D, Utilities as U, Parsers as P\n",
    "from mppi.Utilities import Constants as Const\n",
    "from mppi.Utilities import Tools\n",
    "import matplotlib.pyplot as plt\n",
    "import numpy as np\n",
    "import os, yaml\n",
    "\n",
    "h_red = Const.Planck_reduced_ev_ps*1e3 # hbar in eV*fs\n",
    "h = Const.Planck_ev_ps*1e3 # h in eV*fs"
   ]
  },
  {
   "cell_type": "code",
   "execution_count": null,
   "metadata": {},
   "outputs": [],
   "source": [
    "# RunRules for local computations\n",
    "mpi = 4\n",
    "omp = 2\n",
    "\n",
    "rr = C.RunRules(omp_num_threads=omp,mpi=mpi)\n",
    "code = C.YamboCalculator(rr)\n",
    "#code.global_options()"
   ]
  },
  {
   "cell_type": "code",
   "execution_count": 13,
   "metadata": {},
   "outputs": [
    {
     "name": "stdout",
     "output_type": "stream",
     "text": [
      "Initialize a Yambo calculator with scheduler slurm\n"
     ]
    },
    {
     "data": {
      "text/plain": [
       "{'scheduler': 'slurm',\n",
       " 'nodes': 1,\n",
       " 'ntasks_per_node': 16,\n",
       " 'cpus_per_task': 2,\n",
       " 'omp_num_threads': 2,\n",
       " 'gpus_per_node': None,\n",
       " 'memory': '125000',\n",
       " 'time': '11:59:00',\n",
       " 'partition': 'all12h',\n",
       " 'account': None,\n",
       " 'qos': None,\n",
       " 'map_by': None,\n",
       " 'pe': 1,\n",
       " 'rank_by': None,\n",
       " 'executable': 'yambo',\n",
       " 'skip': True,\n",
       " 'clean_restart': True,\n",
       " 'dry_run': False,\n",
       " 'wait_end_run': True,\n",
       " 'activate_BeeOND': True,\n",
       " 'verbose': True,\n",
       " 'fatlog': False}"
      ]
     },
     "execution_count": 13,
     "metadata": {},
     "output_type": "execute_result"
    }
   ],
   "source": [
    "# RunRules for ismhpc\n",
    "# The product of ntasks_per_node*cpus_per_task is equal to 32. \n",
    "# Many mpi are needed for better performances\n",
    "nodes = 1\n",
    "ntasks_per_node = 16\n",
    "cpus_per_task=2\n",
    "omp_num_threads=2\n",
    "\n",
    "ntasks = nodes*ntasks_per_node\n",
    "\n",
    "rr = C.RunRules(scheduler='slurm',partition='all12h',\n",
    "                memory='125000',time='11:59:00',\n",
    "                nodes=nodes,ntasks_per_node=ntasks_per_node,\n",
    "                cpus_per_task=cpus_per_task,\n",
    "                omp_num_threads=omp_num_threads)\n",
    "code = C.YamboCalculator(rr,activate_BeeOND=True) #,skip=False,clean_restart=False\n",
    "code.global_options()"
   ]
  },
  {
   "cell_type": "markdown",
   "metadata": {
    "tags": []
   },
   "source": [
    "# Computation of the IP Absorption spectrum"
   ]
  },
  {
   "cell_type": "markdown",
   "metadata": {},
   "source": [
    "We compute the IP absorption spectrum using Yambo"
   ]
  },
  {
   "cell_type": "code",
   "execution_count": 6,
   "metadata": {},
   "outputs": [],
   "source": [
    "# analysis with k sampling volume of 0.06 (1000 points)     \n",
    "run_dir = 'ABS-IP'\n",
    "source_dir = 'DFT_analysis/kpoints_42-nbnds_250.save/'"
   ]
  },
  {
   "cell_type": "code",
   "execution_count": 8,
   "metadata": {},
   "outputs": [
    {
     "name": "stdout",
     "output_type": "stream",
     "text": [
      "Create folder ABS-IP\n",
      "Executing command: cd DFT_analysis/kpoints_42-nbnds_250.save/; p2y\n",
      "Create a symlink of /work/dalessandro/2D_ELECTRONIC_OPTICAL_PROPERTIES/MoS2/DFT_analysis/kpoints_42-nbnds_250.save/SAVE in ABS-IP\n",
      "Executing command: cd ABS-IP; yambo\n"
     ]
    }
   ],
   "source": [
    "Tools.build_SAVE(source_dir,run_dir)"
   ]
  },
  {
   "cell_type": "markdown",
   "metadata": {},
   "source": [
    "DFT gap is equal to 1.78 eV, we add a scissor to reproduce the _experimental value_ set to 2.4 eV\n",
    "in agreemnent with the results of PHYSICAL REVIEW B 88, 045412 (2013)"
   ]
  },
  {
   "cell_type": "code",
   "execution_count": 71,
   "metadata": {},
   "outputs": [
    {
     "data": {
      "text/plain": [
       "{'args': 'yambo -o c',\n",
       " 'folder': 'ABS-IP',\n",
       " 'filename': 'yambo.in',\n",
       " 'arguments': ['chi', 'optics'],\n",
       " 'variables': {'DIP_Threads': [0.0, ''],\n",
       "  'X_Threads': [0.0, ''],\n",
       "  'ETStpsXd': [1000, ''],\n",
       "  'Chimod': 'IP',\n",
       "  'QpntsRXd': [[1, 1], ''],\n",
       "  'BndsRnXd': [[22, 29], ''],\n",
       "  'EnRngeXd': [[0, 8], 'eV'],\n",
       "  'DmRngeXd': [[0.05, 0.05], 'eV'],\n",
       "  'LongDrXd': [[1.0, 1.0, 0.0], ''],\n",
       "  'XfnQP_E': [[0.6199999999999999, 1.0, 1.0], '']}}"
      ]
     },
     "execution_count": 71,
     "metadata": {},
     "output_type": "execute_result"
    }
   ],
   "source": [
    "eta = 0.1 # energy broadening in eV\n",
    "dft_gap = 1.78\n",
    "exp_gap = 2.4\n",
    "scissor = exp_gap-dft_gap # eV\n",
    "\n",
    "inp = I.YamboInput('yambo -o c',folder=run_dir)\n",
    "inp['variables']['LongDrXd'] = [[1.00,1.00,0.00],''] # electric field\n",
    "inp['variables']['XfnQP_E'] = [[scissor,1.00,1.00],''] # scissor\n",
    "inp['variables']['DmRngeXd'] = [[eta/2,eta/2],'eV'] # damping range\n",
    "inp['variables']['EnRngeXd'] = [[0,8],'eV'] # energy range\n",
    "inp['variables']['ETStpsXd'] = [1000,''] # number of energy step\n",
    "inp['variables']['BndsRnXd'] = [[22,29],''] # bands used for transitions\n",
    "inp['variables']['QpntsRXd'] = [[1,1],''] # momentum transfer\n",
    "inp"
   ]
  },
  {
   "cell_type": "code",
   "execution_count": 52,
   "metadata": {},
   "outputs": [
    {
     "name": "stdout",
     "output_type": "stream",
     "text": [
      "delete job_out script: ABS-IP/job_ip_abs.out\n",
      "delete folder: ABS-IP/ip_abs\n",
      "run command: mpirun -np 16 yambo -F ip_abs.in -J ip_abs -C ip_abs\n",
      "slurm submit:  cd ABS-IP ; sbatch job_ip_abs.sh\n",
      "computation ip_abs is running...\n",
      "computation ip_abs ended\n",
      "Run performed in 26s\n"
     ]
    },
    {
     "data": {
      "text/plain": [
       "{'output': {'eps_q1_ip': 'ABS-IP/ip_abs/o-ip_abs.eps_q1_ip',\n",
       "  'eel_q1_ip': 'ABS-IP/ip_abs/o-ip_abs.eel_q1_ip'},\n",
       " 'report': 'ABS-IP/ip_abs/r-ip_abs_optics_dipoles_chi',\n",
       " 'dft': 'ABS-IP/SAVE/ns.db1',\n",
       " 'dipoles': 'ABS-IP/ip_abs/ndb.dipoles'}"
      ]
     },
     "execution_count": 52,
     "metadata": {},
     "output_type": "execute_result"
    }
   ],
   "source": [
    "name = 'ip_abs'\n",
    "results = code.run(input=inp,run_dir=run_dir,name=name,skip=False)\n",
    "results"
   ]
  },
  {
   "cell_type": "code",
   "execution_count": 72,
   "metadata": {},
   "outputs": [],
   "source": [
    "data = P.YamboParser(results)\n",
    "eps = data.data['eps_q1_ip']\n",
    "energy = eps['col0']\n",
    "eps_im = eps['col1']\n",
    "eps_re = eps['col2']"
   ]
  },
  {
   "cell_type": "code",
   "execution_count": 73,
   "metadata": {},
   "outputs": [
    {
     "data": {
      "text/plain": [
       "(-1.0, 11.0)"
      ]
     },
     "execution_count": 73,
     "metadata": {},
     "output_type": "execute_result"
    },
    {
     "data": {
      "image/png": "[encoded data removed]",
      "text/plain": [
       "<Figure size 720x576 with 1 Axes>"
      ]
     },
     "metadata": {
      "needs_background": "light"
     },
     "output_type": "display_data"
    }
   ],
   "source": [
    "fig, ax = plt.subplots(figsize=(10, 8))\n",
    "\n",
    "ax.plot(energy,eps_im)\n",
    "ax.vlines(dft_gap,-1,11,linestyles='--',color='gray',linewidth=2)\n",
    "ax.vlines(exp_gap,-1,11,linestyles='--',color='red',linewidth=2)\n",
    "ax.set_ylabel('IP abs spectrum',size=20)\n",
    "ax.set_xlabel('energy (eV)',size=20)\n",
    "ax.set_xlim(1.5,6.5)\n",
    "ax.set_ylim(-1,11)"
   ]
  },
  {
   "cell_type": "code",
   "execution_count": null,
   "metadata": {},
   "outputs": [],
   "source": []
  },
  {
   "cell_type": "code",
   "execution_count": null,
   "metadata": {},
   "outputs": [],
   "source": []
  }
 ],
 "metadata": {
  "kernelspec": {
   "display_name": "Python 3",
   "language": "python",
   "name": "python3"
  },
  "language_info": {
   "codemirror_mode": {
    "name": "ipython",
    "version": 3
   },
   "file_extension": ".py",
   "mimetype": "text/x-python",
   "name": "python",
   "nbconvert_exporter": "python",
   "pygments_lexer": "ipython3",
   "version": "3.6.8"
  }
 },
 "nbformat": 4,
 "nbformat_minor": 4
}
