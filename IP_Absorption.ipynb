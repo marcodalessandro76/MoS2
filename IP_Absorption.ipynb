{
 "cells": [
  {
   "cell_type": "code",
   "execution_count": 1,
   "metadata": {},
   "outputs": [],
   "source": [
    "# useful to autoreload the module without restarting the kernel\n",
    "%load_ext autoreload\n",
    "%autoreload 2"
   ]
  },
  {
   "cell_type": "code",
   "execution_count": 2,
   "metadata": {},
   "outputs": [],
   "source": [
    "from mppi import InputFiles as I, Calculators as C, Datasets as D, Utilities as U, Parsers as P\n",
    "from mppi.Utilities import Constants as Const\n",
    "from mppi.Calculators import Tools\n",
    "import matplotlib.pyplot as plt\n",
    "import numpy as np\n",
    "import os, yaml\n",
    "\n",
    "h_red = Const.Planck_reduced_ev_ps*1e3 # hbar in eV*fs\n",
    "h = Const.Planck_ev_ps*1e3 # h in eV*fs"
   ]
  },
  {
   "cell_type": "code",
   "execution_count": null,
   "metadata": {},
   "outputs": [],
   "source": [
    "# RunRules for local computations\n",
    "mpi = 4\n",
    "omp = 2\n",
    "\n",
    "rr = C.RunRules(omp_num_threads=omp,mpi=mpi)\n",
    "code = C.YamboCalculator(rr)\n",
    "#code.global_options()"
   ]
  },
  {
   "cell_type": "code",
   "execution_count": 3,
   "metadata": {},
   "outputs": [
    {
     "name": "stdout",
     "output_type": "stream",
     "text": [
      "Initialize a Yambo calculator with scheduler slurm\n"
     ]
    },
    {
     "data": {
      "text/plain": [
       "{'scheduler': 'slurm',\n",
       " 'nodes': 1,\n",
       " 'ntasks_per_node': 16,\n",
       " 'cpus_per_task': 2,\n",
       " 'omp_num_threads': 2,\n",
       " 'gpus_per_node': None,\n",
       " 'memory': '125000',\n",
       " 'time': '11:59:00',\n",
       " 'partition': 'all12h',\n",
       " 'account': None,\n",
       " 'qos': None,\n",
       " 'map_by': None,\n",
       " 'pe': 1,\n",
       " 'rank_by': None,\n",
       " 'executable': 'yambo',\n",
       " 'skip': True,\n",
       " 'clean_restart': True,\n",
       " 'dry_run': False,\n",
       " 'wait_end_run': True,\n",
       " 'activate_BeeOND': True,\n",
       " 'verbose': True,\n",
       " 'fatlog': False}"
      ]
     },
     "execution_count": 3,
     "metadata": {},
     "output_type": "execute_result"
    }
   ],
   "source": [
    "# RunRules for ismhpc\n",
    "# The product of ntasks_per_node*cpus_per_task is equal to 32. \n",
    "# Many mpi are needed for better performances\n",
    "nodes = 1\n",
    "ntasks_per_node = 16\n",
    "cpus_per_task=2\n",
    "omp_num_threads=2\n",
    "\n",
    "ntasks = nodes*ntasks_per_node\n",
    "\n",
    "rr = C.RunRules(scheduler='slurm',partition='all12h',\n",
    "                memory='125000',time='11:59:00',\n",
    "                nodes=nodes,ntasks_per_node=ntasks_per_node,\n",
    "                cpus_per_task=cpus_per_task,\n",
    "                omp_num_threads=omp_num_threads)\n",
    "code = C.YamboCalculator(rr,activate_BeeOND=True) #,skip=False,clean_restart=False\n",
    "code.global_options()"
   ]
  },
  {
   "cell_type": "markdown",
   "metadata": {
    "tags": []
   },
   "source": [
    "# Computation of the IP Absorption spectrum"
   ]
  },
  {
   "cell_type": "markdown",
   "metadata": {},
   "source": [
    "We compute the IP absorption spectrum using Yambo"
   ]
  },
  {
   "cell_type": "code",
   "execution_count": 4,
   "metadata": {},
   "outputs": [
    {
     "name": "stdout",
     "output_type": "stream",
     "text": [
      "SAVE folder DFT_analysis/kpoints_42-nbnds_250.save/SAVE already present. No operations performed.\n",
      "SAVE folder already present in ABS-IP. No operations performed.\n"
     ]
    }
   ],
   "source": [
    "run_dir = 'ABS-IP'\n",
    "source_dir = 'DFT_analysis/kpoints_42-nbnds_250.save/'\n",
    "save_dir = Tools.make_p2y(source_dir,overwrite_if_found=False)\n",
    "Tools.init_yambo_run_dir(save_dir,run_dir=run_dir)"
   ]
  },
  {
   "cell_type": "markdown",
   "metadata": {},
   "source": [
    "DFT gap is equal to 1.78 eV, we add a scissor to reproduce the _experimental value_ set to 2.4 eV\n",
    "in agreemnent with the results of PHYSICAL REVIEW B 88, 045412 (2013)"
   ]
  },
  {
   "cell_type": "code",
   "execution_count": 22,
   "metadata": {},
   "outputs": [
    {
     "data": {
      "text/plain": [
       "{'args': 'yambo -o c',\n",
       " 'folder': 'ABS-IP',\n",
       " 'filename': 'yambo.in',\n",
       " 'arguments': ['chi', 'optics'],\n",
       " 'variables': {'DIP_Threads': [0.0, ''],\n",
       "  'X_Threads': [0.0, ''],\n",
       "  'ETStpsXd': [1000, ''],\n",
       "  'Chimod': 'IP',\n",
       "  'QpntsRXd': [[1, 1], ''],\n",
       "  'BndsRnXd': [[22, 29], ''],\n",
       "  'EnRngeXd': [[0, 8], 'eV'],\n",
       "  'DmRngeXd': [[0.05, 0.05], 'eV'],\n",
       "  'LongDrXd': [[1.0, 1.0, 0.0], ''],\n",
       "  'XfnQP_E': [[0.6199999999999999, 1.0, 1.0], '']}}"
      ]
     },
     "execution_count": 22,
     "metadata": {},
     "output_type": "execute_result"
    }
   ],
   "source": [
    "eta = 0.1 # energy broadening in eV\n",
    "dft_gap = 1.78\n",
    "exp_gap = 2.4\n",
    "scissor = exp_gap-dft_gap # eV\n",
    "energy_range = [0,8] # eV\n",
    "energy_step = 1000\n",
    "bands_trans = [22,29]\n",
    "\n",
    "inp = I.YamboInput('yambo -o c',folder=run_dir)\n",
    "inp.set_array_variables(LongDrXd = [1.,1.,0.],XfnQP_E=[scissor,1.,1.]) # electric field / scissor\n",
    "inp.set_array_variables(units='eV',DmRngeXd=[eta/2,eta/2],EnRngeXd=energy_range) # damping / energy range\n",
    "inp.set_array_variables(ETStpsXd =energy_step, BndsRnXd=bands_trans,QpntsRXd=[1,1]) # energy step / bands or transitions / momentum transfer\n",
    "inp"
   ]
  },
  {
   "cell_type": "code",
   "execution_count": 14,
   "metadata": {},
   "outputs": [
    {
     "name": "stdout",
     "output_type": "stream",
     "text": [
      "delete job_out script: ABS-IP/job_ip_abs.out\n",
      "delete folder: ABS-IP/ip_abs\n",
      "run command: mpirun -np 16 yambo -F ip_abs.in -J ip_abs -C ip_abs\n",
      "slurm submit:  cd ABS-IP ; sbatch job_ip_abs.sh\n",
      "computation ip_abs is running...\n",
      "computation ip_abs ended\n",
      "Run performed in 29s\n"
     ]
    },
    {
     "data": {
      "text/plain": [
       "{'output': {'eps_q1_ip': 'ABS-IP/ip_abs/o-ip_abs.eps_q1_ip',\n",
       "  'eel_q1_ip': 'ABS-IP/ip_abs/o-ip_abs.eel_q1_ip'},\n",
       " 'report': 'ABS-IP/ip_abs/r-ip_abs_optics_dipoles_chi',\n",
       " 'dft': 'ABS-IP/SAVE/ns.db1',\n",
       " 'dipoles': 'ABS-IP/ip_abs/ndb.dipoles'}"
      ]
     },
     "execution_count": 14,
     "metadata": {},
     "output_type": "execute_result"
    }
   ],
   "source": [
    "name = 'ip_abs'\n",
    "results = code.run(input=inp,run_dir=run_dir,name=name,skip=False)\n",
    "results"
   ]
  },
  {
   "cell_type": "code",
   "execution_count": 18,
   "metadata": {},
   "outputs": [],
   "source": [
    "data = P.YamboParser(results)\n",
    "eps = data.data['eps_q1_ip']\n",
    "energy = eps['energy']\n",
    "eps_im = eps['eps_imag']"
   ]
  },
  {
   "cell_type": "code",
   "execution_count": 21,
   "metadata": {},
   "outputs": [
    {
     "data": {
      "text/plain": [
       "(-1.0, 11.0)"
      ]
     },
     "execution_count": 21,
     "metadata": {},
     "output_type": "execute_result"
    },
    {
     "data": {
      "image/png": "[encoded data removed]",
      "text/plain": [
       "<Figure size 720x576 with 1 Axes>"
      ]
     },
     "metadata": {
      "needs_background": "light"
     },
     "output_type": "display_data"
    }
   ],
   "source": [
    "fig, ax = plt.subplots(figsize=(10, 8))\n",
    "\n",
    "ax.plot(energy,eps_im)\n",
    "ax.vlines(dft_gap,-1,11,linestyles='--',color='gray',linewidth=2)\n",
    "ax.vlines(exp_gap,-1,11,linestyles='--',color='red',linewidth=2)\n",
    "ax.set_ylabel('IP abs spectrum',size=20)\n",
    "ax.set_xlabel('energy (eV)',size=20)\n",
    "ax.set_xlim(1.5,6.5)\n",
    "ax.set_ylim(-1,11)"
   ]
  },
  {
   "cell_type": "markdown",
   "metadata": {},
   "source": [
    "We compute the ip absorption using the -o b option. We include the Coulomb cutoff and we test the usage\n",
    "of the devel-xuv branch at the ip level"
   ]
  },
  {
   "cell_type": "code",
   "execution_count": 5,
   "metadata": {},
   "outputs": [
    {
     "name": "stdout",
     "output_type": "stream",
     "text": [
      "SAVE folder DFT_analysis/kpoints_42-nbnds_250.save/SAVE already present. No operations performed.\n",
      "SAVE folder already present in ABS-IP. No operations performed.\n"
     ]
    }
   ],
   "source": [
    "run_dir = 'ABS-IP'\n",
    "source_dir = 'DFT_analysis/kpoints_42-nbnds_250.save/'\n",
    "save_dir = Tools.make_p2y(source_dir,overwrite_if_found=False)\n",
    "Tools.init_yambo_run_dir(save_dir,run_dir=run_dir)"
   ]
  },
  {
   "cell_type": "markdown",
   "metadata": {},
   "source": [
    "DFT gap is equal to 1.78 eV, we add a scissor to reproduce the _experimental value_ set to 2.4 eV\n",
    "in agreemnent with the results of PHYSICAL REVIEW B 88, 045412 (2013)"
   ]
  },
  {
   "cell_type": "code",
   "execution_count": 8,
   "metadata": {},
   "outputs": [
    {
     "data": {
      "text/plain": [
       "{'args': 'yambo -r -o b',\n",
       " 'folder': 'ABS-IP',\n",
       " 'filename': 'yambo.in',\n",
       " 'arguments': ['rim_cut', 'bse', 'optics', 'photolum'],\n",
       " 'variables': {'DIP_Threads': [0.0, ''],\n",
       "  'X_Threads': [0.0, ''],\n",
       "  'K_Threads': [0.0, ''],\n",
       "  'RandQpts': [0.0, ''],\n",
       "  'RandGvec': [1.0, 'RL'],\n",
       "  'CUTRadius': [0.0, ''],\n",
       "  'CUTCylLen': [0.0, ''],\n",
       "  'CUTwsGvec': [0.7, ''],\n",
       "  'BSENGexx': [116627.0, 'RL'],\n",
       "  'BEnSteps': [100.0, ''],\n",
       "  'CUTGeo': 'slab z',\n",
       "  'BSKmod': 'IP',\n",
       "  'BSEmod': 'resonant',\n",
       "  'BSEprop': 'abs',\n",
       "  'BSEdips': 'none',\n",
       "  'CUTBox': [[0.0, 0.0, 0.0], ''],\n",
       "  'BSEQptR': [[1, 1], ''],\n",
       "  'BSEBands': [[22, 29], ''],\n",
       "  'BEnRange': [[0.0, 10.0], 'eV'],\n",
       "  'BDmRange': [[0.1, 0.1], 'eV'],\n",
       "  'BLongDir': [[1.0, 0.0, 0.0], ''],\n",
       "  'LongDrXd': [[1.0, 1.0, 0.0], ''],\n",
       "  'XfnQP_E': [[0.6199999999999999, 1.0, 1.0], ''],\n",
       "  'DmRngeXd': [[0.05, 0.05], 'eV'],\n",
       "  'EnRngeXd': [[0, 8], 'eV'],\n",
       "  'ETStpsXd': [1000, ''],\n",
       "  'QpntsRXd': [[1, 1], '']}}"
      ]
     },
     "execution_count": 8,
     "metadata": {},
     "output_type": "execute_result"
    }
   ],
   "source": [
    "eta = 0.1 # energy broadening in eV\n",
    "dft_gap = 1.78\n",
    "exp_gap = 2.4\n",
    "scissor = exp_gap-dft_gap # eV\n",
    "energy_range = [0,8] # eV\n",
    "energy_step = 1000\n",
    "bands_trans = [22,29]\n",
    "\n",
    "inp = I.YamboInput('yambo -r -o b',folder=run_dir)\n",
    "inp.set_scalar_variables(CUTGeo='slab z')\n",
    "inp.set_array_variables(LongDrXd = [1.,1.,0.],XfnQP_E=[scissor,1.,1.]) # electric field / scissor\n",
    "inp.set_array_variables(units='eV',DmRngeXd=[eta/2,eta/2],EnRngeXd=energy_range) # damping / energy range\n",
    "inp.set_array_variables(ETStpsXd =energy_step, BSEBands=bands_trans,QpntsRXd=[1,1]) # energy step / bands for transitions / momentum transfer\n",
    "inp"
   ]
  },
  {
   "cell_type": "code",
   "execution_count": 9,
   "metadata": {},
   "outputs": [
    {
     "name": "stdout",
     "output_type": "stream",
     "text": [
      "Skip the run of low-energy_abs_Coul-cutoff\n"
     ]
    },
    {
     "data": {
      "text/plain": [
       "{'output': {'eps_q1_IP': 'ABS-IP/low-energy_abs_Coul-cutoff/o-low-energy_abs_Coul-cutoff.eps_q1_IP',\n",
       "  'eel_q1_IP': 'ABS-IP/low-energy_abs_Coul-cutoff/o-low-energy_abs_Coul-cutoff.eel_q1_IP',\n",
       "  'alpha_q1_IP': 'ABS-IP/low-energy_abs_Coul-cutoff/o-low-energy_abs_Coul-cutoff.alpha_q1_IP'},\n",
       " 'report': 'ABS-IP/low-energy_abs_Coul-cutoff/r-low-energy_abs_Coul-cutoff_rim_cut_optics_dipoles_bse',\n",
       " 'dft': 'ABS-IP/SAVE/ns.db1',\n",
       " 'cutoff': 'ABS-IP/low-energy_abs_Coul-cutoff/ndb.cutoff',\n",
       " 'dipoles': 'ABS-IP/low-energy_abs_Coul-cutoff/ndb.dipoles'}"
      ]
     },
     "execution_count": 9,
     "metadata": {},
     "output_type": "execute_result"
    }
   ],
   "source": [
    "name = 'low-energy_abs_Coul-cutoff'\n",
    "results = code.run(input=inp,run_dir=run_dir,name=name,skip=True)\n",
    "results"
   ]
  },
  {
   "cell_type": "code",
   "execution_count": 13,
   "metadata": {},
   "outputs": [],
   "source": [
    "data = P.YamboParser(results)\n",
    "alpha = data.data['alpha_q1_IP']\n",
    "energy = alpha['energy'] #['energy']\n",
    "alpha_im = alpha['alpha_imag'] #['eps_imag']"
   ]
  },
  {
   "cell_type": "code",
   "execution_count": 14,
   "metadata": {},
   "outputs": [
    {
     "data": {
      "text/plain": [
       "Text(0.5, 0, 'energy (eV)')"
      ]
     },
     "execution_count": 14,
     "metadata": {},
     "output_type": "execute_result"
    },
    {
     "data": {
      "image/png": "[encoded data removed]",
      "text/plain": [
       "<Figure size 720x576 with 1 Axes>"
      ]
     },
     "metadata": {
      "needs_background": "light"
     },
     "output_type": "display_data"
    }
   ],
   "source": [
    "fig, ax = plt.subplots(figsize=(10, 8))\n",
    "\n",
    "ax.plot(energy,alpha_im)\n",
    "#ax.vlines(dft_gap,-1,11,linestyles='--',color='gray',linewidth=2)\n",
    "#ax.vlines(exp_gap,-1,11,linestyles='--',color='red',linewidth=2)\n",
    "ax.set_ylabel('IP Alpha',size=20)\n",
    "ax.set_xlabel('energy (eV)',size=20)\n",
    "#ax.set_xlim(1.5,6.5)\n",
    "#ax.set_ylim(-1,11)"
   ]
  },
  {
   "cell_type": "markdown",
   "metadata": {},
   "source": [
    "Now we test xuv feature and we compute the transitions due to the semicore electrons"
   ]
  },
  {
   "cell_type": "code",
   "execution_count": 30,
   "metadata": {},
   "outputs": [
    {
     "data": {
      "text/plain": [
       "{'args': 'yambo -r -o b',\n",
       " 'folder': 'ABS-IP',\n",
       " 'filename': 'yambo.in',\n",
       " 'arguments': ['rim_cut', 'bse', 'optics', 'photolum'],\n",
       " 'variables': {'DIP_Threads': [0.0, ''],\n",
       "  'X_Threads': [0.0, ''],\n",
       "  'K_Threads': [0.0, ''],\n",
       "  'RandQpts': [0.0, ''],\n",
       "  'RandGvec': [1.0, 'RL'],\n",
       "  'CUTRadius': [0.0, ''],\n",
       "  'CUTCylLen': [0.0, ''],\n",
       "  'CUTwsGvec': [0.7, ''],\n",
       "  'BSENGexx': [116627.0, 'RL'],\n",
       "  'BEnSteps': [1000, ''],\n",
       "  'CUTGeo': 'slab z',\n",
       "  'BSKmod': 'IP',\n",
       "  'BSEmod': 'resonant',\n",
       "  'BSEprop': 'abs',\n",
       "  'BSEdips': 'none',\n",
       "  'CUTBox': [[0.0, 0.0, 0.0], ''],\n",
       "  'BSEQptR': [[1, 1], ''],\n",
       "  'BSEBands': [[3, 28], ''],\n",
       "  'BEnRange': [[0, 40], 'eV'],\n",
       "  'BDmRange': [[0.05, 0.05], 'eV'],\n",
       "  'BLongDir': [[1.0, 0.0, 0.0], ''],\n",
       "  'LongDrXd': [[1.0, 1.0, 0.0], ''],\n",
       "  'XfnQP_E': [[0.6199999999999999, 1.0, 1.0], ''],\n",
       "  'BSEHoleBands': [[3, 8], ''],\n",
       "  'BSEElecBands': [[27, 28], '']}}"
      ]
     },
     "execution_count": 30,
     "metadata": {},
     "output_type": "execute_result"
    }
   ],
   "source": [
    "eta = 0.1 # energy broadening in eV\n",
    "dft_gap = 1.78\n",
    "exp_gap = 2.4\n",
    "scissor = exp_gap-dft_gap # eV\n",
    "BEnRange = [0,40] # eV\n",
    "BEnSteps = 1000\n",
    "BSEBands = [3,28]\n",
    "BSEHoleBands = [3,8]\n",
    "BSEElecBands = [27,28]\n",
    "\n",
    "inp = I.YamboInput('yambo -r -o b',folder=run_dir)\n",
    "inp.set_scalar_variables(CUTGeo='slab z')\n",
    "inp.set_array_variables(LongDrXd = [1.,1.,0.],XfnQP_E=[scissor,1.,1.]) # electric field / scissor\n",
    "inp.set_array_variables(units='eV',BDmRange=[eta/2,eta/2],BEnRange=BEnRange) # damping / energy range\n",
    "inp.set_array_variables(BSEBands=BSEBands,BSEHoleBands=BSEHoleBands,BSEElecBands=BSEElecBands)\n",
    "inp.set_array_variables(BEnSteps=BEnSteps,BSEQptR=[1,1]) # energy step / momentum transfer\n",
    "inp"
   ]
  },
  {
   "cell_type": "code",
   "execution_count": 25,
   "metadata": {},
   "outputs": [
    {
     "name": "stdout",
     "output_type": "stream",
     "text": [
      "delete job_out script: ABS-IP/job_xuv-energy_abs.out\n",
      "delete folder: ABS-IP/xuv-energy_abs\n",
      "run command: mpirun -np 16 yambo -F xuv-energy_abs.in -J xuv-energy_abs -C xuv-energy_abs\n",
      "slurm submit:  cd ABS-IP ; sbatch job_xuv-energy_abs.sh\n",
      "computation xuv-energy_abs is running...\n",
      "computation xuv-energy_abs ended\n",
      "Run performed in 59s\n"
     ]
    },
    {
     "data": {
      "text/plain": [
       "{'output': {'eps_q1_IP': 'ABS-IP/xuv-energy_abs/o-xuv-energy_abs.eps_q1_IP',\n",
       "  'eel_q1_IP': 'ABS-IP/xuv-energy_abs/o-xuv-energy_abs.eel_q1_IP',\n",
       "  'alpha_q1_IP': 'ABS-IP/xuv-energy_abs/o-xuv-energy_abs.alpha_q1_IP'},\n",
       " 'report': 'ABS-IP/xuv-energy_abs/r-xuv-energy_abs_rim_cut_optics_dipoles_bse',\n",
       " 'dft': 'ABS-IP/SAVE/ns.db1',\n",
       " 'cutoff': 'ABS-IP/xuv-energy_abs/ndb.cutoff',\n",
       " 'dipoles': 'ABS-IP/xuv-energy_abs/ndb.dipoles'}"
      ]
     },
     "execution_count": 25,
     "metadata": {},
     "output_type": "execute_result"
    }
   ],
   "source": [
    "name = 'xuv-energy_abs'\n",
    "results = code.run(input=inp,run_dir=run_dir,name=name,skip=False)\n",
    "results"
   ]
  },
  {
   "cell_type": "code",
   "execution_count": 26,
   "metadata": {},
   "outputs": [],
   "source": [
    "data = P.YamboParser(results)\n",
    "alpha = data.data['alpha_q1_IP']\n",
    "energy = alpha['energy'] #['energy']\n",
    "alpha_im = alpha['alpha_imag'] #['eps_imag']"
   ]
  },
  {
   "cell_type": "code",
   "execution_count": 28,
   "metadata": {},
   "outputs": [
    {
     "data": {
      "text/plain": [
       "(30.0, 45.0)"
      ]
     },
     "execution_count": 28,
     "metadata": {},
     "output_type": "execute_result"
    },
    {
     "data": {
      "image/png": "[encoded data removed]",
      "text/plain": [
       "<Figure size 720x576 with 1 Axes>"
      ]
     },
     "metadata": {
      "needs_background": "light"
     },
     "output_type": "display_data"
    }
   ],
   "source": [
    "fig, ax = plt.subplots(figsize=(10, 8))\n",
    "\n",
    "ax.plot(energy,alpha_im)\n",
    "ax.set_ylabel('IP Alpha',size=20)\n",
    "ax.set_xlabel('energy (eV)',size=20)\n",
    "ax.set_xlim(30,45)"
   ]
  },
  {
   "cell_type": "code",
   "execution_count": null,
   "metadata": {},
   "outputs": [],
   "source": []
  },
  {
   "cell_type": "code",
   "execution_count": null,
   "metadata": {},
   "outputs": [],
   "source": []
  }
 ],
 "metadata": {
  "kernelspec": {
   "display_name": "Python 3",
   "language": "python",
   "name": "python3"
  },
  "language_info": {
   "codemirror_mode": {
    "name": "ipython",
    "version": 3
   },
   "file_extension": ".py",
   "mimetype": "text/x-python",
   "name": "python",
   "nbconvert_exporter": "python",
   "pygments_lexer": "ipython3",
   "version": "3.6.8"
  }
 },
 "nbformat": 4,
 "nbformat_minor": 4
}
