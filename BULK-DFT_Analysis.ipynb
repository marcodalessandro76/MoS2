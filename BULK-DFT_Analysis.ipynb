{
 "cells": [
  {
   "cell_type": "code",
   "execution_count": 1,
   "id": "d8b8903f-2a56-45a5-a627-8c078b29beca",
   "metadata": {},
   "outputs": [],
   "source": [
    "# useful to autoreload the module without restarting the kernel\n",
    "%load_ext autoreload\n",
    "%autoreload 2"
   ]
  },
  {
   "cell_type": "code",
   "execution_count": 2,
   "id": "440aebbe-cc91-4c16-8588-1a8971fa4832",
   "metadata": {},
   "outputs": [],
   "source": [
    "from mppi import InputFiles as I, Calculators as C, Datasets as D, Parsers as P, Utilities as U\n",
    "from mppi.Calculators import Tools\n",
    "from mppi.Datasets import PostProcessing as PP\n",
    "from mppi.Utilities import Constants as Const\n",
    "from mppi.Utilities import LatticeUtils as LL\n",
    "import matplotlib.pyplot as plt\n",
    "import numpy as np\n",
    "import os, yaml"
   ]
  },
  {
   "cell_type": "code",
   "execution_count": null,
   "id": "9b7d01c3-2faf-48cc-b9c3-1fd813e9a965",
   "metadata": {},
   "outputs": [],
   "source": [
    "# RunRules for local computations\n",
    "mpi = 4\n",
    "omp = 2\n",
    "\n",
    "rr = C.RunRules(omp_num_threads=omp,mpi=mpi)\n",
    "code = C.QeCalculator(rr)\n",
    "#code.global_options()"
   ]
  },
  {
   "cell_type": "code",
   "execution_count": 3,
   "id": "7f849d39-dc30-4225-abf0-ef50b8eced86",
   "metadata": {},
   "outputs": [
    {
     "name": "stdout",
     "output_type": "stream",
     "text": [
      "Initialize a QuantumESPRESSO calculator with scheduler slurm\n"
     ]
    },
    {
     "data": {
      "text/plain": [
       "{'scheduler': 'slurm',\n",
       " 'nodes': 1,\n",
       " 'ntasks_per_node': 16,\n",
       " 'cpus_per_task': 2,\n",
       " 'omp_num_threads': 2,\n",
       " 'gpus_per_node': None,\n",
       " 'memory': '125000',\n",
       " 'time': '11:59:00',\n",
       " 'partition': 'all12h',\n",
       " 'account': None,\n",
       " 'qos': None,\n",
       " 'map_by': None,\n",
       " 'pe': 1,\n",
       " 'rank_by': None,\n",
       " 'executable': 'pw.x',\n",
       " 'skip': True,\n",
       " 'clean_restart': True,\n",
       " 'dry_run': False,\n",
       " 'wait_end_run': True,\n",
       " 'activate_BeeOND': True,\n",
       " 'verbose': True}"
      ]
     },
     "execution_count": 3,
     "metadata": {},
     "output_type": "execute_result"
    }
   ],
   "source": [
    "# RunRules for ismhpc\n",
    "# The product of ntasks_per_node*cpus_per_task is equal to 32. \n",
    "# Many mpi are needed for better performances\n",
    "nodes = 1\n",
    "ntasks_per_node = 16\n",
    "cpus_per_task=2\n",
    "omp_num_threads=2\n",
    "\n",
    "ntasks = nodes*ntasks_per_node\n",
    "\n",
    "rr = C.RunRules(scheduler='slurm',partition='all12h',\n",
    "                memory='125000',time='11:59:00',\n",
    "                nodes=nodes,ntasks_per_node=ntasks_per_node,\n",
    "                cpus_per_task=cpus_per_task,\n",
    "                omp_num_threads=omp_num_threads)\n",
    "code = C.QeCalculator(rr,activate_BeeOND=True) #,skip=False,clean_restart=False\n",
    "code.global_options()"
   ]
  },
  {
   "cell_type": "code",
   "execution_count": 5,
   "id": "61f8944e-574e-4361-a69e-479c12943f5b",
   "metadata": {},
   "outputs": [],
   "source": [
    "# RunRules for m100\n",
    "nodes = 1\n",
    "ntasks_per_node = 4\n",
    "cpus_per_task=32\n",
    "omp_num_threads=8\n",
    "gpus_per_node=4\n",
    "pe=8\n",
    "\n",
    "ntasks = nodes*ntasks_per_node\n",
    "\n",
    "rr = C.RunRules(scheduler='slurm',partition='m100_usr_prod',\n",
    "                account='IscrC_AlNWS2',\n",
    "                memory='120GB',time='23:59:00',\n",
    "                nodes=nodes,ntasks_per_node=ntasks_per_node,\n",
    "                cpus_per_task=cpus_per_task,omp_num_threads=omp_num_threads,\n",
    "                gpus_per_node=gpus_per_node,pe=pe,\n",
    "                map_by='socket',rank_by='core')\n",
    "code = C.QeCalculator(rr)\n",
    "#code.global_options()"
   ]
  },
  {
   "cell_type": "markdown",
   "id": "d8d8a42a-0211-4695-a820-1f029cb9ec8e",
   "metadata": {
    "tags": []
   },
   "source": [
    "# DFT analysis of the bulk MoS$_2$"
   ]
  },
  {
   "cell_type": "markdown",
   "id": "5f5ace36-aff8-457a-847a-cdf1650ef4c7",
   "metadata": {},
   "source": [
    "This notebook contains the DFT analysis of the bulk MoS$_2$ performed with QuantumESPRESSO"
   ]
  },
  {
   "cell_type": "markdown",
   "id": "7a19fd48-108e-4528-846d-37fab4136288",
   "metadata": {
    "tags": []
   },
   "source": [
    "## Lattice properties and atomic positions"
   ]
  },
  {
   "cell_type": "markdown",
   "id": "08aaa284-e989-4326-b0ff-2c2fd0fce3ff",
   "metadata": {},
   "source": [
    "We start from the input file generated from the inputs provided by Maurizia Palumno"
   ]
  },
  {
   "cell_type": "code",
   "execution_count": 5,
   "id": "9b9654be-620c-42dd-b072-819fc204a7d4",
   "metadata": {},
   "outputs": [
    {
     "data": {
      "text/plain": [
       "{'control': {'calculation': \"'scf'\",\n",
       "  'verbosity': \"'high'\",\n",
       "  'prefix': \"'pwscf'\",\n",
       "  'outdir': \"'./'\",\n",
       "  'restart_mode': \"'from_scratch'\",\n",
       "  'wf_collect': '.true.'},\n",
       " 'system': {'force_symmorphic': '.true.',\n",
       "  'ibrav': 4,\n",
       "  'celldm(1)': 5.9998,\n",
       "  'celldm(3)': 3.998,\n",
       "  'nat': 6,\n",
       "  'ntyp': 2,\n",
       "  'noncolin': '.true.',\n",
       "  'lspinorb': '.true.',\n",
       "  'ecutwfc': 60},\n",
       " 'electrons': {'diago_full_acc': '.false.', 'mixing_beta': 0.7},\n",
       " 'ions': {},\n",
       " 'cell': {},\n",
       " 'atomic_species': {'S': [32.065, 'S-fr.out'], 'Mo': [183.84, 'Mo-fr.out']},\n",
       " 'atomic_positions': {'type': '(crystal)',\n",
       "  'values': [['Mo', [0.333333, 0.666667, 0.25]],\n",
       "   ['Mo', [0.666667, 0.333333, 0.75]],\n",
       "   ['S', [0.666667, 0.333333, 0.3768113548]],\n",
       "   ['S', [0.333333, 0.666667, 0.8768113548]],\n",
       "   ['S', [0.666667, 0.333333, 0.1231886452]],\n",
       "   ['S', [0.333333, 0.666667, 0.6231886452]]]},\n",
       " 'kpoints': {'type': 'automatic',\n",
       "  'values': ([12.0, 12.0, 2.0], [0.0, 0.0, 0.0])},\n",
       " 'cell_parameters': {},\n",
       " 'file': 'Bulk_input_files/MoS2_2H_pbe_bulk.in'}"
      ]
     },
     "execution_count": 5,
     "metadata": {},
     "output_type": "execute_result"
    }
   ],
   "source": [
    "inp = I.PwInput(file='Bulk_input_files/MoS2_2H_pbe_bulk.in')\n",
    "inp"
   ]
  },
  {
   "cell_type": "markdown",
   "id": "cbf94c78-f137-4a0d-97b7-b428af979c35",
   "metadata": {},
   "source": [
    "and we read the relevant lattice and atomic parameters from the file"
   ]
  },
  {
   "cell_type": "code",
   "execution_count": 20,
   "id": "4cbd3b11-c6cf-41d5-b246-9cc873d424c3",
   "metadata": {},
   "outputs": [],
   "source": [
    "alat = inp['system']['celldm(1)']\n",
    "celldm3 = inp['system']['celldm(3)']\n",
    "lattice = alat*np.array([[1,0,0],[-1./2.,np.sqrt(3)/2.,0],[0,0,celldm3]])\n",
    "atoms_cryst = inp['atomic_positions']['values'] # in crystal coordinates"
   ]
  },
  {
   "cell_type": "markdown",
   "id": "82f72541-b50d-4af9-9f14-272b3dda8e60",
   "metadata": {},
   "source": [
    "We convert the atomic positions in cartesian coordinates and we plot the \n",
    "lattice"
   ]
  },
  {
   "cell_type": "code",
   "execution_count": 21,
   "id": "a8b88e1e-4b53-47d3-bd9f-397ac87f5b79",
   "metadata": {},
   "outputs": [],
   "source": [
    "from mppi.Utilities import LatticeUtils as LatU"
   ]
  },
  {
   "cell_type": "code",
   "execution_count": 29,
   "id": "8cbc2d42-0662-4816-93d7-1bff6d9467cd",
   "metadata": {},
   "outputs": [
    {
     "data": {
      "text/plain": [
       "[['Mo', array([-2.99990000e-06,  3.46398788e+00,  5.99680010e+00])],\n",
       " ['Mo', array([ 2.999903  ,  1.73199134, 17.9904003 ])],\n",
       " ['S', array([2.999903  , 1.73199134, 9.03864948])],\n",
       " ['S', array([-2.99990000e-06,  3.46398788e+00,  2.10322497e+01])],\n",
       " ['S', array([2.999903  , 1.73199134, 2.95495072])],\n",
       " ['S', array([-2.99990000e-06,  3.46398788e+00,  1.49485509e+01])]]"
      ]
     },
     "execution_count": 29,
     "metadata": {},
     "output_type": "execute_result"
    }
   ],
   "source": [
    "atoms_cart = []\n",
    "for atom in atoms_cryst:\n",
    "    atoms_cart.append([atom[0],LatU.convert_to_cartesian(lattice,atom[1])])\n",
    "atoms_cart"
   ]
  },
  {
   "cell_type": "code",
   "execution_count": 30,
   "id": "ff1e355e-7a68-45fe-b6c0-5b4db106ef62",
   "metadata": {},
   "outputs": [],
   "source": [
    "positions = LL.build_lattice(lattice,atoms_cart,8,8,2)\n",
    "#positions"
   ]
  },
  {
   "cell_type": "code",
   "execution_count": 31,
   "id": "325449aa-1633-4fd3-a351-c29a697ff760",
   "metadata": {},
   "outputs": [
    {
     "data": {
      "text/plain": [
       "<matplotlib.legend.Legend at 0x7fada281d048>"
      ]
     },
     "execution_count": 31,
     "metadata": {},
     "output_type": "execute_result"
    },
    {
     "data": {
      "image/png": "[encoded data removed]",
      "text/plain": [
       "<Figure size 432x288 with 1 Axes>"
      ]
     },
     "metadata": {
      "needs_background": "light"
     },
     "output_type": "display_data"
    }
   ],
   "source": [
    "for pos in positions:\n",
    "    plt.scatter(pos[1],pos[2],label=pos[0])\n",
    "plt.title('Atomic positions in the xy plane',size=12)\n",
    "plt.legend()"
   ]
  },
  {
   "cell_type": "code",
   "execution_count": 32,
   "id": "cfde780a-dc30-40ad-a3e9-6d402ba6739d",
   "metadata": {},
   "outputs": [
    {
     "data": {
      "text/plain": [
       "<matplotlib.legend.Legend at 0x7fada2828828>"
      ]
     },
     "execution_count": 32,
     "metadata": {},
     "output_type": "execute_result"
    },
    {
     "data": {
      "image/png": "[encoded data removed]",
      "text/plain": [
       "<Figure size 432x288 with 1 Axes>"
      ]
     },
     "metadata": {
      "needs_background": "light"
     },
     "output_type": "display_data"
    }
   ],
   "source": [
    "for pos in positions:\n",
    "    plt.scatter(pos[1],pos[3],label=pos[0])\n",
    "plt.title('Atomic positions in the xz plane',size=12)\n",
    "plt.legend()"
   ]
  },
  {
   "cell_type": "markdown",
   "id": "fd793818-57f7-4a1b-b68b-0597f0df18dc",
   "metadata": {
    "tags": []
   },
   "source": [
    "## GS Analysis"
   ]
  },
  {
   "cell_type": "markdown",
   "id": "bcaa5363-c926-4761-b98f-7742592ed28a",
   "metadata": {},
   "source": [
    "We perform some convergence tests for the energy cutoff of the wavefunction and for the lattice parameters\n",
    "in order to find a converged ground state.\n",
    "\n",
    "At this stage we do not test over the k-points sampling, so the value 12x12x2 provided in the original input\n",
    "file is used in the subsequent analysis."
   ]
  },
  {
   "cell_type": "code",
   "execution_count": 4,
   "id": "9ddb097e-f586-400b-a762-f89c3348118a",
   "metadata": {},
   "outputs": [],
   "source": [
    "run_dir = 'BULK-DFT_analysis'"
   ]
  },
  {
   "cell_type": "code",
   "execution_count": 93,
   "id": "3315f542-8f64-46f1-b493-700305332828",
   "metadata": {},
   "outputs": [
    {
     "data": {
      "text/plain": [
       "{'control': {'calculation': \"'scf'\",\n",
       "  'verbosity': \"'high'\",\n",
       "  'prefix': \"'pwscf'\",\n",
       "  'outdir': \"'./'\",\n",
       "  'restart_mode': \"'from_scratch'\",\n",
       "  'wf_collect': '.true.',\n",
       "  'pseudo_dir': \"'../pseudos'\"},\n",
       " 'system': {'force_symmorphic': '.true.',\n",
       "  'ibrav': 4,\n",
       "  'celldm(1)': 5.9998,\n",
       "  'celldm(3)': 3.998,\n",
       "  'nat': 6,\n",
       "  'ntyp': 2,\n",
       "  'noncolin': '.true.',\n",
       "  'lspinorb': '.true.',\n",
       "  'ecutwfc': 60},\n",
       " 'electrons': {'diago_full_acc': '.false.',\n",
       "  'mixing_beta': 0.7,\n",
       "  'conv_thr': 1e-06},\n",
       " 'ions': {},\n",
       " 'cell': {},\n",
       " 'atomic_species': {'S': [32.065, 'S-fr.out'], 'Mo': [183.84, 'Mo-fr.out']},\n",
       " 'atomic_positions': {'type': '(crystal)',\n",
       "  'values': [['Mo', [0.333333, 0.666667, 0.25]],\n",
       "   ['Mo', [0.666667, 0.333333, 0.75]],\n",
       "   ['S', [0.666667, 0.333333, 0.3768113548]],\n",
       "   ['S', [0.333333, 0.666667, 0.8768113548]],\n",
       "   ['S', [0.666667, 0.333333, 0.1231886452]],\n",
       "   ['S', [0.333333, 0.666667, 0.6231886452]]]},\n",
       " 'kpoints': {'type': 'automatic',\n",
       "  'values': ([12.0, 12.0, 2.0], [0.0, 0.0, 0.0])},\n",
       " 'cell_parameters': {},\n",
       " 'file': 'Bulk_input_files/MoS2_2H_pbe_bulk.in'}"
      ]
     },
     "execution_count": 93,
     "metadata": {},
     "output_type": "execute_result"
    }
   ],
   "source": [
    "inp = I.PwInput(file='Bulk_input_files/MoS2_2H_pbe_bulk.in')\n",
    "inp.set_scf(force_symmorphic=True,conv_thr=1e-6)\n",
    "inp.set_pseudo_dir('../pseudos')\n",
    "\n",
    "alat = inp['system']['celldm(1)']\n",
    "celldm3 = inp['system']['celldm(3)']\n",
    "inp"
   ]
  },
  {
   "cell_type": "markdown",
   "id": "55ddb583-7f90-4823-afe9-7bd7f94995b1",
   "metadata": {},
   "source": [
    "### Convergence procedure on the energy cutoff of the wave functions"
   ]
  },
  {
   "cell_type": "code",
   "execution_count": 11,
   "id": "3e4b6f14-855c-4db7-a5d9-4557e1dbf571",
   "metadata": {},
   "outputs": [],
   "source": [
    "ecut = [40,60,80,100,120]"
   ]
  },
  {
   "cell_type": "code",
   "execution_count": 23,
   "id": "f7844969-ee5d-4d95-b30a-ca70803ef78b",
   "metadata": {},
   "outputs": [
    {
     "name": "stdout",
     "output_type": "stream",
     "text": [
      "Initialize a Dataset with 4 parallel tasks\n"
     ]
    }
   ],
   "source": [
    "study = D.Dataset(run_dir=run_dir,num_tasks=4)\n",
    "\n",
    "for e in ecut:\n",
    "    idd = {'ecut' : e}\n",
    "    inp.set_prefix(D.name_from_id(idd))\n",
    "    inp.set_energy_cutoff(e)\n",
    "    study.append_run(id=idd,input=inp,runner=code)\n",
    "    \n",
    "study.set_postprocessing_function(PP.pw_parse_data)"
   ]
  },
  {
   "cell_type": "code",
   "execution_count": 25,
   "id": "5ca5f81c-e6f2-43c0-9312-2b127cef7f9f",
   "metadata": {},
   "outputs": [],
   "source": [
    "#study.runs[1]"
   ]
  },
  {
   "cell_type": "code",
   "execution_count": 26,
   "id": "7d9ce60d-e88e-4328-8318-f9e887abd4cf",
   "metadata": {},
   "outputs": [
    {
     "name": "stdout",
     "output_type": "stream",
     "text": [
      "Run the selection [0, 1, 2, 3, 4] with the parallel task_groups [[0, 1, 2, 3], [4]] \n",
      "\n",
      "Run the task [0, 1, 2, 3] \n",
      "Skip the run of ecut_40Skip the run of Skip the run of\n",
      "ecut_60 \n",
      "ecut_80\n",
      "Skip the run of ecut_100\n",
      "Task [0, 1, 2, 3] ended \n",
      " \n",
      "Run the task [4] \n",
      "Skip the run of ecut_120\n",
      "Task [4] ended \n",
      " \n"
     ]
    }
   ],
   "source": [
    "results = study.run()"
   ]
  },
  {
   "cell_type": "code",
   "execution_count": 27,
   "id": "c32f5b0d-fa8f-4427-9986-d1ae0d71c631",
   "metadata": {},
   "outputs": [
    {
     "data": {
      "text/plain": [
       "<matplotlib.collections.PathCollection at 0x7f66accd0a58>"
      ]
     },
     "execution_count": 27,
     "metadata": {},
     "output_type": "execute_result"
    },
    {
     "data": {
      "image/png": "[encoded data removed]",
      "text/plain": [
       "<Figure size 504x288 with 1 Axes>"
      ]
     },
     "metadata": {
      "needs_background": "light"
     },
     "output_type": "display_data"
    }
   ],
   "source": [
    "plt.figure(figsize=(7,4))\n",
    "plt.xlabel('energy cutoff (Ry)',size=16)\n",
    "plt.ylabel('Total energy (Ha)',size=16)\n",
    "energy =[results[ind].energy for ind in range(len(ecut))]\n",
    "plt.plot(ecut,energy)\n",
    "plt.scatter(ecut,energy)"
   ]
  },
  {
   "cell_type": "markdown",
   "id": "53a7f51d-ed9b-4527-b668-cb82c1397676",
   "metadata": {},
   "source": [
    "So we observe that ecut = 80 Ry provides satisfactory converged result"
   ]
  },
  {
   "cell_type": "code",
   "execution_count": 30,
   "id": "ae6ce0a8-749e-47ba-947e-352b60ca0e4a",
   "metadata": {},
   "outputs": [],
   "source": [
    "ecut_conv = 80 # Ry\n",
    "inp.set_energy_cutoff(ecut_conv)"
   ]
  },
  {
   "cell_type": "markdown",
   "id": "3306da30-ca22-4640-a9fd-f44e5eadf4a9",
   "metadata": {},
   "source": [
    "### Convergence analysis on the lattice parameters"
   ]
  },
  {
   "cell_type": "markdown",
   "id": "ada8d49a-268e-48e5-aa62-bd50fc0e7dc6",
   "metadata": {},
   "source": [
    "Now we test the convergence on the cell parameters.\n",
    "\n",
    "First we test on the alat parameter"
   ]
  },
  {
   "cell_type": "code",
   "execution_count": 67,
   "id": "452670ba-5484-4a16-ac59-6ca5786d28cf",
   "metadata": {},
   "outputs": [
    {
     "data": {
      "text/plain": [
       "array([-4. , -3.5, -3. , -2.5, -2. , -1.5, -1. , -0.5,  0. ,  0.5,  1. ])"
      ]
     },
     "execution_count": 67,
     "metadata": {},
     "output_type": "execute_result"
    }
   ],
   "source": [
    "alat_span = np.linspace(-4.,1,11)\n",
    "alat_span"
   ]
  },
  {
   "cell_type": "code",
   "execution_count": 68,
   "id": "f6c002fd-9447-418b-b47e-68e047fede02",
   "metadata": {},
   "outputs": [
    {
     "name": "stdout",
     "output_type": "stream",
     "text": [
      "Initialize a Dataset with 4 parallel tasks\n"
     ]
    }
   ],
   "source": [
    "study = D.Dataset(run_dir=run_dir,num_tasks=4)\n",
    "\n",
    "for a_span in alat_span:\n",
    "    a = alat*(1+a_span/100)\n",
    "    idd = {'alat' : a_span}\n",
    "    inp.set_prefix(D.name_from_id(idd))\n",
    "    inp.set_lattice(ibrav=4,celldm1=a,celldm3=celldm3)\n",
    "    study.append_run(id=idd,input=inp,runner=code)\n",
    "    \n",
    "study.set_postprocessing_function(PP.pw_get_energy)"
   ]
  },
  {
   "cell_type": "code",
   "execution_count": 69,
   "id": "3ffeef48-7297-4645-a935-265ebc8e9efc",
   "metadata": {},
   "outputs": [],
   "source": [
    "#study.runs[4]"
   ]
  },
  {
   "cell_type": "code",
   "execution_count": 70,
   "id": "923e4cf7-5955-4213-8e03-2647d70e32a3",
   "metadata": {},
   "outputs": [
    {
     "name": "stdout",
     "output_type": "stream",
     "text": [
      "Run the selection [0, 1, 2, 3, 4, 5, 6, 7, 8, 9, 10] with the parallel task_groups [[0, 1, 2, 3], [4, 5, 6, 7], [8, 9, 10]] \n",
      "\n",
      "Run the task [0, 1, 2, 3] \n",
      "Skip the run of alat_-4.0\n",
      "Skip the run of Skip the run of alat_-3.5\n",
      "alat_-3.0\n",
      "Skip the run of alat_-2.5\n",
      "Task [0, 1, 2, 3] ended \n",
      " \n",
      "Run the task [4, 5, 6, 7] \n",
      "Skip the run of alat_-2.0 Skip the run of\n",
      "Skip the run ofalat_-1.5 \n",
      "alat_-1.0\n",
      "Skip the run of alat_-0.5\n",
      "Task [4, 5, 6, 7] ended \n",
      " \n",
      "Run the task [8, 9, 10] \n",
      "Skip the run of Skip the run ofalat_0.0 \n",
      "alat_0.5\n",
      "Skip the run of alat_1.0\n",
      "Task [8, 9, 10] ended \n",
      " \n"
     ]
    }
   ],
   "source": [
    "results = study.run()"
   ]
  },
  {
   "cell_type": "code",
   "execution_count": 71,
   "id": "4c3ec7f0-ef5a-4f19-97fa-ac989fbcc2e8",
   "metadata": {},
   "outputs": [
    {
     "data": {
      "text/plain": [
       "[<matplotlib.lines.Line2D at 0x7f66acd20898>]"
      ]
     },
     "execution_count": 71,
     "metadata": {},
     "output_type": "execute_result"
    },
    {
     "data": {
      "image/png": "[encoded data removed]",
      "text/plain": [
       "<Figure size 648x504 with 1 Axes>"
      ]
     },
     "metadata": {
      "needs_background": "light"
     },
     "output_type": "display_data"
    }
   ],
   "source": [
    "plt.figure(figsize=(9,7))\n",
    "plt.xlabel('alat span (%)',size=16)\n",
    "plt.ylabel('Total energy (Ha)',size=16)\n",
    "energy =[results[ind] for ind in range(len(alat_span))]\n",
    "plt.plot(alat_span,energy)\n",
    "#print(energy)"
   ]
  },
  {
   "cell_type": "markdown",
   "id": "fc1b26aa-85fc-40d7-ae27-1b623fa1d254",
   "metadata": {},
   "source": [
    "We perform a quadratic fit of the data and extract the equilibrium alat value"
   ]
  },
  {
   "cell_type": "code",
   "execution_count": 63,
   "id": "92bb811c-4f1e-4c1d-b9e7-e47462f3aa81",
   "metadata": {},
   "outputs": [
    {
     "data": {
      "text/plain": [
       "[<matplotlib.lines.Line2D at 0x7f66acb95780>]"
      ]
     },
     "execution_count": 63,
     "metadata": {},
     "output_type": "execute_result"
    },
    {
     "data": {
      "image/png": "[encoded data removed]",
      "text/plain": [
       "<Figure size 432x288 with 1 Axes>"
      ]
     },
     "metadata": {
      "needs_background": "light"
     },
     "output_type": "display_data"
    }
   ],
   "source": [
    "y =[results[ind] for ind in range(len(alat_span))]\n",
    "x = [alat*(1+a/100) for a in alat_span]\n",
    "x_fit = np.linspace(x[0],x[-1],30)\n",
    "coeffs = np.polyfit(x,y,2)\n",
    "y_fit = [coeffs[0]*xx**2+coeffs[1]*xx+coeffs[2] for xx in x_fit]\n",
    "plt.plot(x,y)\n",
    "plt.plot(x_fit,y_fit)"
   ]
  },
  {
   "cell_type": "code",
   "execution_count": 64,
   "id": "eb8bccbf-8eb9-40b7-a4b8-6617e3410c77",
   "metadata": {},
   "outputs": [
    {
     "data": {
      "text/plain": [
       "5.867495383417899"
      ]
     },
     "execution_count": 64,
     "metadata": {},
     "output_type": "execute_result"
    }
   ],
   "source": [
    "x_eq = -coeffs[1]/(2*coeffs[0])\n",
    "x_eq"
   ]
  },
  {
   "cell_type": "code",
   "execution_count": 65,
   "id": "43cbdb07-03ed-4159-b2a9-05192a476e15",
   "metadata": {},
   "outputs": [],
   "source": [
    "alat_conv = 5.8675"
   ]
  },
  {
   "cell_type": "markdown",
   "id": "9e960e48-4b04-485b-b2c7-0b20596b5a9a",
   "metadata": {},
   "source": [
    "Now we relax the celldm(3) parameter"
   ]
  },
  {
   "cell_type": "code",
   "execution_count": 84,
   "id": "a2c44bef-a0e1-40f5-8465-f43ba72203c3",
   "metadata": {},
   "outputs": [
    {
     "data": {
      "text/plain": [
       "array([-2. , -1.5, -1. , -0.5,  0. ,  0.5,  1. ])"
      ]
     },
     "execution_count": 84,
     "metadata": {},
     "output_type": "execute_result"
    }
   ],
   "source": [
    "celldm3_span = np.linspace(-2.,1,7)\n",
    "celldm3_span"
   ]
  },
  {
   "cell_type": "code",
   "execution_count": 85,
   "id": "04f000c2-78de-445e-8ddb-f65f0067fa58",
   "metadata": {},
   "outputs": [
    {
     "name": "stdout",
     "output_type": "stream",
     "text": [
      "Initialize a Dataset with 2 parallel tasks\n"
     ]
    }
   ],
   "source": [
    "study = D.Dataset(run_dir=run_dir,num_tasks=2)\n",
    "\n",
    "for c_span in celldm3_span:\n",
    "    c = celldm3*(1+c_span/100)\n",
    "    idd = {'celldm3' : c_span}\n",
    "    inp.set_prefix(D.name_from_id(idd))\n",
    "    inp.set_lattice(ibrav=4,celldm1=alat_conv,celldm3=c)\n",
    "    study.append_run(id=idd,input=inp,runner=code)\n",
    "study.set_postprocessing_function(PP.pw_get_energy)"
   ]
  },
  {
   "cell_type": "code",
   "execution_count": 86,
   "id": "d9bcc527-9960-462c-8038-590e12e7c0d9",
   "metadata": {},
   "outputs": [],
   "source": [
    "#study.runs[2]"
   ]
  },
  {
   "cell_type": "code",
   "execution_count": 88,
   "id": "1f1b54e0-5b5d-4179-a29d-1e6724ab4e11",
   "metadata": {},
   "outputs": [
    {
     "name": "stdout",
     "output_type": "stream",
     "text": [
      "Run the selection [0, 1, 2, 3, 4, 5, 6] with the parallel task_groups [[0, 1], [2, 3], [4, 5], [6]] \n",
      "\n",
      "Run the task [0, 1] \n",
      "Skip the run of celldm3_-2.0\n",
      "Skip the run of celldm3_-1.5\n",
      "Task [0, 1] ended \n",
      " \n",
      "Run the task [2, 3] \n",
      "Skip the run of celldm3_-1.0\n",
      "Skip the run of celldm3_-0.5\n",
      "Task [2, 3] ended \n",
      " \n",
      "Run the task [4, 5] \n",
      "Skip the run of celldm3_0.0\n",
      "Skip the run of celldm3_0.5\n",
      "Task [4, 5] ended \n",
      " \n",
      "Run the task [6] \n",
      "Skip the run of celldm3_1.0\n",
      "Task [6] ended \n",
      " \n"
     ]
    }
   ],
   "source": [
    "results = study.run()"
   ]
  },
  {
   "cell_type": "code",
   "execution_count": 89,
   "id": "ad2aca03-b8d1-4c23-beb7-a47a5fbd3a49",
   "metadata": {},
   "outputs": [
    {
     "data": {
      "text/plain": [
       "[<matplotlib.lines.Line2D at 0x7f66ace8b080>]"
      ]
     },
     "execution_count": 89,
     "metadata": {},
     "output_type": "execute_result"
    },
    {
     "data": {
      "image/png": "[encoded data removed]",
      "text/plain": [
       "<Figure size 648x504 with 1 Axes>"
      ]
     },
     "metadata": {
      "needs_background": "light"
     },
     "output_type": "display_data"
    }
   ],
   "source": [
    "plt.figure(figsize=(9,7))\n",
    "plt.xlabel('celldm3 span (%)',size=16)\n",
    "plt.ylabel('Total energy (Ha)',size=16)\n",
    "energy =[results[ind] for ind in range(len(celldm3_span))]\n",
    "plt.plot(celldm3_span,energy)\n",
    "#print(energy)"
   ]
  },
  {
   "cell_type": "markdown",
   "id": "759f052c-3e41-499a-9031-f43b2cd01765",
   "metadata": {},
   "source": [
    "We perform a quadratic fit of the data and extract the equilibrium alat value"
   ]
  },
  {
   "cell_type": "code",
   "execution_count": 91,
   "id": "c4156727-2065-4793-b6cd-e4a4e6744052",
   "metadata": {},
   "outputs": [
    {
     "data": {
      "text/plain": [
       "[<matplotlib.lines.Line2D at 0x7f66ace88940>]"
      ]
     },
     "execution_count": 91,
     "metadata": {},
     "output_type": "execute_result"
    },
    {
     "data": {
      "image/png": "[encoded data removed]",
      "text/plain": [
       "<Figure size 432x288 with 1 Axes>"
      ]
     },
     "metadata": {
      "needs_background": "light"
     },
     "output_type": "display_data"
    }
   ],
   "source": [
    "y =[results[ind] for ind in range(len(celldm3_span))]\n",
    "x = [celldm3*(1+a/100) for a in celldm3_span]\n",
    "x_fit = np.linspace(x[0],x[-1],30)\n",
    "coeffs = np.polyfit(x,y,2)\n",
    "y_fit = [coeffs[0]*xx**2+coeffs[1]*xx+coeffs[2] for xx in x_fit]\n",
    "plt.plot(x,y)\n",
    "plt.plot(x_fit,y_fit)"
   ]
  },
  {
   "cell_type": "code",
   "execution_count": 92,
   "id": "5d9239b0-1b85-459e-9c61-605e98faf4c1",
   "metadata": {},
   "outputs": [
    {
     "data": {
      "text/plain": [
       "3.9624763811344135"
      ]
     },
     "execution_count": 92,
     "metadata": {},
     "output_type": "execute_result"
    }
   ],
   "source": [
    "x_eq = -coeffs[1]/(2*coeffs[0])\n",
    "x_eq"
   ]
  },
  {
   "cell_type": "code",
   "execution_count": null,
   "id": "1ab0b45a-b2cb-44a4-afc1-9b2e03f06f8f",
   "metadata": {},
   "outputs": [],
   "source": [
    "celldm3_conv = 3.9625"
   ]
  },
  {
   "cell_type": "markdown",
   "id": "c1eaf9ba-4b85-47e1-83c5-1330265f57e0",
   "metadata": {},
   "source": [
    "### Converged ground states"
   ]
  },
  {
   "cell_type": "markdown",
   "id": "ddc338b0-6a8d-4da2-ab93-02358c596a06",
   "metadata": {},
   "source": [
    "Finally we perform a last scf calculation with converged parameters"
   ]
  },
  {
   "cell_type": "code",
   "execution_count": 5,
   "id": "3e7c1e8d-7561-4e14-8a4b-94697df09ca1",
   "metadata": {},
   "outputs": [
    {
     "data": {
      "text/plain": [
       "{'control': {'calculation': \"'scf'\",\n",
       "  'verbosity': \"'high'\",\n",
       "  'prefix': \"'pwscf'\",\n",
       "  'outdir': \"'./'\",\n",
       "  'restart_mode': \"'from_scratch'\",\n",
       "  'wf_collect': '.true.',\n",
       "  'pseudo_dir': \"'../pseudos'\"},\n",
       " 'system': {'force_symmorphic': '.true.',\n",
       "  'ibrav': 4,\n",
       "  'celldm(1)': 5.8675,\n",
       "  'celldm(3)': 3.9625,\n",
       "  'nat': 6,\n",
       "  'ntyp': 2,\n",
       "  'noncolin': '.true.',\n",
       "  'lspinorb': '.true.',\n",
       "  'ecutwfc': 80,\n",
       "  'nbnd': 54},\n",
       " 'electrons': {'diago_full_acc': '.false.',\n",
       "  'mixing_beta': 0.7,\n",
       "  'conv_thr': 1e-06},\n",
       " 'ions': {},\n",
       " 'cell': {},\n",
       " 'atomic_species': {'S': [32.065, 'S-fr.out'], 'Mo': [183.84, 'Mo-fr.out']},\n",
       " 'atomic_positions': {'type': '(crystal)',\n",
       "  'values': [['Mo', [0.333333, 0.666667, 0.25]],\n",
       "   ['Mo', [0.666667, 0.333333, 0.75]],\n",
       "   ['S', [0.666667, 0.333333, 0.3768113548]],\n",
       "   ['S', [0.333333, 0.666667, 0.8768113548]],\n",
       "   ['S', [0.666667, 0.333333, 0.1231886452]],\n",
       "   ['S', [0.333333, 0.666667, 0.6231886452]]]},\n",
       " 'kpoints': {'type': 'automatic',\n",
       "  'values': ([12.0, 12.0, 2.0], [0.0, 0.0, 0.0])},\n",
       " 'cell_parameters': {},\n",
       " 'file': 'Bulk_input_files/MoS2_2H_pbe_bulk.in'}"
      ]
     },
     "execution_count": 5,
     "metadata": {},
     "output_type": "execute_result"
    }
   ],
   "source": [
    "ecut_conv = 80 # Ry\n",
    "alat_conv = 5.8675\n",
    "celldm3_conv = 3.9625\n",
    "\n",
    "inp = I.PwInput(file='Bulk_input_files/MoS2_2H_pbe_bulk.in')\n",
    "inp.set_scf(force_symmorphic=True,conv_thr=1e-6)\n",
    "inp.set_pseudo_dir('../pseudos')\n",
    "inp.set_energy_cutoff(ecut_conv)\n",
    "inp.set_lattice(ibrav=4,celldm1=alat_conv,celldm3=celldm3_conv)\n",
    "inp.set_num_bnds(54)\n",
    "inp"
   ]
  },
  {
   "cell_type": "code",
   "execution_count": 140,
   "id": "14eb4267-65cb-488e-8023-cf0f0a027e0b",
   "metadata": {},
   "outputs": [
    {
     "name": "stdout",
     "output_type": "stream",
     "text": [
      "Initialize a Dataset with 1 parallel tasks\n"
     ]
    }
   ],
   "source": [
    "study = D.Dataset(run_dir=run_dir,num_tasks=1)\n",
    "\n",
    "idd = 'gs_converged'\n",
    "inp.set_prefix(D.name_from_id(idd))\n",
    "study.append_run(id=idd,input=inp,runner=code)\n",
    "study.set_postprocessing_function(PP.pw_parse_data)"
   ]
  },
  {
   "cell_type": "code",
   "execution_count": 141,
   "id": "6b1a0992-de88-49b7-aa39-13da97b2107f",
   "metadata": {},
   "outputs": [
    {
     "name": "stdout",
     "output_type": "stream",
     "text": [
      "Run the selection [0] with the parallel task_groups [[0]] \n",
      "\n",
      "Run the task [0] \n",
      "Skip the run of gs_converged\n",
      "Task [0] ended \n",
      " \n"
     ]
    }
   ],
   "source": [
    "results = study.run()"
   ]
  },
  {
   "cell_type": "code",
   "execution_count": 142,
   "id": "582b7e03-618f-410b-b7d6-02e1e33912b5",
   "metadata": {},
   "outputs": [
    {
     "name": "stdout",
     "output_type": "stream",
     "text": [
      "Indirect gap system\n",
      "===================\n",
      "Gap : 0.8481633361221252 eV\n",
      "Direct gap : 1.816052952273866 eV\n"
     ]
    },
    {
     "data": {
      "text/plain": [
       "{'gap': 0.8481633361221252,\n",
       " 'direct_gap': 1.816052952273866,\n",
       " 'position_cbm': 24,\n",
       " 'positon_vbm': 0,\n",
       " 'positon_direct_gap': 36}"
      ]
     },
     "execution_count": 142,
     "metadata": {},
     "output_type": "execute_result"
    }
   ],
   "source": [
    "results[0].get_gap()"
   ]
  },
  {
   "cell_type": "markdown",
   "id": "d26e69bc-bb0d-408e-bb5a-1e84d15e114f",
   "metadata": {
    "tags": []
   },
   "source": [
    "## Band structure on high symmetry line"
   ]
  },
  {
   "cell_type": "markdown",
   "id": "3d5d975c-d59e-4574-a936-2065dcb39444",
   "metadata": {},
   "source": [
    "Now we perform the bands computation specifying the kpoints on a path. \n",
    "\n",
    "To define the path we write the coordinates of the high symmetry points (using the tpiba_b type of\n",
    "pw) and we make usage of the function build_kpath"
   ]
  },
  {
   "cell_type": "code",
   "execution_count": 143,
   "id": "2c4bf9e5-b40a-4c48-ae05-669045f2e4f2",
   "metadata": {},
   "outputs": [],
   "source": [
    "bands_prefix = 'bands'\n",
    "G = [0.,0.,0.]\n",
    "Kp = [1./3.,1./np.sqrt(3),0.]\n",
    "Mp = [0.,1./np.sqrt(3),0.]\n",
    "high_sym = {'G':G,'K':Kp,'M':Mp} # useful to label the high-sym point on the path"
   ]
  },
  {
   "cell_type": "code",
   "execution_count": 144,
   "id": "0e76ef71-af25-4a38-bec6-2f18d12542f9",
   "metadata": {},
   "outputs": [
    {
     "data": {
      "text/plain": [
       "[[0.0, 0.0, 0.0, 30],\n",
       " [0.0, 0.5773502691896258, 0.0, 30],\n",
       " [0.3333333333333333, 0.5773502691896258, 0.0, 30],\n",
       " [0.0, 0.0, 0.0, 0]]"
      ]
     },
     "execution_count": 144,
     "metadata": {},
     "output_type": "execute_result"
    }
   ],
   "source": [
    "klist = Tools.build_pw_kpath(G,Mp,Kp,G,numstep=30)\n",
    "klist"
   ]
  },
  {
   "cell_type": "code",
   "execution_count": 146,
   "id": "0e01f22d-d9e7-46ae-a334-7c03c5f90a79",
   "metadata": {},
   "outputs": [
    {
     "data": {
      "text/plain": [
       "{'control': {'calculation': \"'bands'\",\n",
       "  'verbosity': \"'high'\",\n",
       "  'prefix': \"'bands'\",\n",
       "  'outdir': \"'./'\",\n",
       "  'restart_mode': \"'from_scratch'\",\n",
       "  'wf_collect': '.true.',\n",
       "  'pseudo_dir': \"'../pseudos'\"},\n",
       " 'system': {'force_symmorphic': '.true.',\n",
       "  'ibrav': 4,\n",
       "  'celldm(1)': 5.8675,\n",
       "  'celldm(3)': 3.9625,\n",
       "  'nat': 6,\n",
       "  'ntyp': 2,\n",
       "  'noncolin': '.true.',\n",
       "  'lspinorb': '.true.',\n",
       "  'ecutwfc': 80,\n",
       "  'nbnd': 60},\n",
       " 'electrons': {'diago_full_acc': '.false.',\n",
       "  'mixing_beta': 0.7,\n",
       "  'conv_thr': 1e-06},\n",
       " 'ions': {},\n",
       " 'cell': {},\n",
       " 'atomic_species': {'S': [32.065, 'S-fr.out'], 'Mo': [183.84, 'Mo-fr.out']},\n",
       " 'atomic_positions': {'type': '(crystal)',\n",
       "  'values': [['Mo', [0.333333, 0.666667, 0.25]],\n",
       "   ['Mo', [0.666667, 0.333333, 0.75]],\n",
       "   ['S', [0.666667, 0.333333, 0.3768113548]],\n",
       "   ['S', [0.333333, 0.666667, 0.8768113548]],\n",
       "   ['S', [0.666667, 0.333333, 0.1231886452]],\n",
       "   ['S', [0.333333, 0.666667, 0.6231886452]]]},\n",
       " 'kpoints': {'type': 'tpiba_b',\n",
       "  'values': [[0.0, 0.0, 0.0, 30],\n",
       "   [0.0, 0.5773502691896258, 0.0, 30],\n",
       "   [0.3333333333333333, 0.5773502691896258, 0.0, 30],\n",
       "   [0.0, 0.0, 0.0, 0]]},\n",
       " 'cell_parameters': {},\n",
       " 'file': 'Bulk_input_files/MoS2_2H_pbe_bulk.in'}"
      ]
     },
     "execution_count": 146,
     "metadata": {},
     "output_type": "execute_result"
    }
   ],
   "source": [
    "inp.set_bands(60,force_symmorphic=True,conv_thr=1e-6)\n",
    "inp.set_prefix(bands_prefix)\n",
    "inp.set_kpoints(type='tpiba_b',klist=klist)\n",
    "inp"
   ]
  },
  {
   "cell_type": "code",
   "execution_count": 147,
   "id": "d700e993-1b92-4bf5-8ecc-f3f44e8cc558",
   "metadata": {},
   "outputs": [
    {
     "name": "stdout",
     "output_type": "stream",
     "text": [
      "copy source_dir BULK-DFT_analysis/gs_converged.save in the /work/dalessandro/2D_ELECTRONIC_OPTICAL_PROPERTIES/MoS2/BULK-DFT_analysis/bands.save\n",
      "run command: mpirun -np 16 pw.x -inp bands.in > bands.log\n",
      "slurm submit:  cd BULK-DFT_analysis ; sbatch job_bands.sh\n",
      "computation bands is running...\n",
      "computation bands ended\n"
     ]
    }
   ],
   "source": [
    "results = code.run(input=inp,run_dir=run_dir,name=bands_prefix,source_dir='BULK-DFT_analysis/gs_converged.save')"
   ]
  },
  {
   "cell_type": "markdown",
   "id": "be913f89-f4dc-4e77-ae1c-3babd042abcb",
   "metadata": {},
   "source": [
    "Once that the computation is over we can create an instance of PwBands"
   ]
  },
  {
   "cell_type": "code",
   "execution_count": 148,
   "id": "8c1bec2c-9467-4449-a2d1-07a10a63a1c5",
   "metadata": {},
   "outputs": [],
   "source": [
    "bands = U.BandStructure.from_Pw(results,high_sym)"
   ]
  },
  {
   "cell_type": "code",
   "execution_count": 149,
   "id": "513b02cd-a584-48a5-99e6-3196f89afd37",
   "metadata": {},
   "outputs": [
    {
     "data": {
      "text/plain": [
       "(['$\\\\Gamma$', '$\\\\Gamma$', 'K', 'M'],\n",
       " [0.0, 1.5773502657018026, 0.9106835999999987, 0.57735027])"
      ]
     },
     "execution_count": 149,
     "metadata": {},
     "output_type": "execute_result"
    }
   ],
   "source": [
    "bands.get_high_sym_positions()"
   ]
  },
  {
   "cell_type": "code",
   "execution_count": 155,
   "id": "4b9887fb-a03a-4777-a927-f1bdce67b963",
   "metadata": {},
   "outputs": [
    {
     "data": {
      "image/png": "[encoded data removed]",
      "text/plain": [
       "<Figure size 720x576 with 1 Axes>"
      ]
     },
     "metadata": {
      "needs_background": "light"
     },
     "output_type": "display_data"
    }
   ],
   "source": [
    "label_size = 20\n",
    "\n",
    "fig, ax = plt.subplots(figsize=(10, 8))\n",
    "#ax.set_ylim(-5,7)\n",
    "bands.plot(plt,selection=[i for i in range(44,56)])\n",
    "ax.hlines(0.,0.,1.57,linestyles='-',color='gray',linewidth=1)\n",
    "ax.set_ylabel('Bands structure (eV)',size=label_size)\n",
    "ax.tick_params(axis='both', which='major', labelsize=label_size)\n",
    "\n",
    "#plt.savefig(fname='Plot/band_structure.eps',format='eps',bbox_inches = \"tight\")"
   ]
  },
  {
   "cell_type": "code",
   "execution_count": 12,
   "id": "7ad8a296-b8e3-4bb6-afcd-2ca6c2862fc4",
   "metadata": {},
   "outputs": [
    {
     "data": {
      "image/png": "[encoded data removed]",
      "text/plain": [
       "<Figure size 720x576 with 1 Axes>"
      ]
     },
     "metadata": {
      "needs_background": "light"
     },
     "output_type": "display_data"
    }
   ],
   "source": [
    "# single layer result\n",
    "label_size = 20\n",
    "\n",
    "fig, ax = plt.subplots(figsize=(10, 8))\n",
    "#ax.set_ylim(-5,7)\n",
    "bands.plot(plt,selection=[i for i in range(20,29)])\n",
    "ax.hlines(0.,0.,1.57,linestyles='-',color='gray',linewidth=1)\n",
    "ax.set_ylabel('Bands structure (eV)',size=label_size)\n",
    "ax.tick_params(axis='both', which='major', labelsize=label_size)\n",
    "\n",
    "#plt.savefig(fname='Plot/band_structure.eps',format='eps',bbox_inches = \"tight\")"
   ]
  },
  {
   "cell_type": "markdown",
   "id": "894ab057-7151-4fd0-824e-e8822ae5677c",
   "metadata": {
    "tags": []
   },
   "source": [
    "## NSCF computations on regular grids"
   ]
  },
  {
   "cell_type": "markdown",
   "id": "78075ca6-e24f-4287-9707-97e691a5ae4d",
   "metadata": {},
   "source": [
    "We set up the nscf computations on regular grids.\n",
    "\n",
    "In agreement with the results presented in PHYSICAL REVIEW B 88, 045412 (2013)\n",
    "we use 200 bands"
   ]
  },
  {
   "cell_type": "code",
   "execution_count": 6,
   "id": "5486ca5f-a1b3-4289-9e35-675d5546fc7f",
   "metadata": {},
   "outputs": [],
   "source": [
    "nbnds = 200\n",
    "inp.set_nscf(nbnds,force_symmorphic=True,conv_thr=1e-6)\n",
    "#inp"
   ]
  },
  {
   "cell_type": "code",
   "execution_count": 7,
   "id": "03f4b486-8db4-4cf3-b78d-d1104d74e2dc",
   "metadata": {},
   "outputs": [],
   "source": [
    "kvalues = [[12,12,2],[18,18,3],[24,24,4]]"
   ]
  },
  {
   "cell_type": "code",
   "execution_count": 8,
   "id": "fb772c38-cc13-468f-bb67-87976a123b42",
   "metadata": {},
   "outputs": [
    {
     "name": "stdout",
     "output_type": "stream",
     "text": [
      "Initialize a Dataset with 1 parallel tasks\n"
     ]
    }
   ],
   "source": [
    "study = D.Dataset(run_dir=run_dir,num_tasks=1)\n",
    "study.set_postprocessing_function(PP.pw_parse_data)\n",
    "\n",
    "for k in kvalues:\n",
    "    idd = 'kpoints_%sx%sx%s-nbnds_%s'%(k[0],k[1],k[2],nbnds)\n",
    "    inp.set_prefix(D.name_from_id(idd))\n",
    "    inp.set_kpoints(points=[k[0],k[1],k[2]])\n",
    "    study.append_run(id=idd,input=inp,runner=code,source_dir='BULK-DFT_analysis/gs_converged.save')"
   ]
  },
  {
   "cell_type": "code",
   "execution_count": 9,
   "id": "79a2ba48-4287-4860-ab57-1373628ce6e3",
   "metadata": {},
   "outputs": [
    {
     "data": {
      "text/plain": [
       "{'label': 'Dataset',\n",
       " 'run_dir': 'BULK-DFT_analysis',\n",
       " 'num_tasks': 1,\n",
       " 'verbose': True,\n",
       " 'input': {'control': {'calculation': \"'nscf'\",\n",
       "   'verbosity': \"'high'\",\n",
       "   'prefix': \"'kpoints_24x24x4-nbnds_200'\",\n",
       "   'outdir': \"'./'\",\n",
       "   'restart_mode': \"'from_scratch'\",\n",
       "   'wf_collect': '.true.',\n",
       "   'pseudo_dir': \"'../pseudos'\"},\n",
       "  'system': {'force_symmorphic': '.true.',\n",
       "   'ibrav': 4,\n",
       "   'celldm(1)': 5.8675,\n",
       "   'celldm(3)': 3.9625,\n",
       "   'nat': 6,\n",
       "   'ntyp': 2,\n",
       "   'noncolin': '.true.',\n",
       "   'lspinorb': '.true.',\n",
       "   'ecutwfc': 80,\n",
       "   'nbnd': 200},\n",
       "  'electrons': {'diago_full_acc': '.false.',\n",
       "   'mixing_beta': 0.7,\n",
       "   'conv_thr': 1e-06},\n",
       "  'ions': {},\n",
       "  'cell': {},\n",
       "  'atomic_species': {'S': [32.065, 'S-fr.out'], 'Mo': [183.84, 'Mo-fr.out']},\n",
       "  'atomic_positions': {'type': '(crystal)',\n",
       "   'values': [['Mo', [0.333333, 0.666667, 0.25]],\n",
       "    ['Mo', [0.666667, 0.333333, 0.75]],\n",
       "    ['S', [0.666667, 0.333333, 0.3768113548]],\n",
       "    ['S', [0.333333, 0.666667, 0.8768113548]],\n",
       "    ['S', [0.666667, 0.333333, 0.1231886452]],\n",
       "    ['S', [0.333333, 0.666667, 0.6231886452]]]},\n",
       "  'kpoints': {'type': 'automatic', 'values': ([24, 24, 4], [0.0, 0.0, 0.0])},\n",
       "  'cell_parameters': {},\n",
       "  'file': 'Bulk_input_files/MoS2_2H_pbe_bulk.in'},\n",
       " 'source_dir': 'BULK-DFT_analysis/gs_converged.save',\n",
       " 'name': 'kpoints_24x24x4-nbnds_200'}"
      ]
     },
     "execution_count": 9,
     "metadata": {},
     "output_type": "execute_result"
    }
   ],
   "source": [
    "study.runs[2]"
   ]
  },
  {
   "cell_type": "code",
   "execution_count": null,
   "id": "9d48fd2b-1816-4bbc-b29d-004352624673",
   "metadata": {},
   "outputs": [
    {
     "name": "stdout",
     "output_type": "stream",
     "text": [
      "Run the selection [0, 1, 2] with the parallel task_groups [[0], [1], [2]] \n",
      "\n",
      "Run the task [0] \n",
      "Skip the run of kpoints_12x12x2-nbnds_200\n",
      "The folder /work/dalessandro/2D_ELECTRONIC_OPTICAL_PROPERTIES/MoS2/BULK-DFT_analysis/kpoints_12x12x2-nbnds_200.save already exists. Source_dir BULK-DFT_analysis/gs_converged.save not copied\n",
      "Task [0] ended \n",
      " \n",
      "Run the task [1] \n",
      "Skip the run of kpoints_18x18x3-nbnds_200\n",
      "The folder /work/dalessandro/2D_ELECTRONIC_OPTICAL_PROPERTIES/MoS2/BULK-DFT_analysis/kpoints_18x18x3-nbnds_200.save already exists. Source_dir BULK-DFT_analysis/gs_converged.save not copied\n",
      "Task [1] ended \n",
      " \n",
      "Run the task [2] \n",
      "copy source_dir BULK-DFT_analysis/gs_converged.save in the /work/dalessandro/2D_ELECTRONIC_OPTICAL_PROPERTIES/MoS2/BULK-DFT_analysis/kpoints_24x24x4-nbnds_200.save\n",
      "run command: mpirun -np 16 pw.x -inp kpoints_24x24x4-nbnds_200.in > kpoints_24x24x4-nbnds_200.log\n",
      "slurm submit:  cd BULK-DFT_analysis ; sbatch job_kpoints_24x24x4-nbnds_200.sh\n",
      "computation kpoints_24x24x4-nbnds_200 is running...\n"
     ]
    }
   ],
   "source": [
    "results = study.run()"
   ]
  },
  {
   "cell_type": "code",
   "execution_count": null,
   "id": "456691aa-61f8-4fb9-998b-a70f6f05325d",
   "metadata": {},
   "outputs": [],
   "source": []
  },
  {
   "cell_type": "code",
   "execution_count": null,
   "id": "18ab78f2-3cd7-41f1-8cf3-9beb14c69fad",
   "metadata": {},
   "outputs": [],
   "source": []
  },
  {
   "cell_type": "code",
   "execution_count": null,
   "id": "0bd840bc-474e-454a-98e2-d4259ce10d9d",
   "metadata": {},
   "outputs": [],
   "source": []
  },
  {
   "cell_type": "code",
   "execution_count": null,
   "id": "a2f28ba3-372d-4c17-a52c-07e6b19496d6",
   "metadata": {},
   "outputs": [],
   "source": []
  },
  {
   "cell_type": "code",
   "execution_count": null,
   "id": "166ee0a5-4ee6-40c3-afb5-29ab8074e77b",
   "metadata": {},
   "outputs": [],
   "source": []
  },
  {
   "cell_type": "code",
   "execution_count": null,
   "id": "01ff08c2-d113-4cb7-90d4-11bffdd4c65f",
   "metadata": {},
   "outputs": [],
   "source": []
  }
 ],
 "metadata": {
  "kernelspec": {
   "display_name": "Python 3",
   "language": "python",
   "name": "python3"
  },
  "language_info": {
   "codemirror_mode": {
    "name": "ipython",
    "version": 3
   },
   "file_extension": ".py",
   "mimetype": "text/x-python",
   "name": "python",
   "nbconvert_exporter": "python",
   "pygments_lexer": "ipython3",
   "version": "3.6.8"
  }
 },
 "nbformat": 4,
 "nbformat_minor": 5
}
