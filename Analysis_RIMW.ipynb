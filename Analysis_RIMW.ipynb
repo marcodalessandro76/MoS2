{
 "cells": [
  {
   "cell_type": "code",
   "execution_count": 1,
   "metadata": {},
   "outputs": [],
   "source": [
    "# useful to autoreload the module without restarting the kernel\n",
    "%load_ext autoreload\n",
    "%autoreload 2"
   ]
  },
  {
   "cell_type": "code",
   "execution_count": 2,
   "metadata": {},
   "outputs": [],
   "source": [
    "from mppi import InputFiles as I, Calculators as C, Datasets as D, Parsers as P, Utilities as U\n",
    "from mppi.Calculators import Tools\n",
    "from mppi.Datasets import PostProcessing as PP\n",
    "import matplotlib.pyplot as plt\n",
    "import numpy as np\n",
    "import os"
   ]
  },
  {
   "cell_type": "markdown",
   "metadata": {},
   "source": [
    "# Analysis of the effects of the RIMW on GW gap and excitonic binding energy"
   ]
  },
  {
   "cell_type": "markdown",
   "metadata": {},
   "source": [
    "We perform a systematic analysis of the effect of the RIMW  procedure. \n",
    "\n",
    "To this scope we compare the GW gap at the K point and the first two excitonic binding energies achieved both with and without the RIMW.\n",
    "The study is performed in functions of the dimension of the k-sampling.\n",
    "\n",
    "For computational reasons we use small (unconverged) values for the relevant computational parameters. Results are expeced to be non converged,\n",
    "however we are interested in understanding if the RIMW procedure leads to a faster and reliable convergence of measured quantities in function\n",
    "of the dimension of the k-points sampling."
   ]
  },
  {
   "cell_type": "code",
   "execution_count": 3,
   "metadata": {},
   "outputs": [],
   "source": [
    "kpoints = [30,42,60,90]"
   ]
  },
  {
   "cell_type": "markdown",
   "metadata": {},
   "source": [
    "## DFT analysis"
   ]
  },
  {
   "cell_type": "code",
   "execution_count": 4,
   "metadata": {},
   "outputs": [
    {
     "name": "stdout",
     "output_type": "stream",
     "text": [
      "Initialize a QuantumESPRESSO calculator with scheduler slurm\n"
     ]
    }
   ],
   "source": [
    "# RunRules for ismhpc\n",
    "# The product of ntasks_per_node*cpus_per_task is equal to 32. \n",
    "# Many mpi are needed for better performances\n",
    "nodes = 1\n",
    "ntasks_per_node = 16\n",
    "cpus_per_task=2\n",
    "omp_num_threads=2\n",
    "module = '/home/dalessandro/module_script/qe_module'\n",
    "\n",
    "ntasks = nodes*ntasks_per_node\n",
    "\n",
    "rr = C.RunRules(scheduler='slurm',partition='all12h',\n",
    "                memory='125000',time='11:59:00',\n",
    "                nodes=nodes,ntasks_per_node=ntasks_per_node,\n",
    "                cpus_per_task=cpus_per_task,\n",
    "                omp_num_threads=omp_num_threads,pre_processing=module)\n",
    "code = C.QeCalculator(rr,activate_BeeOND=True) #,skip=False,clean_restart=False\n",
    "#code.global_options()"
   ]
  },
  {
   "cell_type": "markdown",
   "metadata": {},
   "source": [
    "We compute the starting point DFT results on a regular grid. \n",
    "\n",
    "We use the sg15 pseudo and the associated converged grond state.\n",
    "\n",
    "We include only 30 bands"
   ]
  },
  {
   "cell_type": "code",
   "execution_count": 5,
   "metadata": {},
   "outputs": [],
   "source": [
    "pseudo_dir = '../pseudos'\n",
    "Mo_pseudo = 'Mo_ONCV_PBE_FR-1.0.upf'\n",
    "S_pseudo = 'S_ONCV_PBE_FR-1.1.upf'\n",
    "run_dir = 'DFT_analysis-sg15'\n",
    "\n",
    "alat_conv = 6.014\n",
    "delta_conv = 0.4932\n",
    "c = 40.0 # vacuum distance in a.u. \n",
    "\n",
    "ecut = 80 # energy cutoff on the wavefunction (Ry)\n",
    "kp = [12,12,1]\n",
    "\n",
    "Mo_cart = np.array([0,1./np.sqrt(3.),0.])\n",
    "S1_cart = np.array([1./2.,1./(2*np.sqrt(3.)),delta_conv])\n",
    "S2_cart = np.array([1./2.,1./(2*np.sqrt(3.)),-delta_conv])\n",
    "\n",
    "inp = I.PwInput()\n",
    "inp.set_scf(force_symmorphic=True,conv_thr=1e-6)\n",
    "inp.set_num_bnds(28)\n",
    "inp.set_pseudo_dir(pseudo_dir=pseudo_dir)\n",
    "inp.set_spinorbit()\n",
    "inp.add_atom(atom='Mo',pseudo_name=Mo_pseudo,mass=42.00)\n",
    "inp.add_atom(atom='S',pseudo_name=S_pseudo,mass=16.00)\n",
    "inp.set_atoms_number(3)\n",
    "inp.set_atomic_positions([['Mo',Mo_cart],['S',S1_cart],['S',S2_cart]],type='alat')\n",
    "inp.set_lattice(ibrav=4,celldm1=alat_conv,celldm3=c/alat_conv)\n",
    "inp.set_energy_cutoff(ecut)\n",
    "inp.set_kpoints(type='automatic',points=kp)\n",
    "#inp"
   ]
  },
  {
   "cell_type": "code",
   "execution_count": 6,
   "metadata": {},
   "outputs": [],
   "source": [
    "nbnds = 30\n",
    "inp.set_nscf(nbnds,force_symmorphic=True,conv_thr=1e-6)"
   ]
  },
  {
   "cell_type": "code",
   "execution_count": 7,
   "metadata": {},
   "outputs": [
    {
     "name": "stdout",
     "output_type": "stream",
     "text": [
      "Initialize a Dataset with 2 parallel tasks\n"
     ]
    }
   ],
   "source": [
    "study = D.Dataset(run_dir=run_dir,num_tasks=2)\n",
    "study.set_postprocessing_function(PP.pw_parse_data)\n",
    "\n",
    "for k in kpoints:\n",
    "    idd = {'kpoints':k,'nbnds':nbnds}\n",
    "    inp.set_prefix(D.name_from_id(idd))\n",
    "    inp.set_kpoints(points=[k,k,1])\n",
    "    study.append_run(id=idd,input=inp,runner=code,source_dir='DFT_analysis-sg15/gs_converged.save')"
   ]
  },
  {
   "cell_type": "code",
   "execution_count": 8,
   "metadata": {},
   "outputs": [
    {
     "data": {
      "text/plain": [
       "[{'kpoints': 30, 'nbnds': 30},\n",
       " {'kpoints': 42, 'nbnds': 30},\n",
       " {'kpoints': 60, 'nbnds': 30},\n",
       " {'kpoints': 90, 'nbnds': 30}]"
      ]
     },
     "execution_count": 8,
     "metadata": {},
     "output_type": "execute_result"
    }
   ],
   "source": [
    "study.ids"
   ]
  },
  {
   "cell_type": "code",
   "execution_count": 9,
   "metadata": {},
   "outputs": [],
   "source": [
    "#study.runs[3]"
   ]
  },
  {
   "cell_type": "code",
   "execution_count": 10,
   "metadata": {},
   "outputs": [
    {
     "name": "stdout",
     "output_type": "stream",
     "text": [
      "Run the selection [0, 1, 2, 3] with the parallel task_groups [[0, 1], [2, 3]] \n",
      "\n",
      "Run the task [0, 1] \n",
      "Skip the run of kpoints_30-nbnds_30\n",
      "The folder /work/dalessandro/TMDs/MoS2/DFT_analysis-sg15/kpoints_30-nbnds_30.save already exists. Source_dir DFT_analysis-sg15/gs_converged.save not copied\n",
      "Skip the run of kpoints_42-nbnds_30\n",
      "The folder /work/dalessandro/TMDs/MoS2/DFT_analysis-sg15/kpoints_42-nbnds_30.save already exists. Source_dir DFT_analysis-sg15/gs_converged.save not copied\n",
      "Task [0, 1] ended \n",
      " \n",
      "Run the task [2, 3] \n",
      "Skip the run of kpoints_60-nbnds_30\n",
      "The folder /work/dalessandro/TMDs/MoS2/DFT_analysis-sg15/kpoints_60-nbnds_30.save already exists. Source_dir DFT_analysis-sg15/gs_converged.save not copied\n",
      "Skip the run of kpoints_90-nbnds_30\n",
      "The folder /work/dalessandro/TMDs/MoS2/DFT_analysis-sg15/kpoints_90-nbnds_30.save already exists. Source_dir DFT_analysis-sg15/gs_converged.save not copied\n",
      "Task [2, 3] ended \n",
      " \n"
     ]
    }
   ],
   "source": [
    "results = study.run()"
   ]
  },
  {
   "cell_type": "markdown",
   "metadata": {},
   "source": [
    "## GW analysis"
   ]
  },
  {
   "cell_type": "code",
   "execution_count": 4,
   "metadata": {},
   "outputs": [
    {
     "name": "stdout",
     "output_type": "stream",
     "text": [
      "Initialize a Yambo calculator with scheduler slurm\n"
     ]
    },
    {
     "data": {
      "text/plain": [
       "{'scheduler': 'slurm',\n",
       " 'nodes': 2,\n",
       " 'ntasks_per_node': 32,\n",
       " 'cpus_per_task': 1,\n",
       " 'omp_num_threads': 1,\n",
       " 'gpus_per_node': None,\n",
       " 'memory': '125000',\n",
       " 'time': None,\n",
       " 'partition': 'all12h',\n",
       " 'account': None,\n",
       " 'qos': None,\n",
       " 'map_by': None,\n",
       " 'pe': 1,\n",
       " 'rank_by': None,\n",
       " 'pre_processing': '/home/dalessandro/module_script/yambo_module',\n",
       " 'executable': 'yambo',\n",
       " 'skip': True,\n",
       " 'clean_restart': True,\n",
       " 'dry_run': False,\n",
       " 'wait_end_run': True,\n",
       " 'activate_BeeOND': True,\n",
       " 'verbose': True,\n",
       " 'fatlog': False}"
      ]
     },
     "execution_count": 4,
     "metadata": {},
     "output_type": "execute_result"
    }
   ],
   "source": [
    "# RunRules for ismhpc\n",
    "# The product of ntasks_per_node*cpus_per_task is equal to 32. \n",
    "# Many mpi are needed for better performances\n",
    "nodes = 2\n",
    "ntasks_per_node = 32 #16\n",
    "cpus_per_task = 1 #2\n",
    "omp_num_threads = 1 #2\n",
    "module = '/home/dalessandro/module_script/yambo_module'\n",
    "\n",
    "ntasks = nodes*ntasks_per_node\n",
    "\n",
    "rr = C.RunRules(scheduler='slurm',partition='all12h',\n",
    "                memory='125000',\n",
    "                nodes=nodes,ntasks_per_node=ntasks_per_node,\n",
    "                cpus_per_task=cpus_per_task,\n",
    "                omp_num_threads=omp_num_threads,pre_processing=module)\n",
    "code = C.YamboCalculator(rr,activate_BeeOND=True)\n",
    "code.global_options()"
   ]
  },
  {
   "cell_type": "markdown",
   "metadata": {},
   "source": [
    "We study the convergence of the GW gap at the K point.\n",
    "\n",
    "Note that the cutoff of the various computational parameters have been reduced"
   ]
  },
  {
   "cell_type": "code",
   "execution_count": 9,
   "metadata": {},
   "outputs": [
    {
     "name": "stdout",
     "output_type": "stream",
     "text": [
      "16 4\n",
      "Initialize a Dataset with 1 parallel tasks\n",
      "SAVE folder MB_analysis/kpoints_30-nbnds_30/SAVE already present. No operations performed.\n",
      "SAVE folder MB_analysis/kpoints_42-nbnds_30/SAVE already present. No operations performed.\n",
      "SAVE folder MB_analysis/kpoints_60-nbnds_30/SAVE already present. No operations performed.\n",
      "SAVE folder MB_analysis/kpoints_90-nbnds_30/SAVE already present. No operations performed.\n"
     ]
    }
   ],
   "source": [
    "ntasks_c = 16\n",
    "ntasks_v = int(ntasks/ntasks_c)\n",
    "print(ntasks_c,ntasks_v)\n",
    "\n",
    "start_band,stop_band = 26,27\n",
    "K_index = {30:91,42:169,60:331,90:721}\n",
    "RandGvec = 100\n",
    "Randqpts = 5e6\n",
    "RandGvecW = 5\n",
    "EXXRLvcs = 10 # 30. # Ha\n",
    "EXXRLVcs_units = 'Ha'\n",
    "NGsBlkXp = 2.0 # 6.0 # Ha G size of the response function\n",
    "NGsBlkXp_units = 'Ha'\n",
    "BndsRnXp  = [1,30]# Bands in the response function\n",
    "GbndRnge = [1,30] # Bands in the Sigma_c\n",
    "\n",
    "study = D.Dataset(num_tasks=1,verbose=True)\n",
    "study.set_postprocessing_function(PP.yambo_parse_data)\n",
    "\n",
    "for k in kpoints:\n",
    "    input_dir = 'DFT_analysis-sg15/kpoints_%s-nbnds_30.save'%k\n",
    "    run_dir = 'MB_analysis/kpoints_%s-nbnds_30'%k\n",
    "    Tools.init_yambo_dir(yambo_dir=run_dir,input_dir=input_dir)    \n",
    "\n",
    "    inp = I.YamboInput(args='yambo -r -k hartee -dyson n -gw0 p -V all',folder=run_dir)\n",
    "    inp.set_extendOut()\n",
    "    inp.set_array_variables(units=EXXRLVcs_units,EXXRLvcs=EXXRLvcs)\n",
    "    inp.set_bandRange(start_band,stop_band)\n",
    "    inp.set_scalar_variables(CUTGeo='slab z')\n",
    "    inp.set_array_variables(RandQpts=Randqpts)\n",
    "    inp.set_array_variables(units='RL',RandGvec=RandGvec,RandGvecW=RandGvecW)\n",
    "    inp.set_bandRange(start_band,stop_band)\n",
    "    inp.set_array_variables(units=NGsBlkXp_units,NGsBlkXp=NGsBlkXp)\n",
    "    inp.set_array_variables(BndsRnXp=BndsRnXp,GbndRnge=GbndRnge)\n",
    "    #inp.set_scalar_variables(SE_ROLEs='q.qp.b',SE_CPU='2.1.16') # for 1 nodes on ismhpc (with 32 mpi and 1 omp per node)\n",
    "    inp.set_scalar_variables(SE_ROLEs='q.qp.b',SE_CPU='4.1.16') # for 2 nodes on ismhpc (with 32 mpi and 1 omp per node)\n",
    "\n",
    "    inp.set_scalar_variables(X_and_IO_ROLEs='q.g.k.c.v',X_and_IO_CPU='4.1.2.2.4')\n",
    "    inp.set_scalar_variables(DIP_ROLEs='k.c.v',DIP_CPU='8.2.4')\n",
    "    inp.set_array_variables(units='RL',FFTGvecs=10000)\n",
    "    \n",
    "    # append run at K\n",
    "    inp.set_kRange(K_index[k],K_index[k])\n",
    "    inp.deactivate_RIM_W()\n",
    "    idd = 'pp-K-kpoints_%s'%k\n",
    "    jobname = [idd,'ndbs']\n",
    "    study.append_run(id=idd,input=inp,runner=code,run_dir=run_dir,jobname=jobname)\n",
    "    inp.activate_RIM_W()\n",
    "    idd = 'pp-K-kpoints_%s-RIM_W'%k\n",
    "    jobname = [idd,'ndbs']\n",
    "    study.append_run(id=idd,input=inp,runner=code,run_dir=run_dir,jobname=jobname,reformat=False)"
   ]
  },
  {
   "cell_type": "code",
   "execution_count": 10,
   "metadata": {},
   "outputs": [
    {
     "data": {
      "text/plain": [
       "['pp-K-kpoints_30',\n",
       " 'pp-K-kpoints_30-RIM_W',\n",
       " 'pp-K-kpoints_42',\n",
       " 'pp-K-kpoints_42-RIM_W',\n",
       " 'pp-K-kpoints_60',\n",
       " 'pp-K-kpoints_60-RIM_W',\n",
       " 'pp-K-kpoints_90',\n",
       " 'pp-K-kpoints_90-RIM_W']"
      ]
     },
     "execution_count": 10,
     "metadata": {},
     "output_type": "execute_result"
    }
   ],
   "source": [
    "study.ids"
   ]
  },
  {
   "cell_type": "code",
   "execution_count": 11,
   "metadata": {},
   "outputs": [],
   "source": [
    "#study.runs[0]"
   ]
  },
  {
   "cell_type": "code",
   "execution_count": 13,
   "metadata": {},
   "outputs": [
    {
     "name": "stdout",
     "output_type": "stream",
     "text": [
      "Run the selection [0, 1, 2, 3, 4, 5, 6, 7] with the parallel task_groups [[0], [1], [2], [3], [4], [5], [6], [7]] \n",
      "\n",
      "Run the task [0] \n",
      "Skip the run of pp-K-kpoints_30\n",
      "Task [0] ended \n",
      " \n",
      "Run the task [1] \n",
      "Skip the run of pp-K-kpoints_30-RIM_W\n",
      "Task [1] ended \n",
      " \n",
      "Run the task [2] \n",
      "Skip the run of pp-K-kpoints_42\n",
      "Task [2] ended \n",
      " \n",
      "Run the task [3] \n",
      "Skip the run of pp-K-kpoints_42-RIM_W\n",
      "Task [3] ended \n",
      " \n",
      "Run the task [4] \n",
      "Skip the run of pp-K-kpoints_60\n",
      "Task [4] ended \n",
      " \n",
      "Run the task [5] \n",
      "Skip the run of pp-K-kpoints_60-RIM_W\n",
      "Task [5] ended \n",
      " \n",
      "Run the task [6] \n",
      "Skip the run of pp-K-kpoints_90\n",
      "Task [6] ended \n",
      " \n",
      "Run the task [7] \n",
      "Skip the run of pp-K-kpoints_90-RIM_W\n",
      "Task [7] ended \n",
      " \n"
     ]
    }
   ],
   "source": [
    "results = study.run()"
   ]
  },
  {
   "cell_type": "code",
   "execution_count": 14,
   "metadata": {},
   "outputs": [],
   "source": [
    "results_K = [results[r] for r in [0,2,4,6]]\n",
    "results_K_rimw = [results[r] for r in [1,3,5,7]]"
   ]
  },
  {
   "cell_type": "code",
   "execution_count": 15,
   "metadata": {},
   "outputs": [
    {
     "name": "stdout",
     "output_type": "stream",
     "text": [
      "91\n",
      "169\n",
      "331\n",
      "721\n"
     ]
    },
    {
     "data": {
      "text/plain": [
       "([2.731084, 2.6696590000000002, 2.633881, 2.612371],\n",
       " [2.5865, 2.5849200000000003, 2.587812, 2.5903519999999998])"
      ]
     },
     "execution_count": 15,
     "metadata": {},
     "output_type": "execute_result"
    }
   ],
   "source": [
    "gap_K, gap_K_rimw = [],[]\n",
    "for ind,k in enumerate(kpoints):\n",
    "    print(K_index[k])\n",
    "    gap_K.append(results_K[ind].data.get_gap(k_full=K_index[k],band_full=start_band,verbose=False))\n",
    "    gap_K_rimw.append(results_K_rimw[ind].data.get_gap(k_full=K_index[k],band_full=start_band,verbose=False))\n",
    "gap_K, gap_K_rimw"
   ]
  },
  {
   "cell_type": "code",
   "execution_count": 16,
   "metadata": {},
   "outputs": [
    {
     "data": {
      "text/plain": [
       "<matplotlib.legend.Legend at 0x7f255bd63400>"
      ]
     },
     "execution_count": 16,
     "metadata": {},
     "output_type": "execute_result"
    },
    {
     "data": {
      "image/png": "[encoded data removed]",
      "text/plain": [
       "<Figure size 864x648 with 1 Axes>"
      ]
     },
     "metadata": {
      "needs_background": "light"
     },
     "output_type": "display_data"
    }
   ],
   "source": [
    "fig, ax = plt.subplots(figsize=(12, 9))\n",
    "ax.plot(kpoints, gap_K,label='RIM ONLY')\n",
    "ax.scatter(kpoints,gap_K)\n",
    "ax.plot(kpoints, gap_K_rimw,label='RIM_W')\n",
    "ax.scatter(kpoints,gap_K_rimw)\n",
    "ax.set_title('Gap at K',size=14)\n",
    "ax.set_xlabel('k-sampling',size=14)\n",
    "ax.legend()"
   ]
  },
  {
   "cell_type": "code",
   "execution_count": 17,
   "metadata": {},
   "outputs": [],
   "source": [
    "import scipy.optimize"
   ]
  },
  {
   "cell_type": "code",
   "execution_count": 18,
   "metadata": {},
   "outputs": [],
   "source": [
    "def monoExp(x, m, t, b):\n",
    "    return m * np.exp(-t * x) + b"
   ]
  },
  {
   "cell_type": "code",
   "execution_count": 45,
   "metadata": {},
   "outputs": [
    {
     "name": "stdout",
     "output_type": "stream",
     "text": [
      "[0.65017779 0.05589498 2.60907597]\n"
     ]
    }
   ],
   "source": [
    "p0 = (0.1, .1, 2.6) # start with values near those we expect\n",
    "params, cv = scipy.optimize.curve_fit(monoExp, kpoints, gap_K, p0)\n",
    "print(params)\n",
    "m, t, b = params\n",
    "k_fit = np.array(kpoints + [120,150])\n",
    "k_fit\n",
    "gap_fit = monoExp(k_fit,m,t,b)"
   ]
  },
  {
   "cell_type": "code",
   "execution_count": 47,
   "metadata": {},
   "outputs": [
    {
     "name": "stdout",
     "output_type": "stream",
     "text": [
      "[0.65386291 2.52799137 2.587396  ]\n"
     ]
    }
   ],
   "source": [
    "p0 = (0.01, .1, 2.6) # start with values near those we expect\n",
    "params, cv = scipy.optimize.curve_fit(monoExp, kpoints, gap_K_rimw, p0)\n",
    "print(params)\n",
    "m, t, b = params\n",
    "k_fit = np.array(kpoints + [120,150])\n",
    "k_fit\n",
    "gap_rimw_fit = monoExp(k_fit,m,t,b)"
   ]
  },
  {
   "cell_type": "code",
   "execution_count": 52,
   "metadata": {},
   "outputs": [
    {
     "data": {
      "text/plain": [
       "<matplotlib.legend.Legend at 0x7f25225d10b8>"
      ]
     },
     "execution_count": 52,
     "metadata": {},
     "output_type": "execute_result"
    },
    {
     "data": {
      "image/png": "[encoded data removed]",
      "text/plain": [
       "<Figure size 864x648 with 1 Axes>"
      ]
     },
     "metadata": {
      "needs_background": "light"
     },
     "output_type": "display_data"
    }
   ],
   "source": [
    "fig, ax = plt.subplots(figsize=(12, 9))\n",
    "ax.plot(kpoints, gap_K,label='RIM ONLY')\n",
    "ax.scatter(kpoints,gap_K)\n",
    "ax.plot(kpoints, gap_K_rimw,label='RIM_W')\n",
    "ax.scatter(kpoints,gap_K_rimw)\n",
    "ax.plot(k_fit, gap_fit,label='RIM extrapolate')\n",
    "#ax.scatter(k_fit, gap_fit)\n",
    "ax.plot(k_fit, gap_rimw_fit,label='RIM_W extrapolate')\n",
    "ax.set_title('Gap at K',size=14)\n",
    "ax.set_xlabel('k-sampling',size=14)\n",
    "ax.legend()"
   ]
  },
  {
   "cell_type": "markdown",
   "metadata": {},
   "source": [
    "There is an estimated asymptotic difference of about "
   ]
  },
  {
   "cell_type": "code",
   "execution_count": 51,
   "metadata": {},
   "outputs": [
    {
     "data": {
      "text/plain": [
       "22.999999999999687"
      ]
     },
     "execution_count": 51,
     "metadata": {},
     "output_type": "execute_result"
    }
   ],
   "source": [
    "1e3*(2.61-2.587)"
   ]
  },
  {
   "cell_type": "markdown",
   "metadata": {},
   "source": [
    "meV"
   ]
  },
  {
   "cell_type": "markdown",
   "metadata": {},
   "source": [
    "### BSE Analysis"
   ]
  },
  {
   "cell_type": "markdown",
   "metadata": {},
   "source": [
    "We perform BSE calculations to discuss the convergence of the binding energy of the first exciton of MoS2"
   ]
  },
  {
   "cell_type": "code",
   "execution_count": 73,
   "metadata": {},
   "outputs": [
    {
     "name": "stdout",
     "output_type": "stream",
     "text": [
      "Initialize a Yambo calculator with scheduler slurm\n"
     ]
    },
    {
     "data": {
      "text/plain": [
       "{'scheduler': 'slurm',\n",
       " 'nodes': 1,\n",
       " 'ntasks_per_node': 32,\n",
       " 'cpus_per_task': 1,\n",
       " 'omp_num_threads': 1,\n",
       " 'gpus_per_node': None,\n",
       " 'memory': '125000',\n",
       " 'time': None,\n",
       " 'partition': 'all12h',\n",
       " 'account': None,\n",
       " 'qos': None,\n",
       " 'map_by': None,\n",
       " 'pe': 1,\n",
       " 'rank_by': None,\n",
       " 'pre_processing': '/home/dalessandro/module_script/yambo_module',\n",
       " 'executable': 'yambo',\n",
       " 'skip': True,\n",
       " 'clean_restart': True,\n",
       " 'dry_run': False,\n",
       " 'wait_end_run': True,\n",
       " 'activate_BeeOND': True,\n",
       " 'verbose': True,\n",
       " 'fatlog': False}"
      ]
     },
     "execution_count": 73,
     "metadata": {},
     "output_type": "execute_result"
    }
   ],
   "source": [
    "# RunRules for ismhpc\n",
    "# The product of ntasks_per_node*cpus_per_task is equal to 32. \n",
    "# Many mpi are needed for better performances\n",
    "nodes = 1\n",
    "ntasks_per_node = 32 #16\n",
    "cpus_per_task = 1 #2\n",
    "omp_num_threads = 1 #2\n",
    "module = '/home/dalessandro/module_script/yambo_module'\n",
    "\n",
    "ntasks = nodes*ntasks_per_node\n",
    "\n",
    "rr = C.RunRules(scheduler='slurm',partition='all12h',\n",
    "                memory='125000',\n",
    "                nodes=nodes,ntasks_per_node=ntasks_per_node,\n",
    "                cpus_per_task=cpus_per_task,\n",
    "                omp_num_threads=omp_num_threads,pre_processing=module)\n",
    "code = C.YamboCalculator(rr,activate_BeeOND=True)\n",
    "code.global_options()"
   ]
  },
  {
   "cell_type": "code",
   "execution_count": 82,
   "metadata": {},
   "outputs": [],
   "source": [
    "kpoints = [30,42,60]"
   ]
  },
  {
   "cell_type": "code",
   "execution_count": 85,
   "metadata": {},
   "outputs": [
    {
     "name": "stdout",
     "output_type": "stream",
     "text": [
      "Initialize a Dataset with 1 parallel tasks\n"
     ]
    }
   ],
   "source": [
    "RandGvec = 100\n",
    "Randqpts = 5e6\n",
    "RandGvecW = 10\n",
    "#EXXRLvcs = 10. # Ha\n",
    "EXXRLVcs_units = 'Ha'\n",
    "\n",
    "BSENGBlk = 2.0 # Ha  value of the BSENGBlk variable (it can be reduced w.r.t the NGsBlkXs!)\n",
    "EXXRLvcs = 10. # Ha use this value for the BSENGexx variable\n",
    "FFTGvecs = 30. # Ha\n",
    "elec_field = [1.,0.,0.]\n",
    "BSEBands = [25,30]\n",
    "BEnRange = [0.,3.] # eV\n",
    "BEnSteps = 1000\n",
    "BSSNEig = 20 # number of excitonic eigenvalues\n",
    "damping = [0.03,0.03] # eV\n",
    "\n",
    "study = D.Dataset(num_tasks=1,verbose=True,skip=True)\n",
    "study.set_postprocessing_function(PP.yambo_parse_data)\n",
    "\n",
    "for k in kpoints:\n",
    "    run_dir = 'MB_analysis/kpoints_%s-nbnds_30/'%k\n",
    "    inp = I.YamboInput('yambo -r -o b -k sex -y s',folder=run_dir)\n",
    "    inp.activate_RIM_W()   \n",
    "    inp.set_scalar_variables(CUTGeo='slab z')\n",
    "    inp.set_array_variables(RandQpts=Randqpts)\n",
    "    inp.set_array_variables(units='RL',RandGvec=RandGvec,RandGvecW=RandGvecW)\n",
    "    inp.set_array_variables(units='Ha',BSENGexx=EXXRLvcs,BSENGBlk=BSENGBlk,FFTGvecs=FFTGvecs)\n",
    "    inp.set_array_variables(BLongDir=elec_field) #,KfnQP_E=[scissor,1.,1.]\n",
    "    inp.set_array_variables(units='eV',BEnRange=BEnRange,BDmRange=damping)\n",
    "    inp.set_scalar_variables(BSEprop= 'abs esrt')\n",
    "    inp.set_scalar_variables(DBsIOoff='BS') # turn off the I/O of the BSE kernel\n",
    "    inp.set_scalar_variables(BS_CPU='16.2.1',BS_ROLEs= 'k.eh.t')     \n",
    "    inp.set_array_variables(BSEBands=BSEBands,BEnSteps=BEnSteps,BSSNEig=BSSNEig)\n",
    "    \n",
    "    inp.deactivate_RIM_W()\n",
    "    idd = 'bse-kpoints_%s'%k\n",
    "    study.append_run(id=idd,input=inp,runner=code,run_dir=run_dir,jobname=[idd,',ndbs'],reformat=True)\n",
    "    inp.activate_RIM_W()\n",
    "    idd = 'bse-kpoints_%s-RIM_W'%k\n",
    "    study.append_run(id=idd,input=inp,runner=code,run_dir=run_dir,jobname=[idd,',ndbs'],reformat=False)"
   ]
  },
  {
   "cell_type": "code",
   "execution_count": 86,
   "metadata": {},
   "outputs": [
    {
     "data": {
      "text/plain": [
       "['bse-kpoints_30',\n",
       " 'bse-kpoints_30-RIM_W',\n",
       " 'bse-kpoints_42',\n",
       " 'bse-kpoints_42-RIM_W',\n",
       " 'bse-kpoints_60',\n",
       " 'bse-kpoints_60-RIM_W']"
      ]
     },
     "execution_count": 86,
     "metadata": {},
     "output_type": "execute_result"
    }
   ],
   "source": [
    "study.ids"
   ]
  },
  {
   "cell_type": "code",
   "execution_count": 87,
   "metadata": {},
   "outputs": [],
   "source": [
    "#study.runs[0]"
   ]
  },
  {
   "cell_type": "code",
   "execution_count": null,
   "metadata": {},
   "outputs": [
    {
     "name": "stdout",
     "output_type": "stream",
     "text": [
      "Run the selection [0, 1, 2, 3, 4, 5] with the parallel task_groups [[0], [1], [2], [3], [4], [5]] \n",
      "\n",
      "Run the task [0] \n",
      "Skip the run of bse-kpoints_30\n",
      "Task [0] ended \n",
      " \n",
      "Run the task [1] \n",
      "Skip the run of bse-kpoints_30-RIM_W\n",
      "Task [1] ended \n",
      " \n",
      "Run the task [2] \n",
      "Skip the run of bse-kpoints_42\n",
      "Task [2] ended \n",
      " \n",
      "Run the task [3] \n",
      "Skip the run of bse-kpoints_42-RIM_W\n",
      "Task [3] ended \n",
      " \n",
      "Run the task [4] \n",
      "run command: mpirun -np 32 yambo -F bse-kpoints_60.in -J \"bse-kpoints_60,,ndbs\" -C bse-kpoints_60\n",
      "slurm submit:  cd MB_analysis/kpoints_60-nbnds_30/ ; sbatch job_bse-kpoints_60.sh\n",
      "computation bse-kpoints_60 is running...\n"
     ]
    }
   ],
   "source": [
    "results = study.run()"
   ]
  },
  {
   "cell_type": "code",
   "execution_count": 79,
   "metadata": {},
   "outputs": [
    {
     "data": {
      "text/plain": [
       "([0.71342, 0.786294], [0.889899, 0.890216])"
      ]
     },
     "execution_count": 79,
     "metadata": {},
     "output_type": "execute_result"
    }
   ],
   "source": [
    "eigen_index = 0\n",
    "exc_eng = [results[ind].data['Esort_q1_slepc_bse']['energy'][eigen_index] for ind in [0,2,4]]\n",
    "exc_eng_rimw = [results[ind].data['Esort_q1_slepc_bse']['energy'][eigen_index] for ind in [1,3,5]]\n",
    "exc_eng,exc_eng_rimw"
   ]
  },
  {
   "cell_type": "code",
   "execution_count": 81,
   "metadata": {},
   "outputs": [
    {
     "data": {
      "text/plain": [
       "<matplotlib.legend.Legend at 0x7f255082ec18>"
      ]
     },
     "execution_count": 81,
     "metadata": {},
     "output_type": "execute_result"
    },
    {
     "data": {
      "image/png": "[encoded data removed]",
      "text/plain": [
       "<Figure size 864x648 with 1 Axes>"
      ]
     },
     "metadata": {
      "needs_background": "light"
     },
     "output_type": "display_data"
    }
   ],
   "source": [
    "fig, ax = plt.subplots(figsize=(12, 9))\n",
    "ax.plot(kpoints, exc_eng,label='RIM ONLY')\n",
    "ax.scatter(kpoints,exc_eng)\n",
    "ax.plot(kpoints, exc_eng_rimw,label='RIM_W')\n",
    "ax.scatter(kpoints,exc_eng_rimw)\n",
    "ax.set_title('Excitonic energy',size=14)\n",
    "ax.set_xlabel('k-sampling',size=14)\n",
    "ax.legend()"
   ]
  },
  {
   "cell_type": "code",
   "execution_count": null,
   "metadata": {},
   "outputs": [],
   "source": []
  },
  {
   "cell_type": "code",
   "execution_count": null,
   "metadata": {},
   "outputs": [],
   "source": []
  },
  {
   "cell_type": "code",
   "execution_count": null,
   "metadata": {},
   "outputs": [],
   "source": []
  },
  {
   "cell_type": "code",
   "execution_count": null,
   "metadata": {},
   "outputs": [],
   "source": []
  },
  {
   "cell_type": "code",
   "execution_count": null,
   "metadata": {},
   "outputs": [],
   "source": []
  },
  {
   "cell_type": "code",
   "execution_count": null,
   "metadata": {},
   "outputs": [],
   "source": []
  },
  {
   "cell_type": "code",
   "execution_count": null,
   "metadata": {},
   "outputs": [],
   "source": []
  }
 ],
 "metadata": {
  "kernelspec": {
   "display_name": "Python 3",
   "language": "python",
   "name": "python3"
  },
  "language_info": {
   "codemirror_mode": {
    "name": "ipython",
    "version": 3
   },
   "file_extension": ".py",
   "mimetype": "text/x-python",
   "name": "python",
   "nbconvert_exporter": "python",
   "pygments_lexer": "ipython3",
   "version": "3.6.8"
  }
 },
 "nbformat": 4,
 "nbformat_minor": 4
}
