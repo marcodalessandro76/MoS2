{
 "cells": [
  {
   "cell_type": "code",
   "execution_count": 3,
   "metadata": {},
   "outputs": [],
   "source": [
    "# useful to autoreload the module without restarting the kernel\n",
    "%load_ext autoreload\n",
    "%autoreload 2"
   ]
  },
  {
   "cell_type": "code",
   "execution_count": 4,
   "metadata": {},
   "outputs": [],
   "source": [
    "from mppi import InputFiles as I, Calculators as C, Datasets as D, Parsers as P, Utilities as U\n",
    "from mppi.Calculators import Tools\n",
    "from mppi.Datasets import PostProcessing as PP\n",
    "import matplotlib.pyplot as plt\n",
    "import numpy as np\n",
    "import os"
   ]
  },
  {
   "cell_type": "markdown",
   "metadata": {},
   "source": [
    "# Analysis of the effects of the RIMW on GW gap and excitonic binding energy"
   ]
  },
  {
   "cell_type": "markdown",
   "metadata": {},
   "source": [
    "We perform a systematic analysis of the effect of the RIMW  procedure. \n",
    "\n",
    "To this scope we compare the GW gap at the K point and the first two excitonic binding energies achieved both with and without the RIMW.\n",
    "The study is performed in functions of the dimension of the k-sampling.\n",
    "\n",
    "For computational reasons we use small (unconverged) values for the relevant computational parameters. Results are expeced to be non converged,\n",
    "however we are interested in understanding if the RIMW procedure leads to a faster and reliable convergence of measured quantities in function\n",
    "of the dimension of the k-points sampling."
   ]
  },
  {
   "cell_type": "code",
   "execution_count": 1,
   "metadata": {},
   "outputs": [],
   "source": [
    "kpoints = [30,42,60]"
   ]
  },
  {
   "cell_type": "markdown",
   "metadata": {},
   "source": [
    "## DFT analysis"
   ]
  },
  {
   "cell_type": "code",
   "execution_count": 11,
   "metadata": {},
   "outputs": [
    {
     "name": "stdout",
     "output_type": "stream",
     "text": [
      "Initialize a QuantumESPRESSO calculator with scheduler slurm\n"
     ]
    }
   ],
   "source": [
    "# RunRules for ismhpc\n",
    "# The product of ntasks_per_node*cpus_per_task is equal to 32. \n",
    "# Many mpi are needed for better performances\n",
    "nodes = 1\n",
    "ntasks_per_node = 16\n",
    "cpus_per_task=2\n",
    "omp_num_threads=2\n",
    "module = '/home/dalessandro/module_script/qe_module'\n",
    "\n",
    "ntasks = nodes*ntasks_per_node\n",
    "\n",
    "rr = C.RunRules(scheduler='slurm',partition='all12h',\n",
    "                memory='125000',time='11:59:00',\n",
    "                nodes=nodes,ntasks_per_node=ntasks_per_node,\n",
    "                cpus_per_task=cpus_per_task,\n",
    "                omp_num_threads=omp_num_threads,pre_processing=module)\n",
    "code = C.QeCalculator(rr,activate_BeeOND=True) #,skip=False,clean_restart=False\n",
    "#code.global_options()"
   ]
  },
  {
   "cell_type": "markdown",
   "metadata": {},
   "source": [
    "We compute the starting point DFT results on a regular grid. \n",
    "\n",
    "We use the sg15 pseudo and the associated converged grond state.\n",
    "\n",
    "We include only 30 bands"
   ]
  },
  {
   "cell_type": "code",
   "execution_count": 12,
   "metadata": {},
   "outputs": [],
   "source": [
    "pseudo_dir = '../pseudos'\n",
    "Mo_pseudo = 'Mo_ONCV_PBE_FR-1.0.upf'\n",
    "S_pseudo = 'S_ONCV_PBE_FR-1.1.upf'\n",
    "run_dir = 'DFT_analysis-sg15'\n",
    "\n",
    "alat_conv = 6.014\n",
    "delta_conv = 0.4932\n",
    "c = 40.0 # vacuum distance in a.u. \n",
    "\n",
    "ecut = 80 # energy cutoff on the wavefunction (Ry)\n",
    "kp = [12,12,1]\n",
    "\n",
    "Mo_cart = np.array([0,1./np.sqrt(3.),0.])\n",
    "S1_cart = np.array([1./2.,1./(2*np.sqrt(3.)),delta_conv])\n",
    "S2_cart = np.array([1./2.,1./(2*np.sqrt(3.)),-delta_conv])\n",
    "\n",
    "inp = I.PwInput()\n",
    "inp.set_scf(force_symmorphic=True,conv_thr=1e-6)\n",
    "inp.set_num_bnds(28)\n",
    "inp.set_pseudo_dir(pseudo_dir=pseudo_dir)\n",
    "inp.set_spinorbit()\n",
    "inp.add_atom(atom='Mo',pseudo_name=Mo_pseudo,mass=42.00)\n",
    "inp.add_atom(atom='S',pseudo_name=S_pseudo,mass=16.00)\n",
    "inp.set_atoms_number(3)\n",
    "inp.set_atomic_positions([['Mo',Mo_cart],['S',S1_cart],['S',S2_cart]],type='alat')\n",
    "inp.set_lattice(ibrav=4,celldm1=alat_conv,celldm3=c/alat_conv)\n",
    "inp.set_energy_cutoff(ecut)\n",
    "inp.set_kpoints(type='automatic',points=kp)\n",
    "#inp"
   ]
  },
  {
   "cell_type": "code",
   "execution_count": 13,
   "metadata": {},
   "outputs": [],
   "source": [
    "nbnds = 30\n",
    "inp.set_nscf(nbnds,force_symmorphic=True,conv_thr=1e-6)"
   ]
  },
  {
   "cell_type": "code",
   "execution_count": 14,
   "metadata": {},
   "outputs": [
    {
     "name": "stdout",
     "output_type": "stream",
     "text": [
      "Initialize a Dataset with 1 parallel tasks\n"
     ]
    }
   ],
   "source": [
    "study = D.Dataset(run_dir=run_dir,num_tasks=1)\n",
    "study.set_postprocessing_function(PP.pw_parse_data)\n",
    "\n",
    "for k in kpoints:\n",
    "    idd = {'kpoints':k,'nbnds':nbnds}\n",
    "    inp.set_prefix(D.name_from_id(idd))\n",
    "    inp.set_kpoints(points=[k,k,1])\n",
    "    study.append_run(id=idd,input=inp,runner=code,source_dir='DFT_analysis-sg15/gs_converged.save')"
   ]
  },
  {
   "cell_type": "code",
   "execution_count": 17,
   "metadata": {},
   "outputs": [
    {
     "data": {
      "text/plain": [
       "{'label': 'Dataset',\n",
       " 'run_dir': 'DFT_analysis-sg15',\n",
       " 'num_tasks': 1,\n",
       " 'verbose': True,\n",
       " 'input': {'control': {'calculation': \"'nscf'\",\n",
       "   'verbosity': \"'high'\",\n",
       "   'prefix': \"'kpoints_60-nbnds_30'\",\n",
       "   'outdir': \"'./'\",\n",
       "   'pseudo_dir': \"'../pseudos'\"},\n",
       "  'system': {'force_symmorphic': '.true.',\n",
       "   'nbnd': 30,\n",
       "   'lspinorb': '.true.',\n",
       "   'noncolin': '.true.',\n",
       "   'ntyp': '2',\n",
       "   'nat': '3',\n",
       "   'ibrav': 4,\n",
       "   'celldm(1)': 6.014,\n",
       "   'celldm(3)': 6.651147322913202,\n",
       "   'ecutwfc': 80},\n",
       "  'electrons': {'diago_full_acc': '.false.', 'conv_thr': 1e-06},\n",
       "  'ions': {},\n",
       "  'cell': {},\n",
       "  'atomic_species': {'Mo': [42.0, 'Mo_ONCV_PBE_FR-1.0.upf'],\n",
       "   'S': [16.0, 'S_ONCV_PBE_FR-1.1.upf']},\n",
       "  'atomic_positions': {'type': 'alat',\n",
       "   'values': [['Mo', array([0.        , 0.57735027, 0.        ])],\n",
       "    ['S', array([0.5       , 0.28867513, 0.4932    ])],\n",
       "    ['S', array([ 0.5       ,  0.28867513, -0.4932    ])]]},\n",
       "  'kpoints': {'type': 'automatic', 'values': ([60, 60, 1], [0.0, 0.0, 0.0])},\n",
       "  'cell_parameters': {}},\n",
       " 'source_dir': 'DFT_analysis-sg15/gs_converged.save',\n",
       " 'name': 'kpoints_60-nbnds_30'}"
      ]
     },
     "execution_count": 17,
     "metadata": {},
     "output_type": "execute_result"
    }
   ],
   "source": [
    "study.runs[2]"
   ]
  },
  {
   "cell_type": "code",
   "execution_count": 18,
   "metadata": {},
   "outputs": [
    {
     "name": "stdout",
     "output_type": "stream",
     "text": [
      "Run the selection [0, 1, 2] with the parallel task_groups [[0], [1], [2]] \n",
      "\n",
      "Run the task [0] \n",
      "copy source_dir DFT_analysis-sg15/gs_converged.save in the /work/dalessandro/TMDs/MoS2/DFT_analysis-sg15/kpoints_30-nbnds_30.save\n",
      "run command: mpirun -np 16 pw.x -inp kpoints_30-nbnds_30.in > kpoints_30-nbnds_30.log\n",
      "slurm submit:  cd DFT_analysis-sg15 ; sbatch job_kpoints_30-nbnds_30.sh\n",
      "computation kpoints_30-nbnds_30 is running...\n",
      "computation kpoints_30-nbnds_30 ended\n",
      "Task [0] ended \n",
      " \n",
      "Run the task [1] \n",
      "copy source_dir DFT_analysis-sg15/gs_converged.save in the /work/dalessandro/TMDs/MoS2/DFT_analysis-sg15/kpoints_42-nbnds_30.save\n",
      "run command: mpirun -np 16 pw.x -inp kpoints_42-nbnds_30.in > kpoints_42-nbnds_30.log\n",
      "slurm submit:  cd DFT_analysis-sg15 ; sbatch job_kpoints_42-nbnds_30.sh\n",
      "computation kpoints_42-nbnds_30 is running...\n",
      "computation kpoints_42-nbnds_30 ended\n",
      "Task [1] ended \n",
      " \n",
      "Run the task [2] \n",
      "copy source_dir DFT_analysis-sg15/gs_converged.save in the /work/dalessandro/TMDs/MoS2/DFT_analysis-sg15/kpoints_60-nbnds_30.save\n",
      "run command: mpirun -np 16 pw.x -inp kpoints_60-nbnds_30.in > kpoints_60-nbnds_30.log\n",
      "slurm submit:  cd DFT_analysis-sg15 ; sbatch job_kpoints_60-nbnds_30.sh\n",
      "computation kpoints_60-nbnds_30 is running...\n",
      "computation kpoints_60-nbnds_30 ended\n",
      "Task [2] ended \n",
      " \n"
     ]
    }
   ],
   "source": [
    "results = study.run()"
   ]
  },
  {
   "cell_type": "markdown",
   "metadata": {},
   "source": [
    "## GW analysis"
   ]
  },
  {
   "cell_type": "code",
   "execution_count": null,
   "metadata": {},
   "outputs": [],
   "source": [
    "# RunRules for ismhpc\n",
    "# The product of ntasks_per_node*cpus_per_task is equal to 32. \n",
    "# Many mpi are needed for better performances\n",
    "nodes = 1\n",
    "ntasks_per_node = 32 #16\n",
    "cpus_per_task = 1 #2\n",
    "omp_num_threads = 1 #2\n",
    "module = '/home/dalessandro/module_script/yambo_module'\n",
    "\n",
    "ntasks = nodes*ntasks_per_node\n",
    "\n",
    "rr = C.RunRules(scheduler='slurm',partition='all12h',\n",
    "                memory='125000',\n",
    "                nodes=nodes,ntasks_per_node=ntasks_per_node,\n",
    "                cpus_per_task=cpus_per_task,\n",
    "                omp_num_threads=omp_num_threads,pre_processing=module)\n",
    "code = C.YamboCalculator(rr,activate_BeeOND=True)\n",
    "#code.global_options()"
   ]
  },
  {
   "cell_type": "markdown",
   "metadata": {},
   "source": [
    "We study the convergence of the GW gap at the K point.\n",
    "\n",
    "Note that the cutoff of the various computational parameters have been reduced"
   ]
  },
  {
   "cell_type": "code",
   "execution_count": 23,
   "metadata": {},
   "outputs": [
    {
     "name": "stdout",
     "output_type": "stream",
     "text": [
      "16 1\n",
      "Initialize a Dataset with 1 parallel tasks\n",
      "SAVE folder MB_analysis/kpoints_30-nbnds_30/SAVE already present. No operations performed.\n",
      "SAVE folder MB_analysis/kpoints_42-nbnds_30/SAVE already present. No operations performed.\n",
      "SAVE folder MB_analysis/kpoints_60-nbnds_30/SAVE already present. No operations performed.\n"
     ]
    }
   ],
   "source": [
    "ntasks_c = 16\n",
    "ntasks_v = int(ntasks/ntasks_c)\n",
    "print(ntasks_c,ntasks_v)\n",
    "\n",
    "start_band,stop_band = 26,27\n",
    "K_index = {30:91,42:169,60:331,90:None}\n",
    "RandGvec = 100\n",
    "Randqpts = 5e6\n",
    "RandGvecW = 5\n",
    "EXXRLvcs = 10 # 30. # Ha\n",
    "EXXRLVcs_units = 'Ha'\n",
    "NGsBlkXp = 2.0 # 6.0 # Ha G size of the response function\n",
    "NGsBlkXp_units = 'Ha'\n",
    "BndsRnXp  = [1,30]# Bands in the response function\n",
    "GbndRnge = [1,30] # Bands in the Sigma_c\n",
    "\n",
    "study = D.Dataset(num_tasks=1,verbose=True)\n",
    "study.set_postprocessing_function(PP.yambo_parse_data)\n",
    "\n",
    "for k in kpoints:\n",
    "    input_dir = 'DFT_analysis-sg15/kpoints_%s-nbnds_30.save'%k\n",
    "    run_dir = 'MB_analysis/kpoints_%s-nbnds_30'%k\n",
    "    Tools.init_yambo_dir(yambo_dir=run_dir,input_dir=input_dir)    \n",
    "\n",
    "    inp = I.YamboInput(args='yambo -r -k hartee -dyson n -gw0 p -V all',folder=run_dir)\n",
    "    inp.set_extendOut()\n",
    "    inp.set_array_variables(units=EXXRLVcs_units,EXXRLvcs=EXXRLvcs)\n",
    "    inp.set_bandRange(start_band,stop_band)\n",
    "    inp.set_scalar_variables(CUTGeo='slab z')\n",
    "    inp.set_array_variables(RandQpts=Randqpts)\n",
    "    inp.set_array_variables(units='RL',RandGvec=RandGvec,RandGvecW=RandGvecW)\n",
    "    inp.set_bandRange(start_band,stop_band)\n",
    "    inp.set_array_variables(units=NGsBlkXp_units,NGsBlkXp=NGsBlkXp)\n",
    "    inp.set_array_variables(BndsRnXp=BndsRnXp,GbndRnge=GbndRnge)\n",
    "    inp.set_scalar_variables(SE_ROLEs='q.qp.b',SE_CPU='2.1.16') # for 1 nodes on ismhpc (with 32 mpi and 1 omp per node)\n",
    "    inp.set_scalar_variables(X_and_IO_ROLEs='q.g.k.c.v',X_and_IO_CPU='1.1.1.%s.%s'%(ntasks_c,ntasks_v))\n",
    "    inp.set_scalar_variables(DIP_ROLEs='k.c.v',DIP_CPU='1.%s.%s'%(ntasks_c,ntasks_v))\n",
    "    \n",
    "    # append run at K\n",
    "    inp.set_kRange(K_index[k],K_index[k])\n",
    "    inp.deactivate_RIM_W()\n",
    "    idd = 'pp-K-kpoints_%s'%k\n",
    "    jobname = [idd,'ndbs']\n",
    "    study.append_run(id=idd,input=inp,runner=code,run_dir=run_dir,jobname=jobname)\n",
    "    inp.activate_RIM_W()\n",
    "    idd = 'pp-K-kpoints_%s-RIM_W'%k\n",
    "    jobname = [idd,'ndbs']\n",
    "    study.append_run(id=idd,input=inp,runner=code,run_dir=run_dir,jobname=jobname,reformat=False)"
   ]
  },
  {
   "cell_type": "code",
   "execution_count": 24,
   "metadata": {},
   "outputs": [
    {
     "data": {
      "text/plain": [
       "['pp-K-kpoints_30',\n",
       " 'pp-K-kpoints_30-RIM_W',\n",
       " 'pp-K-kpoints_42',\n",
       " 'pp-K-kpoints_42-RIM_W',\n",
       " 'pp-K-kpoints_60',\n",
       " 'pp-K-kpoints_60-RIM_W']"
      ]
     },
     "execution_count": 24,
     "metadata": {},
     "output_type": "execute_result"
    }
   ],
   "source": [
    "study.ids"
   ]
  },
  {
   "cell_type": "code",
   "execution_count": 27,
   "metadata": {},
   "outputs": [
    {
     "data": {
      "text/plain": [
       "{'label': 'Dataset',\n",
       " 'run_dir': 'MB_analysis/kpoints_30-nbnds_30',\n",
       " 'num_tasks': 1,\n",
       " 'verbose': True,\n",
       " 'input': {'args': 'yambo -r -k hartee -dyson n -gw0 p -V all',\n",
       "  'folder': 'MB_analysis/kpoints_30-nbnds_30',\n",
       "  'filename': 'yambo.in',\n",
       "  'arguments': ['rim_cut', 'em1d', 'gw0', 'HF_and_locXC', 'ppa', 'ExtendOut'],\n",
       "  'variables': {'StdoHash': [40.0, ''],\n",
       "   'Nelectro': [26.0, ''],\n",
       "   'ElecTemp': [0.0, 'eV'],\n",
       "   'BoseTemp': [-1.0, 'eV'],\n",
       "   'OccTresh': [1e-05, ''],\n",
       "   'NLogCPUs': [0.0, ''],\n",
       "   'MEM_tresh': [80240.0, 'Kb'],\n",
       "   'FFTGvecs': [18825.0, 'RL'],\n",
       "   'X_and_IO_nCPU_LinAlg_INV': [-1.0, ''],\n",
       "   'X_Threads': [0.0, ''],\n",
       "   'DIP_Threads': [0.0, ''],\n",
       "   'SE_Threads': [0.0, ''],\n",
       "   'RandQpts': [5000000.0, ''],\n",
       "   'RandGvec': [100, 'RL'],\n",
       "   'IDEm1Ref': [0.0, ''],\n",
       "   'CUTRadius': [0.0, ''],\n",
       "   'CUTCylLen': [0.0, ''],\n",
       "   'CUTwsGvec': [0.7, ''],\n",
       "   'EXXRLvcs': [10, 'Ha'],\n",
       "   'VXCRLvcs': [83877.0, 'RL'],\n",
       "   'XfnQP_INTERP_NN': [1.0, ''],\n",
       "   'XfnQP_INTERP_shells': [20.0, ''],\n",
       "   'XfnQP_Wv_E': [0.0, 'eV'],\n",
       "   'XfnQP_Wv_dos': [0.0, 'eV'],\n",
       "   'XfnQP_Wc_E': [0.0, 'eV'],\n",
       "   'XfnQP_Wc_dos': [0.0, 'eV'],\n",
       "   'NGsBlkXp': [2.0, 'Ha'],\n",
       "   'CGrdSpXp': [100.0, ''],\n",
       "   'PPAPntXp': [27.21138, 'eV'],\n",
       "   'XTermEn': [40.0, 'eV'],\n",
       "   'GfnQP_INTERP_NN': [1.0, ''],\n",
       "   'GfnQP_INTERP_shells': [20.0, ''],\n",
       "   'GfnQP_Wv_E': [0.0, 'eV'],\n",
       "   'GfnQP_Wv_dos': [0.0, 'eV'],\n",
       "   'GfnQP_Wc_E': [0.0, 'eV'],\n",
       "   'GfnQP_Wc_dos': [0.0, 'eV'],\n",
       "   'BoseCut': [0.1, ''],\n",
       "   'GDamping': [0.1, 'eV'],\n",
       "   'dScStep': [0.1, 'eV'],\n",
       "   'GTermEn': [40.81708, 'eV'],\n",
       "   'SCEtresh': [0.01, 'eV'],\n",
       "   'DBsIOoff': 'none',\n",
       "   'DBsFRAGpm': 'none',\n",
       "   'PAR_def_mode': 'balanced',\n",
       "   'CUTGeo': 'slab z',\n",
       "   'Chimod': 'HARTREE',\n",
       "   'ChiLinAlgMod': 'LIN_SYS',\n",
       "   'XfnQPdb': 'none',\n",
       "   'XfnQP_DbGd_INTERP_mode': 'NN',\n",
       "   'XTermKind': 'none',\n",
       "   'kind': 'BG',\n",
       "   'GfnQPdb': 'none',\n",
       "   'GfnQP_DbGd_INTERP_mode': 'NN',\n",
       "   'GTermKind': 'none',\n",
       "   'DysSolver': 'n',\n",
       "   'XfnQP_Z': [(1+0j), ''],\n",
       "   'GfnQP_Z': [(1+0j), ''],\n",
       "   'Em1Anys': [[0.0, 0.0, 0.0], ''],\n",
       "   'CUTBox': [[0.0, 0.0, 0.0], ''],\n",
       "   'XfnQP_E': [[0.0, 1.0, 1.0], ''],\n",
       "   'XfnQP_Wv': [[0.0, 0.0, 0.0], ''],\n",
       "   'XfnQP_Wc': [[0.0, 0.0, 0.0], ''],\n",
       "   'QpntsRXp': [[1, 91], ''],\n",
       "   'BndsRnXp': [[1, 30], ''],\n",
       "   'EhEngyXp': [['-1.000000', '-1.000000'], 'eV'],\n",
       "   'LongDrXp': [[1.0, 0.0, 0.0], ''],\n",
       "   'GfnQP_E': [[0.0, 1.0, 1.0], ''],\n",
       "   'GfnQP_Wv': [[0.0, 0.0, 0.0], ''],\n",
       "   'GfnQP_Wc': [[0.0, 0.0, 0.0], ''],\n",
       "   'GbndRnge': [[1, 30], ''],\n",
       "   'QPkrange': [[91, 91, 26, 27], ''],\n",
       "   'QPerange': [[1, 91, 0.0, '-1.000000'], ''],\n",
       "   'RandGvecW': [5, 'RL'],\n",
       "   'SE_ROLEs': 'q.qp.b',\n",
       "   'SE_CPU': '2.1.16',\n",
       "   'X_and_IO_ROLEs': 'q.g.k.c.v',\n",
       "   'X_and_IO_CPU': '1.1.1.16.1',\n",
       "   'DIP_ROLEs': 'k.c.v',\n",
       "   'DIP_CPU': '1.16.1'}},\n",
       " 'jobname': ['pp-K-kpoints_30', 'ndbs'],\n",
       " 'name': 'pp-K-kpoints_30'}"
      ]
     },
     "execution_count": 27,
     "metadata": {},
     "output_type": "execute_result"
    }
   ],
   "source": [
    "study.runs[0]"
   ]
  },
  {
   "cell_type": "code",
   "execution_count": 8,
   "metadata": {},
   "outputs": [
    {
     "name": "stdout",
     "output_type": "stream",
     "text": [
      "Run the selection [0, 1, 2, 3, 4, 5, 6, 7, 8, 9, 10, 11] with the parallel task_groups [[0, 1], [2, 3], [4, 5], [6, 7], [8, 9], [10, 11]] \n",
      "\n",
      "Run the task [0, 1] \n",
      "Skip the run of pp-G-kpoints_18Skip the run of\n",
      " pp-G-kpoints_18-RIM_W\n",
      "Task [0, 1] ended \n",
      " \n",
      "Run the task [2, 3] \n",
      "Skip the run of pp-K-kpoints_18Skip the run of\n",
      " pp-K-kpoints_18-RIM_W\n",
      "Task [2, 3] ended \n",
      " \n",
      "Run the task [4, 5] \n",
      "Skip the run of pp-G-kpoints_30Skip the run of\n",
      " pp-G-kpoints_30-RIM_W\n",
      "Task [4, 5] ended \n",
      " \n",
      "Run the task [6, 7] \n",
      "Skip the run of pp-K-kpoints_30Skip the run of\n",
      " pp-K-kpoints_30-RIM_W\n",
      "Task [6, 7] ended \n",
      " \n",
      "Run the task [8, 9] \n",
      "Skip the run of pp-G-kpoints_42Skip the run of\n",
      " pp-G-kpoints_42-RIM_W\n",
      "Task [8, 9] ended \n",
      " \n",
      "Run the task [10, 11] \n",
      "Skip the run of pp-K-kpoints_42\n",
      "Skip the run of pp-K-kpoints_42-RIM_W\n",
      "Task [10, 11] ended \n",
      " \n"
     ]
    }
   ],
   "source": [
    "results = study.run(selection=[0,2,4])"
   ]
  },
  {
   "cell_type": "code",
   "execution_count": 9,
   "metadata": {},
   "outputs": [],
   "source": [
    "results_K = [results[r] for r in [0,2,4]]\n",
    "results_K_rimw = [results[r] for r in [1,3,5]]"
   ]
  },
  {
   "cell_type": "code",
   "execution_count": 11,
   "metadata": {},
   "outputs": [
    {
     "data": {
      "text/plain": [
       "([3.088822, 2.894613, 2.822524], [2.7199869999999997, 2.713771, 2.713503])"
      ]
     },
     "execution_count": 11,
     "metadata": {},
     "output_type": "execute_result"
    }
   ],
   "source": [
    "gap_K, gap_K_rimw = [],[]\n",
    "for ind,k in enumerate(kpoints):\n",
    "    gap_K.append(results_K[ind].data.get_gap(k_full=K_index[k],band_full=start_band,verbose=False))\n",
    "    gap_K_rimw.append(results_K_rimw[ind].data.get_gap(k_full=K_index[k],band_full=start_band,verbose=False))\n",
    "gap_K, gap_K_rimw"
   ]
  },
  {
   "cell_type": "code",
   "execution_count": 12,
   "metadata": {},
   "outputs": [
    {
     "data": {
      "image/png": "[encoded data removed]",
      "text/plain": [
       "<Figure size 864x360 with 2 Axes>"
      ]
     },
     "metadata": {
      "needs_background": "light"
     },
     "output_type": "display_data"
    }
   ],
   "source": [
    "fig, ax = plt.subplots(figsize=(12, 9))\n",
    "ax.plot(kpoints, gap_K,label='RIM ONLY')\n",
    "ax.scatter(kpoints,gap_K)\n",
    "ax.plot(kpoints, gap_K_rimw,label='RIM_W')\n",
    "ax.scatter(kpoints,gap_K_rimw)\n",
    "ax.set_title('Gap at K',size=14)\n",
    "ax.set_xlabel('k-sampling',size=14)\n",
    "ax.legend()"
   ]
  },
  {
   "cell_type": "code",
   "execution_count": null,
   "metadata": {},
   "outputs": [],
   "source": []
  },
  {
   "cell_type": "code",
   "execution_count": null,
   "metadata": {},
   "outputs": [],
   "source": []
  },
  {
   "cell_type": "code",
   "execution_count": null,
   "metadata": {},
   "outputs": [],
   "source": []
  },
  {
   "cell_type": "code",
   "execution_count": null,
   "metadata": {},
   "outputs": [],
   "source": []
  },
  {
   "cell_type": "code",
   "execution_count": null,
   "metadata": {},
   "outputs": [],
   "source": []
  }
 ],
 "metadata": {
  "kernelspec": {
   "display_name": "Python 3",
   "language": "python",
   "name": "python3"
  },
  "language_info": {
   "codemirror_mode": {
    "name": "ipython",
    "version": 3
   },
   "file_extension": ".py",
   "mimetype": "text/x-python",
   "name": "python",
   "nbconvert_exporter": "python",
   "pygments_lexer": "ipython3",
   "version": "3.6.8"
  }
 },
 "nbformat": 4,
 "nbformat_minor": 4
}
